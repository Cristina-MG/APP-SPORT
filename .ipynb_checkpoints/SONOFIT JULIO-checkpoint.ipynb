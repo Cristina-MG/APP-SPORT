{
 "cells": [
  {
   "cell_type": "markdown",
   "id": "intermediate-replacement",
   "metadata": {},
   "source": [
    "# LIBRERIAS Y DATASETS"
   ]
  },
  {
   "cell_type": "markdown",
   "id": "remarkable-starter",
   "metadata": {
    "ExecuteTime": {
     "end_time": "2021-07-08T19:14:07.289047Z",
     "start_time": "2021-07-08T19:14:07.274266Z"
    }
   },
   "source": [
    "## LIBRERIAS"
   ]
  },
  {
   "cell_type": "code",
   "execution_count": 55,
   "id": "environmental-coffee",
   "metadata": {
    "ExecuteTime": {
     "end_time": "2021-07-13T16:26:16.318240Z",
     "start_time": "2021-07-13T16:26:16.312009Z"
    }
   },
   "outputs": [],
   "source": [
    "import pandas as pd\n",
    "import numpy as np\n",
    "from os import listdir\n",
    "import shutil\n",
    "from os import remove\n",
    "\n",
    "import matplotlib.pyplot as plt\n",
    "import seaborn as sns\n",
    "import pandas as pd\n",
    "import numpy as np\n",
    "from sklearn.neighbors import KernelDensity\n",
    "\n",
    "import matplotlib as mpl\n",
    "import matplotlib.pyplot as plt\n",
    "import matplotlib.gridspec as gridspec\n",
    "from PIL import Image"
   ]
  },
  {
   "cell_type": "code",
   "execution_count": 57,
   "id": "fixed-composer",
   "metadata": {
    "ExecuteTime": {
     "end_time": "2021-07-13T16:26:21.055731Z",
     "start_time": "2021-07-13T16:26:21.052042Z"
    }
   },
   "outputs": [],
   "source": [
    "import matplotlib as mpl\n",
    "mpl.rcParams['font.size'] = 15.0"
   ]
  },
  {
   "cell_type": "markdown",
   "id": "extraordinary-mediterranean",
   "metadata": {},
   "source": [
    "## CLIENTES  CSV"
   ]
  },
  {
   "cell_type": "code",
   "execution_count": 2,
   "id": "reasonable-copyright",
   "metadata": {
    "ExecuteTime": {
     "end_time": "2021-07-13T16:07:01.278477Z",
     "start_time": "2021-07-13T16:07:01.254472Z"
    }
   },
   "outputs": [],
   "source": [
    "df = pd.read_csv('csvs/clientes.csv')\n",
    "df = pd.DataFrame(df)"
   ]
  },
  {
   "cell_type": "code",
   "execution_count": 3,
   "id": "assured-nomination",
   "metadata": {
    "ExecuteTime": {
     "end_time": "2021-07-13T16:07:01.506158Z",
     "start_time": "2021-07-13T16:07:01.420649Z"
    }
   },
   "outputs": [
    {
     "data": {
      "text/html": [
       "<div>\n",
       "<style scoped>\n",
       "    .dataframe tbody tr th:only-of-type {\n",
       "        vertical-align: middle;\n",
       "    }\n",
       "\n",
       "    .dataframe tbody tr th {\n",
       "        vertical-align: top;\n",
       "    }\n",
       "\n",
       "    .dataframe thead th {\n",
       "        text-align: right;\n",
       "    }\n",
       "</style>\n",
       "<table border=\"1\" class=\"dataframe\">\n",
       "  <thead>\n",
       "    <tr style=\"text-align: right;\">\n",
       "      <th></th>\n",
       "      <th>Unnamed: 0</th>\n",
       "      <th>Name</th>\n",
       "      <th>Status</th>\n",
       "      <th>Cliente</th>\n",
       "      <th>Entrenadores</th>\n",
       "      <th>Primera Entrevista (Calendly)</th>\n",
       "      <th>OS</th>\n",
       "      <th>Cliente Desde</th>\n",
       "      <th>Nutricion</th>\n",
       "      <th>Nutricionista</th>\n",
       "      <th>Nutrición Desde</th>\n",
       "      <th>Meses Nutri</th>\n",
       "      <th>Edad</th>\n",
       "      <th>Objetivo</th>\n",
       "      <th>Dias/semana actual</th>\n",
       "      <th>Dias/semana Sono</th>\n",
       "      <th>Alimentacion</th>\n",
       "      <th>Fitness Band</th>\n",
       "      <th>user_id</th>\n",
       "    </tr>\n",
       "  </thead>\n",
       "  <tbody>\n",
       "    <tr>\n",
       "      <th>0</th>\n",
       "      <td>0</td>\n",
       "      <td>Ana</td>\n",
       "      <td>Churned</td>\n",
       "      <td>NaN</td>\n",
       "      <td>NaN</td>\n",
       "      <td>NaN</td>\n",
       "      <td>iOS</td>\n",
       "      <td>9/17/2020</td>\n",
       "      <td>NaN</td>\n",
       "      <td>NaN</td>\n",
       "      <td>9/17/2020</td>\n",
       "      <td>8.7</td>\n",
       "      <td>26.0</td>\n",
       "      <td>Mejorar rendimiento en un deporte</td>\n",
       "      <td>5-6</td>\n",
       "      <td>5-6 días</td>\n",
       "      <td>5.0</td>\n",
       "      <td>No tengo</td>\n",
       "      <td>recgxlRBB2s1z9n3K</td>\n",
       "    </tr>\n",
       "    <tr>\n",
       "      <th>1</th>\n",
       "      <td>1</td>\n",
       "      <td>Borja</td>\n",
       "      <td>Churned</td>\n",
       "      <td>NaN</td>\n",
       "      <td>Oscar</td>\n",
       "      <td>NaN</td>\n",
       "      <td>iOS</td>\n",
       "      <td>9/17/2020</td>\n",
       "      <td>NaN</td>\n",
       "      <td>NaN</td>\n",
       "      <td>9/17/2020</td>\n",
       "      <td>8.7</td>\n",
       "      <td>29.0</td>\n",
       "      <td>Mejorar cardio y/o resistencia</td>\n",
       "      <td>1-2</td>\n",
       "      <td>2 días</td>\n",
       "      <td>4.0</td>\n",
       "      <td>Polar</td>\n",
       "      <td>recCjycZK9bi7Ccwt</td>\n",
       "    </tr>\n",
       "    <tr>\n",
       "      <th>2</th>\n",
       "      <td>2</td>\n",
       "      <td>Angel</td>\n",
       "      <td>Churned</td>\n",
       "      <td>checked</td>\n",
       "      <td>Oscar</td>\n",
       "      <td>NaN</td>\n",
       "      <td>iOS</td>\n",
       "      <td>9/22/2020</td>\n",
       "      <td>NaN</td>\n",
       "      <td>NaN</td>\n",
       "      <td>9/22/2020</td>\n",
       "      <td>8.5</td>\n",
       "      <td>20.0</td>\n",
       "      <td>Recuperarme de una lesión y/o reducir molestias</td>\n",
       "      <td>5-6</td>\n",
       "      <td>5-6 días</td>\n",
       "      <td>2.0</td>\n",
       "      <td>No tengo</td>\n",
       "      <td>recyvFsiSa7Cuy52q</td>\n",
       "    </tr>\n",
       "  </tbody>\n",
       "</table>\n",
       "</div>"
      ],
      "text/plain": [
       "   Unnamed: 0   Name   Status  Cliente Entrenadores  \\\n",
       "0           0    Ana  Churned      NaN          NaN   \n",
       "1           1  Borja  Churned      NaN        Oscar   \n",
       "2           2  Angel  Churned  checked        Oscar   \n",
       "\n",
       "  Primera Entrevista (Calendly)   OS Cliente Desde Nutricion Nutricionista  \\\n",
       "0                           NaN  iOS     9/17/2020       NaN           NaN   \n",
       "1                           NaN  iOS     9/17/2020       NaN           NaN   \n",
       "2                           NaN  iOS     9/22/2020       NaN           NaN   \n",
       "\n",
       "  Nutrición Desde  Meses Nutri  Edad  \\\n",
       "0       9/17/2020          8.7  26.0   \n",
       "1       9/17/2020          8.7  29.0   \n",
       "2       9/22/2020          8.5  20.0   \n",
       "\n",
       "                                          Objetivo Dias/semana actual  \\\n",
       "0                Mejorar rendimiento en un deporte                5-6   \n",
       "1                   Mejorar cardio y/o resistencia                1-2   \n",
       "2  Recuperarme de una lesión y/o reducir molestias                5-6   \n",
       "\n",
       "  Dias/semana Sono  Alimentacion Fitness Band            user_id  \n",
       "0         5-6 días           5.0     No tengo  recgxlRBB2s1z9n3K  \n",
       "1           2 días           4.0        Polar  recCjycZK9bi7Ccwt  \n",
       "2         5-6 días           2.0     No tengo  recyvFsiSa7Cuy52q  "
      ]
     },
     "execution_count": 3,
     "metadata": {},
     "output_type": "execute_result"
    }
   ],
   "source": [
    "df.head(3)"
   ]
  },
  {
   "cell_type": "code",
   "execution_count": 4,
   "id": "announced-satisfaction",
   "metadata": {
    "ExecuteTime": {
     "end_time": "2021-07-13T16:07:02.376874Z",
     "start_time": "2021-07-13T16:07:02.360186Z"
    },
    "scrolled": false
   },
   "outputs": [
    {
     "name": "stdout",
     "output_type": "stream",
     "text": [
      "<class 'pandas.core.frame.DataFrame'>\n",
      "RangeIndex: 79 entries, 0 to 78\n",
      "Data columns (total 19 columns):\n",
      " #   Column                         Non-Null Count  Dtype  \n",
      "---  ------                         --------------  -----  \n",
      " 0   Unnamed: 0                     79 non-null     int64  \n",
      " 1   Name                           79 non-null     object \n",
      " 2   Status                         79 non-null     object \n",
      " 3   Cliente                        44 non-null     object \n",
      " 4   Entrenadores                   70 non-null     object \n",
      " 5   Primera Entrevista (Calendly)  37 non-null     object \n",
      " 6   OS                             12 non-null     object \n",
      " 7   Cliente Desde                  20 non-null     object \n",
      " 8   Nutricion                      4 non-null      object \n",
      " 9   Nutricionista                  5 non-null      object \n",
      " 10  Nutrición Desde                11 non-null     object \n",
      " 11  Meses Nutri                    11 non-null     float64\n",
      " 12  Edad                           43 non-null     float64\n",
      " 13  Objetivo                       50 non-null     object \n",
      " 14  Dias/semana actual             16 non-null     object \n",
      " 15  Dias/semana Sono               48 non-null     object \n",
      " 16  Alimentacion                   11 non-null     float64\n",
      " 17  Fitness Band                   11 non-null     object \n",
      " 18  user_id                        79 non-null     object \n",
      "dtypes: float64(3), int64(1), object(15)\n",
      "memory usage: 11.9+ KB\n"
     ]
    }
   ],
   "source": [
    "df.info()"
   ]
  },
  {
   "cell_type": "code",
   "execution_count": 5,
   "id": "toxic-examination",
   "metadata": {
    "ExecuteTime": {
     "end_time": "2021-07-13T16:07:03.164858Z",
     "start_time": "2021-07-13T16:07:03.158903Z"
    }
   },
   "outputs": [],
   "source": [
    "# Remove unnecesary columns \n",
    "df = df.drop(columns =[ 'Unnamed: 0', 'user_id','Cliente',\n",
    "                                   'Dias/semana Sono', 'Dias/semana actual','Primera Entrevista (Calendly)'\n",
    "                                   , 'OS', 'Nutricionista'])"
   ]
  },
  {
   "cell_type": "code",
   "execution_count": 6,
   "id": "personalized-ready",
   "metadata": {
    "ExecuteTime": {
     "end_time": "2021-07-13T16:07:04.088071Z",
     "start_time": "2021-07-13T16:07:04.080764Z"
    }
   },
   "outputs": [],
   "source": [
    "#add sex column\n",
    "women = [\n",
    "    'Ana', 'Clara', 'Nona', 'Macarena', 'Magdalena', 'Elena', 'Maru',\n",
    "    'Paulina', 'Carmen', 'Claudia', 'Itziar', 'Lola', 'Laura', 'Sonia',\n",
    "    'Carla', 'Benxa', 'Isi', 'Gaby', 'Maribel', 'Estefania', 'Bilal', 'Maria',\n",
    "    'Carolina', 'ElenaM', 'Pilar', 'MiriamG', 'Leticia Salmeron', 'fati',\n",
    "    'Maria dolores Martinez neria', 'Layla', 'Toñi Avila', 'PaulaG', 'Alba',\n",
    "    'Natalia ', 'Leidy', 'Esther', 'Matilde'\n",
    "]\n",
    "\n",
    "df['Sex'] = df['Name']\n",
    "\n",
    "def sex(x):\n",
    "    if x in women:\n",
    "        x = 0\n",
    "    else:\n",
    "        x = 1\n",
    "    return x\n",
    "        \n",
    "df['Sex'] = df['Name'].apply(sex)"
   ]
  },
  {
   "cell_type": "code",
   "execution_count": 7,
   "id": "amended-portal",
   "metadata": {
    "ExecuteTime": {
     "end_time": "2021-07-13T16:07:05.025162Z",
     "start_time": "2021-07-13T16:07:05.018703Z"
    }
   },
   "outputs": [
    {
     "data": {
      "text/plain": [
       "array(['Churned', 'Usuario', 'Formulario', 'test', 'Out', 'Trial'],\n",
       "      dtype=object)"
      ]
     },
     "execution_count": 7,
     "metadata": {},
     "output_type": "execute_result"
    }
   ],
   "source": [
    "df['Status'].unique()"
   ]
  },
  {
   "cell_type": "code",
   "execution_count": 8,
   "id": "wrapped-water",
   "metadata": {
    "ExecuteTime": {
     "end_time": "2021-07-13T16:07:06.296567Z",
     "start_time": "2021-07-13T16:07:06.267499Z"
    },
    "scrolled": false
   },
   "outputs": [
    {
     "data": {
      "text/html": [
       "<div>\n",
       "<style scoped>\n",
       "    .dataframe tbody tr th:only-of-type {\n",
       "        vertical-align: middle;\n",
       "    }\n",
       "\n",
       "    .dataframe tbody tr th {\n",
       "        vertical-align: top;\n",
       "    }\n",
       "\n",
       "    .dataframe thead th {\n",
       "        text-align: right;\n",
       "    }\n",
       "</style>\n",
       "<table border=\"1\" class=\"dataframe\">\n",
       "  <thead>\n",
       "    <tr style=\"text-align: right;\">\n",
       "      <th></th>\n",
       "      <th>Name</th>\n",
       "      <th>Status</th>\n",
       "      <th>Entrenadores</th>\n",
       "      <th>Cliente Desde</th>\n",
       "      <th>Nutricion</th>\n",
       "      <th>Nutrición Desde</th>\n",
       "      <th>Meses Nutri</th>\n",
       "      <th>Edad</th>\n",
       "      <th>Objetivo</th>\n",
       "      <th>Alimentacion</th>\n",
       "      <th>Fitness Band</th>\n",
       "      <th>Sex</th>\n",
       "    </tr>\n",
       "  </thead>\n",
       "  <tbody>\n",
       "    <tr>\n",
       "      <th>0</th>\n",
       "      <td>Ana</td>\n",
       "      <td>Churned</td>\n",
       "      <td>NaN</td>\n",
       "      <td>9/17/2020</td>\n",
       "      <td>NaN</td>\n",
       "      <td>9/17/2020</td>\n",
       "      <td>8.7</td>\n",
       "      <td>26.0</td>\n",
       "      <td>Mejorar rendimiento en un deporte</td>\n",
       "      <td>5.0</td>\n",
       "      <td>No tengo</td>\n",
       "      <td>0</td>\n",
       "    </tr>\n",
       "    <tr>\n",
       "      <th>1</th>\n",
       "      <td>Borja</td>\n",
       "      <td>Churned</td>\n",
       "      <td>Oscar</td>\n",
       "      <td>9/17/2020</td>\n",
       "      <td>NaN</td>\n",
       "      <td>9/17/2020</td>\n",
       "      <td>8.7</td>\n",
       "      <td>29.0</td>\n",
       "      <td>Mejorar cardio y/o resistencia</td>\n",
       "      <td>4.0</td>\n",
       "      <td>Polar</td>\n",
       "      <td>1</td>\n",
       "    </tr>\n",
       "    <tr>\n",
       "      <th>2</th>\n",
       "      <td>Angel</td>\n",
       "      <td>Churned</td>\n",
       "      <td>Oscar</td>\n",
       "      <td>9/22/2020</td>\n",
       "      <td>NaN</td>\n",
       "      <td>9/22/2020</td>\n",
       "      <td>8.5</td>\n",
       "      <td>20.0</td>\n",
       "      <td>Recuperarme de una lesión y/o reducir molestias</td>\n",
       "      <td>2.0</td>\n",
       "      <td>No tengo</td>\n",
       "      <td>1</td>\n",
       "    </tr>\n",
       "    <tr>\n",
       "      <th>3</th>\n",
       "      <td>Jose</td>\n",
       "      <td>Usuario</td>\n",
       "      <td>Oscar</td>\n",
       "      <td>9/28/2020</td>\n",
       "      <td>NaN</td>\n",
       "      <td>9/28/2020</td>\n",
       "      <td>8.3</td>\n",
       "      <td>31.0</td>\n",
       "      <td>Ganar masa muscular</td>\n",
       "      <td>3.0</td>\n",
       "      <td>Fitbit</td>\n",
       "      <td>1</td>\n",
       "    </tr>\n",
       "    <tr>\n",
       "      <th>4</th>\n",
       "      <td>Yago</td>\n",
       "      <td>Churned</td>\n",
       "      <td>Oscar</td>\n",
       "      <td>10/29/2020</td>\n",
       "      <td>NaN</td>\n",
       "      <td>10/29/2020</td>\n",
       "      <td>7.3</td>\n",
       "      <td>27.0</td>\n",
       "      <td>Ganar masa muscular</td>\n",
       "      <td>NaN</td>\n",
       "      <td>NaN</td>\n",
       "      <td>1</td>\n",
       "    </tr>\n",
       "    <tr>\n",
       "      <th>...</th>\n",
       "      <td>...</td>\n",
       "      <td>...</td>\n",
       "      <td>...</td>\n",
       "      <td>...</td>\n",
       "      <td>...</td>\n",
       "      <td>...</td>\n",
       "      <td>...</td>\n",
       "      <td>...</td>\n",
       "      <td>...</td>\n",
       "      <td>...</td>\n",
       "      <td>...</td>\n",
       "      <td>...</td>\n",
       "    </tr>\n",
       "    <tr>\n",
       "      <th>71</th>\n",
       "      <td>JuanC</td>\n",
       "      <td>Usuario</td>\n",
       "      <td>Laura</td>\n",
       "      <td>NaN</td>\n",
       "      <td>NaN</td>\n",
       "      <td>NaN</td>\n",
       "      <td>NaN</td>\n",
       "      <td>NaN</td>\n",
       "      <td>NaN</td>\n",
       "      <td>NaN</td>\n",
       "      <td>NaN</td>\n",
       "      <td>1</td>\n",
       "    </tr>\n",
       "    <tr>\n",
       "      <th>72</th>\n",
       "      <td>Esther</td>\n",
       "      <td>Out</td>\n",
       "      <td>Laura</td>\n",
       "      <td>NaN</td>\n",
       "      <td>NaN</td>\n",
       "      <td>NaN</td>\n",
       "      <td>NaN</td>\n",
       "      <td>NaN</td>\n",
       "      <td>NaN</td>\n",
       "      <td>NaN</td>\n",
       "      <td>NaN</td>\n",
       "      <td>0</td>\n",
       "    </tr>\n",
       "    <tr>\n",
       "      <th>73</th>\n",
       "      <td>Oskar</td>\n",
       "      <td>Out</td>\n",
       "      <td>Oscar</td>\n",
       "      <td>NaN</td>\n",
       "      <td>NaN</td>\n",
       "      <td>NaN</td>\n",
       "      <td>NaN</td>\n",
       "      <td>NaN</td>\n",
       "      <td>NaN</td>\n",
       "      <td>NaN</td>\n",
       "      <td>NaN</td>\n",
       "      <td>1</td>\n",
       "    </tr>\n",
       "    <tr>\n",
       "      <th>74</th>\n",
       "      <td>Matilde</td>\n",
       "      <td>Out</td>\n",
       "      <td>Laura</td>\n",
       "      <td>NaN</td>\n",
       "      <td>NaN</td>\n",
       "      <td>NaN</td>\n",
       "      <td>NaN</td>\n",
       "      <td>NaN</td>\n",
       "      <td>NaN</td>\n",
       "      <td>NaN</td>\n",
       "      <td>NaN</td>\n",
       "      <td>0</td>\n",
       "    </tr>\n",
       "    <tr>\n",
       "      <th>75</th>\n",
       "      <td>JoseM</td>\n",
       "      <td>Out</td>\n",
       "      <td>Laura</td>\n",
       "      <td>NaN</td>\n",
       "      <td>NaN</td>\n",
       "      <td>NaN</td>\n",
       "      <td>NaN</td>\n",
       "      <td>NaN</td>\n",
       "      <td>NaN</td>\n",
       "      <td>NaN</td>\n",
       "      <td>NaN</td>\n",
       "      <td>1</td>\n",
       "    </tr>\n",
       "  </tbody>\n",
       "</table>\n",
       "<p>66 rows × 12 columns</p>\n",
       "</div>"
      ],
      "text/plain": [
       "       Name   Status Entrenadores Cliente Desde Nutricion Nutrición Desde  \\\n",
       "0       Ana  Churned          NaN     9/17/2020       NaN       9/17/2020   \n",
       "1     Borja  Churned        Oscar     9/17/2020       NaN       9/17/2020   \n",
       "2     Angel  Churned        Oscar     9/22/2020       NaN       9/22/2020   \n",
       "3      Jose  Usuario        Oscar     9/28/2020       NaN       9/28/2020   \n",
       "4      Yago  Churned        Oscar    10/29/2020       NaN      10/29/2020   \n",
       "..      ...      ...          ...           ...       ...             ...   \n",
       "71    JuanC  Usuario        Laura           NaN       NaN             NaN   \n",
       "72   Esther      Out        Laura           NaN       NaN             NaN   \n",
       "73    Oskar      Out        Oscar           NaN       NaN             NaN   \n",
       "74  Matilde      Out        Laura           NaN       NaN             NaN   \n",
       "75    JoseM      Out        Laura           NaN       NaN             NaN   \n",
       "\n",
       "    Meses Nutri  Edad                                         Objetivo  \\\n",
       "0           8.7  26.0                Mejorar rendimiento en un deporte   \n",
       "1           8.7  29.0                   Mejorar cardio y/o resistencia   \n",
       "2           8.5  20.0  Recuperarme de una lesión y/o reducir molestias   \n",
       "3           8.3  31.0                              Ganar masa muscular   \n",
       "4           7.3  27.0                              Ganar masa muscular   \n",
       "..          ...   ...                                              ...   \n",
       "71          NaN   NaN                                              NaN   \n",
       "72          NaN   NaN                                              NaN   \n",
       "73          NaN   NaN                                              NaN   \n",
       "74          NaN   NaN                                              NaN   \n",
       "75          NaN   NaN                                              NaN   \n",
       "\n",
       "    Alimentacion Fitness Band  Sex  \n",
       "0            5.0     No tengo    0  \n",
       "1            4.0        Polar    1  \n",
       "2            2.0     No tengo    1  \n",
       "3            3.0       Fitbit    1  \n",
       "4            NaN          NaN    1  \n",
       "..           ...          ...  ...  \n",
       "71           NaN          NaN    1  \n",
       "72           NaN          NaN    0  \n",
       "73           NaN          NaN    1  \n",
       "74           NaN          NaN    0  \n",
       "75           NaN          NaN    1  \n",
       "\n",
       "[66 rows x 12 columns]"
      ]
     },
     "execution_count": 8,
     "metadata": {},
     "output_type": "execute_result"
    }
   ],
   "source": [
    "#REMOVE TEST CLIENTS\n",
    "df_clientes= df[(df['Status']!='test')&(df['Status']!='Trial')]\n",
    "df_clientes"
   ]
  },
  {
   "cell_type": "code",
   "execution_count": 74,
   "id": "featured-malaysia",
   "metadata": {
    "ExecuteTime": {
     "end_time": "2021-07-13T16:40:35.219154Z",
     "start_time": "2021-07-13T16:40:35.209818Z"
    }
   },
   "outputs": [
    {
     "data": {
      "text/plain": [
       "array(['Churned', 'Usuario', 'Formulario', 'Out'], dtype=object)"
      ]
     },
     "execution_count": 74,
     "metadata": {},
     "output_type": "execute_result"
    }
   ],
   "source": [
    "df_clientes['Status'].unique()"
   ]
  },
  {
   "cell_type": "markdown",
   "id": "olive-processing",
   "metadata": {},
   "source": [
    "# STATUS GENERAL"
   ]
  },
  {
   "cell_type": "code",
   "execution_count": 9,
   "id": "exterior-penalty",
   "metadata": {
    "ExecuteTime": {
     "end_time": "2021-07-13T16:07:08.932397Z",
     "start_time": "2021-07-13T16:07:08.916265Z"
    }
   },
   "outputs": [
    {
     "data": {
      "text/html": [
       "<div>\n",
       "<style scoped>\n",
       "    .dataframe tbody tr th:only-of-type {\n",
       "        vertical-align: middle;\n",
       "    }\n",
       "\n",
       "    .dataframe tbody tr th {\n",
       "        vertical-align: top;\n",
       "    }\n",
       "\n",
       "    .dataframe thead th {\n",
       "        text-align: right;\n",
       "    }\n",
       "</style>\n",
       "<table border=\"1\" class=\"dataframe\">\n",
       "  <thead>\n",
       "    <tr style=\"text-align: right;\">\n",
       "      <th></th>\n",
       "      <th>Name</th>\n",
       "      <th>Entrenadores</th>\n",
       "      <th>Cliente Desde</th>\n",
       "      <th>Nutricion</th>\n",
       "      <th>Nutrición Desde</th>\n",
       "      <th>Meses Nutri</th>\n",
       "      <th>Edad</th>\n",
       "      <th>Objetivo</th>\n",
       "      <th>Alimentacion</th>\n",
       "      <th>Fitness Band</th>\n",
       "      <th>Sex</th>\n",
       "    </tr>\n",
       "    <tr>\n",
       "      <th>Status</th>\n",
       "      <th></th>\n",
       "      <th></th>\n",
       "      <th></th>\n",
       "      <th></th>\n",
       "      <th></th>\n",
       "      <th></th>\n",
       "      <th></th>\n",
       "      <th></th>\n",
       "      <th></th>\n",
       "      <th></th>\n",
       "      <th></th>\n",
       "    </tr>\n",
       "  </thead>\n",
       "  <tbody>\n",
       "    <tr>\n",
       "      <th>Churned</th>\n",
       "      <td>17</td>\n",
       "      <td>16</td>\n",
       "      <td>11</td>\n",
       "      <td>2</td>\n",
       "      <td>6</td>\n",
       "      <td>6</td>\n",
       "      <td>14</td>\n",
       "      <td>15</td>\n",
       "      <td>3</td>\n",
       "      <td>3</td>\n",
       "      <td>17</td>\n",
       "    </tr>\n",
       "    <tr>\n",
       "      <th>Formulario</th>\n",
       "      <td>7</td>\n",
       "      <td>0</td>\n",
       "      <td>0</td>\n",
       "      <td>0</td>\n",
       "      <td>0</td>\n",
       "      <td>0</td>\n",
       "      <td>7</td>\n",
       "      <td>7</td>\n",
       "      <td>7</td>\n",
       "      <td>7</td>\n",
       "      <td>7</td>\n",
       "    </tr>\n",
       "    <tr>\n",
       "      <th>Out</th>\n",
       "      <td>31</td>\n",
       "      <td>30</td>\n",
       "      <td>2</td>\n",
       "      <td>0</td>\n",
       "      <td>1</td>\n",
       "      <td>1</td>\n",
       "      <td>15</td>\n",
       "      <td>15</td>\n",
       "      <td>0</td>\n",
       "      <td>0</td>\n",
       "      <td>31</td>\n",
       "    </tr>\n",
       "    <tr>\n",
       "      <th>Usuario</th>\n",
       "      <td>11</td>\n",
       "      <td>11</td>\n",
       "      <td>4</td>\n",
       "      <td>1</td>\n",
       "      <td>3</td>\n",
       "      <td>3</td>\n",
       "      <td>7</td>\n",
       "      <td>7</td>\n",
       "      <td>1</td>\n",
       "      <td>1</td>\n",
       "      <td>11</td>\n",
       "    </tr>\n",
       "  </tbody>\n",
       "</table>\n",
       "</div>"
      ],
      "text/plain": [
       "            Name  Entrenadores  Cliente Desde  Nutricion  Nutrición Desde  \\\n",
       "Status                                                                      \n",
       "Churned       17            16             11          2                6   \n",
       "Formulario     7             0              0          0                0   \n",
       "Out           31            30              2          0                1   \n",
       "Usuario       11            11              4          1                3   \n",
       "\n",
       "            Meses Nutri  Edad  Objetivo  Alimentacion  Fitness Band  Sex  \n",
       "Status                                                                    \n",
       "Churned               6    14        15             3             3   17  \n",
       "Formulario            0     7         7             7             7    7  \n",
       "Out                   1    15        15             0             0   31  \n",
       "Usuario               3     7         7             1             1   11  "
      ]
     },
     "execution_count": 9,
     "metadata": {},
     "output_type": "execute_result"
    }
   ],
   "source": [
    "df_status = pd.DataFrame(df_clientes.groupby('Status').count())\n",
    "df_status"
   ]
  },
  {
   "cell_type": "code",
   "execution_count": 10,
   "id": "biological-chance",
   "metadata": {
    "ExecuteTime": {
     "end_time": "2021-07-13T16:07:10.231184Z",
     "start_time": "2021-07-13T16:07:10.224221Z"
    }
   },
   "outputs": [],
   "source": [
    "total_clientes = df_status['Name'].sum()"
   ]
  },
  {
   "cell_type": "code",
   "execution_count": 11,
   "id": "aggregate-conversion",
   "metadata": {
    "ExecuteTime": {
     "end_time": "2021-07-13T16:07:10.880514Z",
     "start_time": "2021-07-13T16:07:10.875846Z"
    }
   },
   "outputs": [],
   "source": [
    "df_s  = pd.DataFrame(df_status['Name'])\n",
    "df_s = df_s.rename(columns={'Name':'percent clientes'})"
   ]
  },
  {
   "cell_type": "code",
   "execution_count": 12,
   "id": "human-setting",
   "metadata": {
    "ExecuteTime": {
     "end_time": "2021-07-13T16:07:12.560139Z",
     "start_time": "2021-07-13T16:07:12.472884Z"
    }
   },
   "outputs": [
    {
     "data": {
      "text/html": [
       "<div>\n",
       "<style scoped>\n",
       "    .dataframe tbody tr th:only-of-type {\n",
       "        vertical-align: middle;\n",
       "    }\n",
       "\n",
       "    .dataframe tbody tr th {\n",
       "        vertical-align: top;\n",
       "    }\n",
       "\n",
       "    .dataframe thead th {\n",
       "        text-align: right;\n",
       "    }\n",
       "</style>\n",
       "<table border=\"1\" class=\"dataframe\">\n",
       "  <thead>\n",
       "    <tr style=\"text-align: right;\">\n",
       "      <th></th>\n",
       "      <th>Status</th>\n",
       "      <th>percent clientes</th>\n",
       "    </tr>\n",
       "  </thead>\n",
       "  <tbody>\n",
       "    <tr>\n",
       "      <th>0</th>\n",
       "      <td>Churned</td>\n",
       "      <td>25.8</td>\n",
       "    </tr>\n",
       "    <tr>\n",
       "      <th>1</th>\n",
       "      <td>Formulario</td>\n",
       "      <td>10.6</td>\n",
       "    </tr>\n",
       "    <tr>\n",
       "      <th>2</th>\n",
       "      <td>Out</td>\n",
       "      <td>47.0</td>\n",
       "    </tr>\n",
       "    <tr>\n",
       "      <th>3</th>\n",
       "      <td>Usuario</td>\n",
       "      <td>16.7</td>\n",
       "    </tr>\n",
       "  </tbody>\n",
       "</table>\n",
       "</div>"
      ],
      "text/plain": [
       "       Status  percent clientes\n",
       "0     Churned              25.8\n",
       "1  Formulario              10.6\n",
       "2         Out              47.0\n",
       "3     Usuario              16.7"
      ]
     },
     "execution_count": 12,
     "metadata": {},
     "output_type": "execute_result"
    }
   ],
   "source": [
    "df_s= (df_s['percent clientes']*100/total_clientes).round(1)\n",
    "df_s = df_s.reset_index()\n",
    "df_s"
   ]
  },
  {
   "cell_type": "code",
   "execution_count": 66,
   "id": "collected-prime",
   "metadata": {
    "ExecuteTime": {
     "end_time": "2021-07-13T16:26:52.256072Z",
     "start_time": "2021-07-13T16:26:52.042463Z"
    },
    "scrolled": true
   },
   "outputs": [
    {
     "data": {
      "image/png": "[encoded data removed]",
      "text/plain": [
       "<Figure size 576x576 with 1 Axes>"
      ]
     },
     "metadata": {},
     "output_type": "display_data"
    }
   ],
   "source": [
    "explode = (0.05,0.05,0.05,0.05)\n",
    "patches, texts, autotexts = plt.pie(df_s['percent clientes'],\n",
    "        labels=df_s['Status'],\n",
    "        colors=['#8a92a6', '#ffcc99','#ff6666' ,'#006692'],\n",
    "        startangle=90, pctdistance=0.85, explode = explode,\n",
    "        autopct=\"%.1f%%\")\n",
    "\n",
    "# add a circle at the center to transform it in a donut chart\n",
    "my_circle = plt.Circle((0, 0), 0.3, color='white')\n",
    "p = plt.gcf()\n",
    "p.gca().add_artist(my_circle)\n",
    "p.set_size_inches(8, 8)\n",
    "\n",
    "plt.savefig(\"statusgeneral.png\")\n",
    "\n",
    "plt.show()\n"
   ]
  },
  {
   "cell_type": "markdown",
   "id": "passing-pizza",
   "metadata": {},
   "source": [
    "# STATUS POR GÉNERO"
   ]
  },
  {
   "cell_type": "code",
   "execution_count": 59,
   "id": "processed-norwegian",
   "metadata": {
    "ExecuteTime": {
     "end_time": "2021-07-13T16:26:27.223519Z",
     "start_time": "2021-07-13T16:26:27.211952Z"
    }
   },
   "outputs": [
    {
     "data": {
      "text/html": [
       "<div>\n",
       "<style scoped>\n",
       "    .dataframe tbody tr th:only-of-type {\n",
       "        vertical-align: middle;\n",
       "    }\n",
       "\n",
       "    .dataframe tbody tr th {\n",
       "        vertical-align: top;\n",
       "    }\n",
       "\n",
       "    .dataframe thead th {\n",
       "        text-align: right;\n",
       "    }\n",
       "</style>\n",
       "<table border=\"1\" class=\"dataframe\">\n",
       "  <thead>\n",
       "    <tr style=\"text-align: right;\">\n",
       "      <th></th>\n",
       "      <th>Status</th>\n",
       "      <th>Sex</th>\n",
       "    </tr>\n",
       "  </thead>\n",
       "  <tbody>\n",
       "    <tr>\n",
       "      <th>0</th>\n",
       "      <td>Churned</td>\n",
       "      <td>0</td>\n",
       "    </tr>\n",
       "    <tr>\n",
       "      <th>1</th>\n",
       "      <td>Churned</td>\n",
       "      <td>1</td>\n",
       "    </tr>\n",
       "    <tr>\n",
       "      <th>2</th>\n",
       "      <td>Churned</td>\n",
       "      <td>1</td>\n",
       "    </tr>\n",
       "    <tr>\n",
       "      <th>3</th>\n",
       "      <td>Usuario</td>\n",
       "      <td>1</td>\n",
       "    </tr>\n",
       "    <tr>\n",
       "      <th>4</th>\n",
       "      <td>Churned</td>\n",
       "      <td>1</td>\n",
       "    </tr>\n",
       "  </tbody>\n",
       "</table>\n",
       "</div>"
      ],
      "text/plain": [
       "    Status  Sex\n",
       "0  Churned    0\n",
       "1  Churned    1\n",
       "2  Churned    1\n",
       "3  Usuario    1\n",
       "4  Churned    1"
      ]
     },
     "execution_count": 59,
     "metadata": {},
     "output_type": "execute_result"
    }
   ],
   "source": [
    "df_status= df_clientes[['Status','Sex']]\n",
    "df_status.head(5)"
   ]
  },
  {
   "cell_type": "code",
   "execution_count": 60,
   "id": "irish-bruce",
   "metadata": {
    "ExecuteTime": {
     "end_time": "2021-07-13T16:26:27.624598Z",
     "start_time": "2021-07-13T16:26:27.611369Z"
    }
   },
   "outputs": [],
   "source": [
    "df_status_sex = df_status.groupby('Status').count()\n",
    "woman = df_status[df_status['Sex']==0].groupby('Status').count()\n",
    "man = df_status[df_status['Sex']==1].groupby('Status').count()"
   ]
  },
  {
   "cell_type": "code",
   "execution_count": 61,
   "id": "affiliated-hypothesis",
   "metadata": {
    "ExecuteTime": {
     "end_time": "2021-07-13T16:26:27.923511Z",
     "start_time": "2021-07-13T16:26:27.915667Z"
    }
   },
   "outputs": [],
   "source": [
    "df_status_sex['Woman'] = woman['Sex']\n",
    "df_status_sex['Man'] = man['Sex']"
   ]
  },
  {
   "cell_type": "code",
   "execution_count": 62,
   "id": "crude-safety",
   "metadata": {
    "ExecuteTime": {
     "end_time": "2021-07-13T16:26:28.341912Z",
     "start_time": "2021-07-13T16:26:28.330001Z"
    }
   },
   "outputs": [
    {
     "data": {
      "text/html": [
       "<div>\n",
       "<style scoped>\n",
       "    .dataframe tbody tr th:only-of-type {\n",
       "        vertical-align: middle;\n",
       "    }\n",
       "\n",
       "    .dataframe tbody tr th {\n",
       "        vertical-align: top;\n",
       "    }\n",
       "\n",
       "    .dataframe thead th {\n",
       "        text-align: right;\n",
       "    }\n",
       "</style>\n",
       "<table border=\"1\" class=\"dataframe\">\n",
       "  <thead>\n",
       "    <tr style=\"text-align: right;\">\n",
       "      <th></th>\n",
       "      <th>Sex</th>\n",
       "      <th>Woman</th>\n",
       "      <th>Man</th>\n",
       "    </tr>\n",
       "    <tr>\n",
       "      <th>Status</th>\n",
       "      <th></th>\n",
       "      <th></th>\n",
       "      <th></th>\n",
       "    </tr>\n",
       "  </thead>\n",
       "  <tbody>\n",
       "    <tr>\n",
       "      <th>Churned</th>\n",
       "      <td>17</td>\n",
       "      <td>10</td>\n",
       "      <td>7</td>\n",
       "    </tr>\n",
       "    <tr>\n",
       "      <th>Formulario</th>\n",
       "      <td>7</td>\n",
       "      <td>1</td>\n",
       "      <td>6</td>\n",
       "    </tr>\n",
       "    <tr>\n",
       "      <th>Out</th>\n",
       "      <td>31</td>\n",
       "      <td>23</td>\n",
       "      <td>8</td>\n",
       "    </tr>\n",
       "    <tr>\n",
       "      <th>Usuario</th>\n",
       "      <td>11</td>\n",
       "      <td>4</td>\n",
       "      <td>7</td>\n",
       "    </tr>\n",
       "  </tbody>\n",
       "</table>\n",
       "</div>"
      ],
      "text/plain": [
       "            Sex  Woman  Man\n",
       "Status                     \n",
       "Churned      17     10    7\n",
       "Formulario    7      1    6\n",
       "Out          31     23    8\n",
       "Usuario      11      4    7"
      ]
     },
     "execution_count": 62,
     "metadata": {},
     "output_type": "execute_result"
    }
   ],
   "source": [
    "df_status_sex"
   ]
  },
  {
   "cell_type": "code",
   "execution_count": 63,
   "id": "separated-johns",
   "metadata": {
    "ExecuteTime": {
     "end_time": "2021-07-13T16:26:28.745534Z",
     "start_time": "2021-07-13T16:26:28.738612Z"
    }
   },
   "outputs": [],
   "source": [
    "w = list(df_status_sex['Woman'])\n",
    "m = list(df_status_sex['Man'])\n",
    "sizes_gender = []\n",
    "for i in range(len(w)):\n",
    "    sizes_gender.append(w[i])\n",
    "    sizes_gender.append(m[i])"
   ]
  },
  {
   "cell_type": "code",
   "execution_count": 64,
   "id": "short-executive",
   "metadata": {
    "ExecuteTime": {
     "end_time": "2021-07-13T16:26:29.192106Z",
     "start_time": "2021-07-13T16:26:29.184376Z"
    }
   },
   "outputs": [],
   "source": [
    "df_status_sex =df_status_sex.reset_index()"
   ]
  },
  {
   "cell_type": "code",
   "execution_count": 65,
   "id": "quantitative-procurement",
   "metadata": {
    "ExecuteTime": {
     "end_time": "2021-07-13T16:26:30.194956Z",
     "start_time": "2021-07-13T16:26:29.856927Z"
    },
    "scrolled": false
   },
   "outputs": [
    {
     "data": {
      "image/png": "[encoded data removed]",
      "text/plain": [
       "<Figure size 576x576 with 1 Axes>"
      ]
     },
     "metadata": {},
     "output_type": "display_data"
    }
   ],
   "source": [
    "# Data to plot\n",
    "labels = list(df_status_sex['Status'])\n",
    "sizes =  list(df_status_sex['Sex'])\n",
    "labels_gender = ['Woman','Man','Woman','Man','Woman','Man','Woman', 'Man']\n",
    "\n",
    "\n",
    "colors = ['#8a92a6', '#ffcc99','#ff6666' ,'#006692']\n",
    "colors_gender = ['#fca3b5','#b1d1ed','#fca3b5','#b1d1ed', '#fca3b5','#b1d1ed', '#fca3b5','#b1d1ed']\n",
    " \n",
    "p1 = plt.pie(sizes, labels=labels, colors=colors, startangle=90,frame=True)\n",
    "\n",
    "p2 = plt.pie(sizes_gender,colors=colors_gender,radius=0.8, startangle=90, autopct=\"%.1f%%\")\n",
    "\n",
    "centre_circle = plt.Circle((0,0),0.3,color='black', fc='white',linewidth=0)\n",
    "\n",
    "fig = plt.gcf()\n",
    "fig.gca().add_artist(centre_circle)\n",
    "fig.set_size_inches(8, 8)\n",
    "\n",
    "plt.axis('equal')\n",
    "plt.tight_layout()\n",
    "plt.savefig(\"statusgenero.png\")\n",
    "plt.show()\n"
   ]
  },
  {
   "cell_type": "markdown",
   "id": "forward-bradford",
   "metadata": {},
   "source": [
    "# PAGO APP POR GÉNERO DESPUÉS DE LA PRUEBA "
   ]
  },
  {
   "cell_type": "code",
   "execution_count": 67,
   "id": "declared-bandwidth",
   "metadata": {
    "ExecuteTime": {
     "end_time": "2021-07-13T16:27:26.204188Z",
     "start_time": "2021-07-13T16:27:26.188786Z"
    }
   },
   "outputs": [
    {
     "data": {
      "text/html": [
       "<div>\n",
       "<style scoped>\n",
       "    .dataframe tbody tr th:only-of-type {\n",
       "        vertical-align: middle;\n",
       "    }\n",
       "\n",
       "    .dataframe tbody tr th {\n",
       "        vertical-align: top;\n",
       "    }\n",
       "\n",
       "    .dataframe thead th {\n",
       "        text-align: right;\n",
       "    }\n",
       "</style>\n",
       "<table border=\"1\" class=\"dataframe\">\n",
       "  <thead>\n",
       "    <tr style=\"text-align: right;\">\n",
       "      <th></th>\n",
       "      <th>Status</th>\n",
       "      <th>Sex</th>\n",
       "      <th>Woman</th>\n",
       "      <th>Man</th>\n",
       "    </tr>\n",
       "  </thead>\n",
       "  <tbody>\n",
       "    <tr>\n",
       "      <th>0</th>\n",
       "      <td>Churned</td>\n",
       "      <td>17</td>\n",
       "      <td>10</td>\n",
       "      <td>7</td>\n",
       "    </tr>\n",
       "    <tr>\n",
       "      <th>2</th>\n",
       "      <td>Out</td>\n",
       "      <td>31</td>\n",
       "      <td>23</td>\n",
       "      <td>8</td>\n",
       "    </tr>\n",
       "    <tr>\n",
       "      <th>3</th>\n",
       "      <td>Usuario</td>\n",
       "      <td>11</td>\n",
       "      <td>4</td>\n",
       "      <td>7</td>\n",
       "    </tr>\n",
       "  </tbody>\n",
       "</table>\n",
       "</div>"
      ],
      "text/plain": [
       "    Status  Sex  Woman  Man\n",
       "0  Churned   17     10    7\n",
       "2      Out   31     23    8\n",
       "3  Usuario   11      4    7"
      ]
     },
     "metadata": {},
     "output_type": "display_data"
    }
   ],
   "source": [
    "df_status_sex = df_status_sex.drop([1],axis=0)\n",
    "display(df_status_sex) "
   ]
  },
  {
   "cell_type": "code",
   "execution_count": 68,
   "id": "medical-mining",
   "metadata": {
    "ExecuteTime": {
     "end_time": "2021-07-13T16:27:34.485700Z",
     "start_time": "2021-07-13T16:27:34.479598Z"
    }
   },
   "outputs": [],
   "source": [
    "app_pago = df_status_sex[(df_status_sex['Status']=='Churned')|(df_status_sex['Status']=='Usuario')].sum()"
   ]
  },
  {
   "cell_type": "code",
   "execution_count": 69,
   "id": "neither-exception",
   "metadata": {
    "ExecuteTime": {
     "end_time": "2021-07-13T16:27:35.386164Z",
     "start_time": "2021-07-13T16:27:35.381907Z"
    }
   },
   "outputs": [],
   "source": [
    "total_pago = app_pago['Sex'].sum()\n",
    "woman_pago = app_pago['Woman'].sum()\n",
    "man_pago = app_pago['Man'].sum()"
   ]
  },
  {
   "cell_type": "code",
   "execution_count": 70,
   "id": "amber-orange",
   "metadata": {
    "ExecuteTime": {
     "end_time": "2021-07-13T16:27:37.277230Z",
     "start_time": "2021-07-13T16:27:37.270634Z"
    }
   },
   "outputs": [
    {
     "name": "stdout",
     "output_type": "stream",
     "text": [
      "37.8 63.6\n"
     ]
    }
   ],
   "source": [
    "wp = (woman_pago*100/(df_status_sex['Woman'].sum())).round(1)\n",
    "mp = (man_pago*100/(df_status_sex['Man'].sum())).round(1)\n",
    "print(wp, mp)"
   ]
  },
  {
   "cell_type": "code",
   "execution_count": 72,
   "id": "greenhouse-controversy",
   "metadata": {
    "ExecuteTime": {
     "end_time": "2021-07-13T16:37:34.458110Z",
     "start_time": "2021-07-13T16:37:34.237874Z"
    }
   },
   "outputs": [
    {
     "data": {
      "image/png": "[encoded data removed]",
      "text/plain": [
       "<Figure size 432x288 with 1 Axes>"
      ]
     },
     "metadata": {
      "needs_background": "light"
     },
     "output_type": "display_data"
    }
   ],
   "source": [
    "X = 2 \n",
    "fig,a = plt.subplots()\n",
    "p1= a.bar(2 - 0.4, wp, color='#fca3b5')\n",
    "p1 = a.text(1+1 / 2, 2 + 1 * 1.01, str(wp) + '%', ha='center', weight='bold',size =25, color = 'white')\n",
    "p2 = a.bar(2 + 0.4, mp, color='#b1d1ed')\n",
    "p2 = a.text(2 + 1 / 2, 2 + 1 * 1.01, str(mp) + '%', ha='center', weight='bold', size =25, color = 'white')\n",
    "a.xaxis.set_visible(False)\n",
    "a.yaxis.set_visible(False)\n",
    "a.spines['right'].set_visible(False)\n",
    "a.spines['top'].set_visible(False)\n",
    "a.spines['left'].set_visible(False)\n",
    "a.spines['bottom'].set_visible(False)\n",
    "plt.savefig(\"appgenero.png\")\n",
    "plt.show()"
   ]
  },
  {
   "cell_type": "markdown",
   "id": "grave-element",
   "metadata": {},
   "source": [
    "# PAGO APP POR EDAD"
   ]
  },
  {
   "cell_type": "code",
   "execution_count": null,
   "id": "occasional-rebate",
   "metadata": {},
   "outputs": [],
   "source": []
  },
  {
   "cell_type": "code",
   "execution_count": 91,
   "id": "continued-system",
   "metadata": {
    "ExecuteTime": {
     "end_time": "2021-07-13T16:46:15.919996Z",
     "start_time": "2021-07-13T16:46:15.909255Z"
    }
   },
   "outputs": [
    {
     "name": "stderr",
     "output_type": "stream",
     "text": [
      "<ipython-input-91-d3c2e0315cfb>:2: SettingWithCopyWarning: \n",
      "A value is trying to be set on a copy of a slice from a DataFrame\n",
      "\n",
      "See the caveats in the documentation: https://pandas.pydata.org/pandas-docs/stable/user_guide/indexing.html#returning-a-view-versus-a-copy\n",
      "  app_edad.dropna(inplace= True)\n"
     ]
    }
   ],
   "source": [
    "app_edad = df_clientes[['Status','Edad','Sex']]\n",
    "app_edad.dropna(inplace= True)"
   ]
  },
  {
   "cell_type": "code",
   "execution_count": 92,
   "id": "complimentary-bankruptcy",
   "metadata": {
    "ExecuteTime": {
     "end_time": "2021-07-13T16:46:16.681763Z",
     "start_time": "2021-07-13T16:46:16.668197Z"
    }
   },
   "outputs": [
    {
     "data": {
      "text/html": [
       "<div>\n",
       "<style scoped>\n",
       "    .dataframe tbody tr th:only-of-type {\n",
       "        vertical-align: middle;\n",
       "    }\n",
       "\n",
       "    .dataframe tbody tr th {\n",
       "        vertical-align: top;\n",
       "    }\n",
       "\n",
       "    .dataframe thead th {\n",
       "        text-align: right;\n",
       "    }\n",
       "</style>\n",
       "<table border=\"1\" class=\"dataframe\">\n",
       "  <thead>\n",
       "    <tr style=\"text-align: right;\">\n",
       "      <th></th>\n",
       "      <th>Status</th>\n",
       "      <th>Edad</th>\n",
       "      <th>Sex</th>\n",
       "    </tr>\n",
       "  </thead>\n",
       "  <tbody>\n",
       "    <tr>\n",
       "      <th>0</th>\n",
       "      <td>Churned</td>\n",
       "      <td>26.0</td>\n",
       "      <td>0</td>\n",
       "    </tr>\n",
       "    <tr>\n",
       "      <th>1</th>\n",
       "      <td>Churned</td>\n",
       "      <td>29.0</td>\n",
       "      <td>1</td>\n",
       "    </tr>\n",
       "    <tr>\n",
       "      <th>2</th>\n",
       "      <td>Churned</td>\n",
       "      <td>20.0</td>\n",
       "      <td>1</td>\n",
       "    </tr>\n",
       "  </tbody>\n",
       "</table>\n",
       "</div>"
      ],
      "text/plain": [
       "    Status  Edad  Sex\n",
       "0  Churned  26.0    0\n",
       "1  Churned  29.0    1\n",
       "2  Churned  20.0    1"
      ]
     },
     "execution_count": 92,
     "metadata": {},
     "output_type": "execute_result"
    }
   ],
   "source": [
    "app_edad.head(3)"
   ]
  },
  {
   "cell_type": "code",
   "execution_count": 93,
   "id": "balanced-attraction",
   "metadata": {
    "ExecuteTime": {
     "end_time": "2021-07-13T16:46:18.689178Z",
     "start_time": "2021-07-13T16:46:17.397512Z"
    }
   },
   "outputs": [
    {
     "data": {
      "image/png": "[encoded data removed]",
      "text/plain": [
       "<Figure size 1080x288 with 4 Axes>"
      ]
     },
     "metadata": {},
     "output_type": "display_data"
    }
   ],
   "source": [
    "sns.set_theme(style=\"white\", rc={\"axes.facecolor\": (0, 0, 0, 0)})\n",
    "# Create the data\n",
    "x = app_edad['Edad']\n",
    "g = app_edad['Status']\n",
    "df = pd.DataFrame(dict(x=x, g=g))\n",
    "\n",
    "\n",
    "# Initialize the FacetGrid object\n",
    "\n",
    "pal = sns.cubehelix_palette(4, rot=-.3, light=.7)\n",
    "g = sns.FacetGrid(df, row=\"g\", hue=\"g\", aspect=15, height=1, palette=pal)\n",
    "\n",
    "# Draw the densities in a few steps\n",
    "g.map(sns.kdeplot, \"x\",\n",
    "      bw_adjust=.5, clip_on=False,\n",
    "      fill=True, alpha=1, linewidth=1.5)\n",
    "g.map(sns.kdeplot, \"x\", clip_on=False, color=\"w\", lw=2, bw_adjust=.5)\n",
    "g.map(plt.axhline, y=0, lw=2, clip_on=False)\n",
    "\n",
    "\n",
    "# Define and use a simple function to label the plot in axes coordinates\n",
    "def label(x, color, label):\n",
    "    ax = plt.gca()\n",
    "    ax.text(0, .2, label, fontweight=\"bold\", color=color,\n",
    "            ha=\"left\", va=\"center\", transform=ax.transAxes)\n",
    "\n",
    "\n",
    "g.map(label, \"x\")\n",
    "\n",
    "# Set the subplots to overlap\n",
    "g.fig.subplots_adjust(hspace=-.01)\n",
    "\n",
    "# Remove axes details that don't play well with overlap\n",
    "g.set_titles(\"\")\n",
    "g.set(yticks=[])\n",
    "g.despine(bottom=True, left=True);\n",
    "plt.savefig(\"edadclientes.png\")"
   ]
  },
  {
   "cell_type": "code",
   "execution_count": 94,
   "id": "divided-fifth",
   "metadata": {
    "ExecuteTime": {
     "end_time": "2021-07-13T16:46:19.066257Z",
     "start_time": "2021-07-13T16:46:19.043231Z"
    }
   },
   "outputs": [],
   "source": [
    "woman = app_edad[app_edad['Sex']==0]\n",
    "man = app_edad[app_edad['Sex']==1]"
   ]
  },
  {
   "cell_type": "code",
   "execution_count": 95,
   "id": "expired-fifty",
   "metadata": {
    "ExecuteTime": {
     "end_time": "2021-07-13T16:46:19.487996Z",
     "start_time": "2021-07-13T16:46:19.476632Z"
    }
   },
   "outputs": [],
   "source": [
    "woman = woman.sort_values(by=['Status'])\n",
    "man = man.sort_values(by=['Status'])"
   ]
  },
  {
   "cell_type": "code",
   "execution_count": 96,
   "id": "endangered-hacker",
   "metadata": {
    "ExecuteTime": {
     "end_time": "2021-07-13T16:46:20.623047Z",
     "start_time": "2021-07-13T16:46:20.618922Z"
    }
   },
   "outputs": [],
   "source": [
    "status=app_edad['Status'].unique()"
   ]
  },
  {
   "cell_type": "code",
   "execution_count": 97,
   "id": "ignored-imperial",
   "metadata": {
    "ExecuteTime": {
     "end_time": "2021-07-13T16:46:23.458867Z",
     "start_time": "2021-07-13T16:46:21.970454Z"
    },
    "scrolled": true
   },
   "outputs": [
    {
     "name": "stderr",
     "output_type": "stream",
     "text": [
      "/Users/cmg/opt/anaconda3/lib/python3.8/site-packages/seaborn/distributions.py:306: UserWarning: Dataset has 0 variance; skipping density estimate.\n",
      "  warnings.warn(msg, UserWarning)\n",
      "/Users/cmg/opt/anaconda3/lib/python3.8/site-packages/seaborn/distributions.py:306: UserWarning: Dataset has 0 variance; skipping density estimate.\n",
      "  warnings.warn(msg, UserWarning)\n"
     ]
    },
    {
     "data": {
      "image/png": "[encoded data removed]",
      "text/plain": [
       "<Figure size 1080x288 with 4 Axes>"
      ]
     },
     "metadata": {},
     "output_type": "display_data"
    }
   ],
   "source": [
    "sns.set_theme(style=\"white\", rc={\"axes.facecolor\": (0, 0, 0, 0)})\n",
    "# Create the data\n",
    "x = woman['Edad']\n",
    "g = woman['Status']\n",
    "df = pd.DataFrame(dict(x=x, g=g))\n",
    "\n",
    "\n",
    "# Initialize the FacetGrid object\n",
    "\n",
    "pal = sns.cubehelix_palette(4, rot=-.3, light=.7)\n",
    "g = sns.FacetGrid(df, row=\"g\", hue=\"g\", aspect=15, height=1, palette=pal)\n",
    "\n",
    "# Draw the densities in a few steps\n",
    "g.map(sns.kdeplot, \"x\",\n",
    "      bw_adjust=.5, clip_on=False,\n",
    "      fill=True, alpha=1, linewidth=1.5)\n",
    "g.map(sns.kdeplot, \"x\", clip_on=False, color=\"w\", lw=2, bw_adjust=.5)\n",
    "g.map(plt.axhline, y=0, lw=2, clip_on=False)\n",
    "\n",
    "\n",
    "# Define and use a simple function to label the plot in axes coordinates\n",
    "def label(x, color, label):\n",
    "    ax = plt.gca()\n",
    "    ax.text(0, .2, label, fontweight=\"bold\", color=color,\n",
    "            ha=\"left\", va=\"center\", transform=ax.transAxes)\n",
    "\n",
    "\n",
    "g.map(label, \"x\")\n",
    "\n",
    "# Set the subplots to overlap\n",
    "g.fig.subplots_adjust(hspace=-.01)\n",
    "\n",
    "# Remove axes details that don't play well with overlap\n",
    "g.set_titles(\"\")\n",
    "g.set(yticks=[])\n",
    "g.despine(bottom=True, left=True);\n",
    "plt.savefig(\"edadwoman.png\")"
   ]
  },
  {
   "cell_type": "code",
   "execution_count": 98,
   "id": "regular-means",
   "metadata": {
    "ExecuteTime": {
     "end_time": "2021-07-13T16:46:25.276283Z",
     "start_time": "2021-07-13T16:46:23.695105Z"
    },
    "scrolled": true
   },
   "outputs": [
    {
     "data": {
      "image/png": "[encoded data removed]",
      "text/plain": [
       "<Figure size 1080x288 with 4 Axes>"
      ]
     },
     "metadata": {},
     "output_type": "display_data"
    }
   ],
   "source": [
    "sns.set_theme(style=\"white\", rc={\"axes.facecolor\": (0, 0, 0, 0)})\n",
    "# Create the data\n",
    "x = man['Edad']\n",
    "g = man['Status']\n",
    "df = pd.DataFrame(dict(x=x, g=g))\n",
    "\n",
    "\n",
    "# Initialize the FacetGrid object\n",
    "\n",
    "pal = sns.cubehelix_palette(4, rot=-.3, light=.7)\n",
    "g = sns.FacetGrid(df, row=\"g\", hue=\"g\", aspect=15, height=1, palette=pal)\n",
    "\n",
    "# Draw the densities in a few steps\n",
    "g.map(sns.kdeplot, \"x\",\n",
    "      bw_adjust=.5, clip_on=False,\n",
    "      fill=True, alpha=1, linewidth=1.5)\n",
    "g.map(sns.kdeplot, \"x\", clip_on=False, color=\"w\", lw=2, bw_adjust=.5)\n",
    "g.map(plt.axhline, y=0, lw=2, clip_on=False)\n",
    "\n",
    "\n",
    "# Define and use a simple function to label the plot in axes coordinates\n",
    "def label(x, color, label):\n",
    "    ax = plt.gca()\n",
    "    ax.text(0, .2, label, fontweight=\"bold\", color=color,\n",
    "            ha=\"left\", va=\"center\", transform=ax.transAxes)\n",
    "\n",
    "\n",
    "g.map(label, \"x\")\n",
    "\n",
    "# Set the subplots to overlap\n",
    "g.fig.subplots_adjust(hspace=-.01)\n",
    "\n",
    "# Remove axes details that don't play well with overlap\n",
    "g.set_titles(\"\")\n",
    "g.set(yticks=[])\n",
    "g.despine(bottom=True, left=True);\n",
    "plt.savefig(\"edadman.png\")"
   ]
  },
  {
   "cell_type": "code",
   "execution_count": 101,
   "id": "expired-participation",
   "metadata": {
    "ExecuteTime": {
     "end_time": "2021-07-13T16:48:47.220643Z",
     "start_time": "2021-07-13T16:48:47.216064Z"
    }
   },
   "outputs": [],
   "source": [
    "df_clientes_edad= df_clientes[['Objetivo','Edad','Sex']]"
   ]
  },
  {
   "cell_type": "code",
   "execution_count": 102,
   "id": "compliant-aggregate",
   "metadata": {
    "ExecuteTime": {
     "end_time": "2021-07-13T16:48:48.926028Z",
     "start_time": "2021-07-13T16:48:48.918184Z"
    }
   },
   "outputs": [
    {
     "name": "stderr",
     "output_type": "stream",
     "text": [
      "<ipython-input-102-9397164764c2>:1: SettingWithCopyWarning: \n",
      "A value is trying to be set on a copy of a slice from a DataFrame\n",
      "\n",
      "See the caveats in the documentation: https://pandas.pydata.org/pandas-docs/stable/user_guide/indexing.html#returning-a-view-versus-a-copy\n",
      "  df_clientes_edad.dropna(inplace= True)\n"
     ]
    }
   ],
   "source": [
    "df_clientes_edad.dropna(inplace= True)"
   ]
  },
  {
   "cell_type": "code",
   "execution_count": 103,
   "id": "comfortable-imaging",
   "metadata": {
    "ExecuteTime": {
     "end_time": "2021-07-13T16:48:52.678036Z",
     "start_time": "2021-07-13T16:48:52.672324Z"
    }
   },
   "outputs": [
    {
     "name": "stderr",
     "output_type": "stream",
     "text": [
      "<ipython-input-103-4ee13775bb3e>:1: SettingWithCopyWarning: \n",
      "A value is trying to be set on a copy of a slice from a DataFrame.\n",
      "Try using .loc[row_indexer,col_indexer] = value instead\n",
      "\n",
      "See the caveats in the documentation: https://pandas.pydata.org/pandas-docs/stable/user_guide/indexing.html#returning-a-view-versus-a-copy\n",
      "  df_clientes_edad['Edad'] = df_clientes_edad['Edad'].astype('int32')\n"
     ]
    }
   ],
   "source": [
    "df_clientes_edad['Edad'] = df_clientes_edad['Edad'].astype('int32')"
   ]
  },
  {
   "cell_type": "code",
   "execution_count": 111,
   "id": "alpine-national",
   "metadata": {
    "ExecuteTime": {
     "end_time": "2021-07-13T16:54:24.521690Z",
     "start_time": "2021-07-13T16:54:23.754873Z"
    }
   },
   "outputs": [
    {
     "data": {
      "image/png": "[encoded data removed]",
      "text/plain": [
       "<Figure size 1064.35x720 with 1 Axes>"
      ]
     },
     "metadata": {},
     "output_type": "display_data"
    }
   ],
   "source": [
    "# Plot our violins.\n",
    "sns.catplot(x=\"Objetivo\",\n",
    "            y=\"Edad\",\n",
    "            data=df_clientes_edad,\n",
    "            kind=\"violin\",\n",
    "            hue=\"Sex\",\n",
    "            split=True,\n",
    "            height=10,\n",
    "            aspect=11.7 / 8.27,\n",
    "           cut=0)\n",
    "\n",
    "# Rotate the x-axis labels and remove the plot border on the left.\n",
    "plt.xticks(rotation=45, ha='right')\n",
    "sns.despine(left=True)\n",
    "plt.savefig(\"edadgenerogoals.png\")"
   ]
  },
  {
   "cell_type": "markdown",
   "id": "organic-throw",
   "metadata": {},
   "source": [
    "# ENTRENADORES"
   ]
  },
  {
   "cell_type": "code",
   "execution_count": 112,
   "id": "adopted-alberta",
   "metadata": {
    "ExecuteTime": {
     "end_time": "2021-07-13T16:54:56.108213Z",
     "start_time": "2021-07-13T16:54:56.104278Z"
    }
   },
   "outputs": [],
   "source": [
    "entrenadores = ['Javier','Laura','Miriam','Oscar']"
   ]
  },
  {
   "cell_type": "code",
   "execution_count": 113,
   "id": "dried-london",
   "metadata": {
    "ExecuteTime": {
     "end_time": "2021-07-13T16:54:56.784957Z",
     "start_time": "2021-07-13T16:54:56.775388Z"
    }
   },
   "outputs": [
    {
     "name": "stderr",
     "output_type": "stream",
     "text": [
      "<ipython-input-113-a229bcb80d7f>:2: SettingWithCopyWarning: \n",
      "A value is trying to be set on a copy of a slice from a DataFrame\n",
      "\n",
      "See the caveats in the documentation: https://pandas.pydata.org/pandas-docs/stable/user_guide/indexing.html#returning-a-view-versus-a-copy\n",
      "  df_clientes_entrendadores.dropna(inplace = True)\n"
     ]
    }
   ],
   "source": [
    "df_clientes_entrendadores= df_clientes[['Sex','Entrenadores','Status']]\n",
    "df_clientes_entrendadores.dropna(inplace = True)"
   ]
  },
  {
   "cell_type": "code",
   "execution_count": 114,
   "id": "collect-valentine",
   "metadata": {
    "ExecuteTime": {
     "end_time": "2021-07-13T16:54:58.448026Z",
     "start_time": "2021-07-13T16:54:58.441825Z"
    }
   },
   "outputs": [],
   "source": [
    "w = df_clientes_entrendadores['Sex']==0\n",
    "m = df_clientes_entrendadores['Sex']==1\n",
    "c = df_clientes_entrendadores['Status']=='Churned'\n",
    "o = df_clientes_entrendadores['Status']=='Out'\n",
    "u = df_clientes_entrendadores['Status']=='Usuario'"
   ]
  },
  {
   "cell_type": "code",
   "execution_count": 115,
   "id": "religious-reverse",
   "metadata": {
    "ExecuteTime": {
     "end_time": "2021-07-13T16:55:00.915567Z",
     "start_time": "2021-07-13T16:55:00.907092Z"
    }
   },
   "outputs": [],
   "source": [
    "w_c = df_clientes_entrendadores[c&w].sort_values(by=['Entrenadores'])\n",
    "w_o = df_clientes_entrendadores[o&w].sort_values(by=['Entrenadores'])\n",
    "w_u = df_clientes_entrendadores[u&w].sort_values(by=['Entrenadores'])"
   ]
  },
  {
   "cell_type": "code",
   "execution_count": 116,
   "id": "animated-hawaii",
   "metadata": {
    "ExecuteTime": {
     "end_time": "2021-07-13T16:55:01.622098Z",
     "start_time": "2021-07-13T16:55:01.611585Z"
    }
   },
   "outputs": [],
   "source": [
    "m_c = df_clientes_entrendadores[c&m].sort_values(by=['Entrenadores'])\n",
    "m_o = df_clientes_entrendadores[o&m].sort_values(by=['Entrenadores'])\n",
    "m_u = df_clientes_entrendadores[u&m].sort_values(by=['Entrenadores'])"
   ]
  },
  {
   "cell_type": "code",
   "execution_count": 155,
   "id": "outstanding-portrait",
   "metadata": {
    "ExecuteTime": {
     "end_time": "2021-07-13T17:11:30.319060Z",
     "start_time": "2021-07-13T17:11:30.314869Z"
    }
   },
   "outputs": [],
   "source": [
    "def analisis_entrenadores(df):\n",
    "    lista = []\n",
    "    for i in entrenadores:\n",
    "        df_s = df[df['Entrenadores']== i]\n",
    "        num =df_s['Status'].count()\n",
    "        lista.append(num)\n",
    "    return lista"
   ]
  },
  {
   "cell_type": "code",
   "execution_count": 156,
   "id": "vital-accountability",
   "metadata": {
    "ExecuteTime": {
     "end_time": "2021-07-13T17:11:31.023400Z",
     "start_time": "2021-07-13T17:11:30.996481Z"
    }
   },
   "outputs": [],
   "source": [
    "mc = analisis_entrenadores(m_c)\n",
    "mo = analisis_entrenadores(m_o)\n",
    "mu = analisis_entrenadores(m_u)\n",
    "\n",
    "wc = analisis_entrenadores(w_c)\n",
    "wo = analisis_entrenadores(w_o)\n",
    "wu = analisis_entrenadores(w_u)\n"
   ]
  },
  {
   "cell_type": "code",
   "execution_count": 157,
   "id": "liquid-loading",
   "metadata": {
    "ExecuteTime": {
     "end_time": "2021-07-13T17:11:32.228902Z",
     "start_time": "2021-07-13T17:11:31.808536Z"
    }
   },
   "outputs": [
    {
     "data": {
      "image/png": "[encoded data removed]",
      "text/plain": [
       "<Figure size 432x288 with 1 Axes>"
      ]
     },
     "metadata": {},
     "output_type": "display_data"
    }
   ],
   "source": [
    "pos_mut_pcts = np.array(wc)\n",
    "pos_cna_pcts = np.array(wo)\n",
    "pos_both_pcts = np.array(wu)\n",
    "\n",
    "neg_mut_pcts = np.array(mc)\n",
    "neg_cna_pcts = np.array(mo)\n",
    "neg_both_pcts = np.array(mu)\n",
    "genes = entrenadores\n",
    "\n",
    "with sns.axes_style(\"white\"):\n",
    "    sns.set_style(\"ticks\")\n",
    "    sns.set_context(\"talk\")\n",
    "    \n",
    "    # plot details\n",
    "    bar_width = 0.35\n",
    "    epsilon = .015\n",
    "    line_width = 1\n",
    "    opacity = 0.7\n",
    "    pos_bar_positions = np.arange(len(pos_mut_pcts))\n",
    "    neg_bar_positions = pos_bar_positions + bar_width\n",
    "\n",
    "    # make bar plots\n",
    "    hpv_pos_mut_bar = plt.bar(pos_bar_positions, pos_mut_pcts, bar_width,\n",
    "                              color='#990726',\n",
    "                              label='Churned')\n",
    "    hpv_pos_cna_bar = plt.bar(pos_bar_positions, pos_cna_pcts, bar_width-epsilon,\n",
    "                              bottom=pos_mut_pcts,\n",
    "                              alpha=opacity,\n",
    "                              color='#d6ccd5',\n",
    "                              linewidth=line_width,\n",
    "                              label='Out')\n",
    "    hpv_pos_both_bar = plt.bar(pos_bar_positions, pos_both_pcts, bar_width-epsilon,\n",
    "                               bottom=pos_cna_pcts+pos_mut_pcts,\n",
    "                               alpha=opacity,\n",
    "                              color='#923367',\n",
    "                              linewidth=line_width,\n",
    "                               label='Usuario')\n",
    "    hpv_neg_mut_bar = plt.bar(neg_bar_positions, neg_mut_pcts, bar_width,\n",
    "                              color='#6e6d7c',\n",
    "                              label='Churned')\n",
    "    hpv_neg_cna_bar = plt.bar(neg_bar_positions, neg_cna_pcts, bar_width-epsilon,\n",
    "                              bottom=neg_mut_pcts,\n",
    "                              color=\"#9eacc9\",\n",
    "                              linewidth=line_width,\n",
    "                              label='Out')\n",
    "    hpv_neg_both_bar = plt.bar(neg_bar_positions, neg_both_pcts, bar_width-epsilon,\n",
    "                               bottom=neg_cna_pcts+neg_mut_pcts,\n",
    "                               color=\"#b1d5fa\",\n",
    "                               linewidth=line_width,\n",
    "                               label='Usuario')\n",
    "    plt.xticks(neg_bar_positions, entrenadores , rotation=45)\n",
    "    plt.legend(bbox_to_anchor=(1.1, 1.05))  \n",
    "    sns.despine() \n",
    "    plt.savefig(\"coachstatus.png\")\n",
    "    plt.show() \n",
    "   "
   ]
  },
  {
   "cell_type": "markdown",
   "id": "collective-sucking",
   "metadata": {},
   "source": [
    "# WORKOUTS CSV"
   ]
  },
  {
   "cell_type": "code",
   "execution_count": 158,
   "id": "threaded-resource",
   "metadata": {
    "ExecuteTime": {
     "end_time": "2021-07-13T17:11:34.671966Z",
     "start_time": "2021-07-13T17:11:34.652107Z"
    }
   },
   "outputs": [],
   "source": [
    "df_workouts = pd.read_csv('csvs/workouts.csv')\n",
    "df_workouts = pd.DataFrame(df_workouts)"
   ]
  },
  {
   "cell_type": "code",
   "execution_count": 159,
   "id": "noted-schema",
   "metadata": {
    "ExecuteTime": {
     "end_time": "2021-07-13T17:11:35.583645Z",
     "start_time": "2021-07-13T17:11:35.565576Z"
    }
   },
   "outputs": [
    {
     "data": {
      "text/html": [
       "<div>\n",
       "<style scoped>\n",
       "    .dataframe tbody tr th:only-of-type {\n",
       "        vertical-align: middle;\n",
       "    }\n",
       "\n",
       "    .dataframe tbody tr th {\n",
       "        vertical-align: top;\n",
       "    }\n",
       "\n",
       "    .dataframe thead th {\n",
       "        text-align: right;\n",
       "    }\n",
       "</style>\n",
       "<table border=\"1\" class=\"dataframe\">\n",
       "  <thead>\n",
       "    <tr style=\"text-align: right;\">\n",
       "      <th></th>\n",
       "      <th>workoutId</th>\n",
       "      <th>name</th>\n",
       "      <th>coach</th>\n",
       "      <th>type</th>\n",
       "      <th>zonas</th>\n",
       "      <th>duration</th>\n",
       "      <th>date</th>\n",
       "      <th>Sync</th>\n",
       "      <th>Feedback</th>\n",
       "      <th>completed</th>\n",
       "    </tr>\n",
       "  </thead>\n",
       "  <tbody>\n",
       "    <tr>\n",
       "      <th>0</th>\n",
       "      <td>Macarena22</td>\n",
       "      <td>FitCircuit</td>\n",
       "      <td>Miriam</td>\n",
       "      <td>Circuit Training</td>\n",
       "      <td>Full Body</td>\n",
       "      <td>60.0</td>\n",
       "      <td>12/11/2019</td>\n",
       "      <td>https://airtable.com/tblnhWsiv31HIswwM/recIn69...</td>\n",
       "      <td>NaN</td>\n",
       "      <td>NaN</td>\n",
       "    </tr>\n",
       "    <tr>\n",
       "      <th>1</th>\n",
       "      <td>Angel11</td>\n",
       "      <td>Fuerza Bienvenida</td>\n",
       "      <td>Oscar</td>\n",
       "      <td>Fuerza</td>\n",
       "      <td>Full Body</td>\n",
       "      <td>75.0</td>\n",
       "      <td>9/28/2020</td>\n",
       "      <td>https://airtable.com/tblnhWsiv31HIswwM/recJqqs...</td>\n",
       "      <td>8.0</td>\n",
       "      <td>checked</td>\n",
       "    </tr>\n",
       "    <tr>\n",
       "      <th>2</th>\n",
       "      <td>Angel12</td>\n",
       "      <td>Fuerza Calentamiento</td>\n",
       "      <td>Oscar</td>\n",
       "      <td>Fuerza</td>\n",
       "      <td>NaN</td>\n",
       "      <td>75.0</td>\n",
       "      <td>9/29/2020</td>\n",
       "      <td>https://airtable.com/tblnhWsiv31HIswwM/recbLRJ...</td>\n",
       "      <td>NaN</td>\n",
       "      <td>checked</td>\n",
       "    </tr>\n",
       "  </tbody>\n",
       "</table>\n",
       "</div>"
      ],
      "text/plain": [
       "    workoutId                  name   coach              type      zonas  \\\n",
       "0  Macarena22            FitCircuit  Miriam  Circuit Training  Full Body   \n",
       "1     Angel11     Fuerza Bienvenida   Oscar            Fuerza  Full Body   \n",
       "2     Angel12  Fuerza Calentamiento   Oscar            Fuerza        NaN   \n",
       "\n",
       "   duration        date                                               Sync  \\\n",
       "0      60.0  12/11/2019  https://airtable.com/tblnhWsiv31HIswwM/recIn69...   \n",
       "1      75.0   9/28/2020  https://airtable.com/tblnhWsiv31HIswwM/recJqqs...   \n",
       "2      75.0   9/29/2020  https://airtable.com/tblnhWsiv31HIswwM/recbLRJ...   \n",
       "\n",
       "   Feedback completed  \n",
       "0       NaN       NaN  \n",
       "1       8.0   checked  \n",
       "2       NaN   checked  "
      ]
     },
     "execution_count": 159,
     "metadata": {},
     "output_type": "execute_result"
    }
   ],
   "source": [
    "df_workouts.head(3)"
   ]
  },
  {
   "cell_type": "code",
   "execution_count": 160,
   "id": "superior-hormone",
   "metadata": {
    "ExecuteTime": {
     "end_time": "2021-07-13T17:11:36.892901Z",
     "start_time": "2021-07-13T17:11:36.872517Z"
    }
   },
   "outputs": [],
   "source": [
    "def floatnum(x):\n",
    "    if type(x) == float:\n",
    "        x = True\n",
    "    else:\n",
    "        x = False\n",
    "    return x\n",
    "\n",
    "\n",
    "def delete_num(x):\n",
    "    for number in range(10):\n",
    "        number = str(number)\n",
    "        x = x.replace(number, '')\n",
    "    return x\n",
    "\n",
    "\n",
    "df_workouts['user'] = df_workouts['workoutId'].apply(floatnum)\n",
    "df_workouts = df_workouts[df_workouts['user'] == False]\n",
    "df_workouts['user'] = df_workouts['workoutId'].apply(delete_num)"
   ]
  },
  {
   "cell_type": "code",
   "execution_count": 161,
   "id": "interim-restaurant",
   "metadata": {
    "ExecuteTime": {
     "end_time": "2021-07-13T17:11:37.989969Z",
     "start_time": "2021-07-13T17:11:37.959216Z"
    }
   },
   "outputs": [
    {
     "data": {
      "text/html": [
       "<div>\n",
       "<style scoped>\n",
       "    .dataframe tbody tr th:only-of-type {\n",
       "        vertical-align: middle;\n",
       "    }\n",
       "\n",
       "    .dataframe tbody tr th {\n",
       "        vertical-align: top;\n",
       "    }\n",
       "\n",
       "    .dataframe thead th {\n",
       "        text-align: right;\n",
       "    }\n",
       "</style>\n",
       "<table border=\"1\" class=\"dataframe\">\n",
       "  <thead>\n",
       "    <tr style=\"text-align: right;\">\n",
       "      <th></th>\n",
       "      <th>workoutId</th>\n",
       "      <th>name</th>\n",
       "      <th>coach</th>\n",
       "      <th>type</th>\n",
       "      <th>zonas</th>\n",
       "      <th>duration</th>\n",
       "      <th>date</th>\n",
       "      <th>Sync</th>\n",
       "      <th>Feedback</th>\n",
       "      <th>completed</th>\n",
       "      <th>user</th>\n",
       "    </tr>\n",
       "  </thead>\n",
       "  <tbody>\n",
       "    <tr>\n",
       "      <th>0</th>\n",
       "      <td>Macarena22</td>\n",
       "      <td>FitCircuit</td>\n",
       "      <td>Miriam</td>\n",
       "      <td>Circuit Training</td>\n",
       "      <td>Full Body</td>\n",
       "      <td>60.0</td>\n",
       "      <td>12/11/2019</td>\n",
       "      <td>https://airtable.com/tblnhWsiv31HIswwM/recIn69...</td>\n",
       "      <td>NaN</td>\n",
       "      <td>NaN</td>\n",
       "      <td>Macarena</td>\n",
       "    </tr>\n",
       "    <tr>\n",
       "      <th>1</th>\n",
       "      <td>Angel11</td>\n",
       "      <td>Fuerza Bienvenida</td>\n",
       "      <td>Oscar</td>\n",
       "      <td>Fuerza</td>\n",
       "      <td>Full Body</td>\n",
       "      <td>75.0</td>\n",
       "      <td>9/28/2020</td>\n",
       "      <td>https://airtable.com/tblnhWsiv31HIswwM/recJqqs...</td>\n",
       "      <td>8.0</td>\n",
       "      <td>checked</td>\n",
       "      <td>Angel</td>\n",
       "    </tr>\n",
       "    <tr>\n",
       "      <th>2</th>\n",
       "      <td>Angel12</td>\n",
       "      <td>Fuerza Calentamiento</td>\n",
       "      <td>Oscar</td>\n",
       "      <td>Fuerza</td>\n",
       "      <td>NaN</td>\n",
       "      <td>75.0</td>\n",
       "      <td>9/29/2020</td>\n",
       "      <td>https://airtable.com/tblnhWsiv31HIswwM/recbLRJ...</td>\n",
       "      <td>NaN</td>\n",
       "      <td>checked</td>\n",
       "      <td>Angel</td>\n",
       "    </tr>\n",
       "    <tr>\n",
       "      <th>3</th>\n",
       "      <td>Angel13</td>\n",
       "      <td>Fuerza Calentamiento 2</td>\n",
       "      <td>Oscar</td>\n",
       "      <td>Fuerza</td>\n",
       "      <td>NaN</td>\n",
       "      <td>75.0</td>\n",
       "      <td>9/30/2020</td>\n",
       "      <td>https://airtable.com/tblnhWsiv31HIswwM/rec2b8W...</td>\n",
       "      <td>NaN</td>\n",
       "      <td>checked</td>\n",
       "      <td>Angel</td>\n",
       "    </tr>\n",
       "    <tr>\n",
       "      <th>4</th>\n",
       "      <td>Borja11</td>\n",
       "      <td>Primera Carrera</td>\n",
       "      <td>Oscar</td>\n",
       "      <td>Running</td>\n",
       "      <td>Piernas,Core</td>\n",
       "      <td>60.0</td>\n",
       "      <td>10/1/2020</td>\n",
       "      <td>https://airtable.com/tblnhWsiv31HIswwM/recm6Jm...</td>\n",
       "      <td>NaN</td>\n",
       "      <td>checked</td>\n",
       "      <td>Borja</td>\n",
       "    </tr>\n",
       "    <tr>\n",
       "      <th>...</th>\n",
       "      <td>...</td>\n",
       "      <td>...</td>\n",
       "      <td>...</td>\n",
       "      <td>...</td>\n",
       "      <td>...</td>\n",
       "      <td>...</td>\n",
       "      <td>...</td>\n",
       "      <td>...</td>\n",
       "      <td>...</td>\n",
       "      <td>...</td>\n",
       "      <td>...</td>\n",
       "    </tr>\n",
       "    <tr>\n",
       "      <th>1774</th>\n",
       "      <td>JuanC52</td>\n",
       "      <td>GAP!</td>\n",
       "      <td>Laura</td>\n",
       "      <td>Circuit Training</td>\n",
       "      <td>Full Body</td>\n",
       "      <td>45.0</td>\n",
       "      <td>6/2/2021</td>\n",
       "      <td>https://airtable.com/tblnhWsiv31HIswwM/recwwP0...</td>\n",
       "      <td>NaN</td>\n",
       "      <td>NaN</td>\n",
       "      <td>JuanC</td>\n",
       "    </tr>\n",
       "    <tr>\n",
       "      <th>1775</th>\n",
       "      <td>JuanC53</td>\n",
       "      <td>Quemador!</td>\n",
       "      <td>Laura</td>\n",
       "      <td>Circuit Training</td>\n",
       "      <td>Full Body</td>\n",
       "      <td>45.0</td>\n",
       "      <td>6/4/2021</td>\n",
       "      <td>https://airtable.com/tblnhWsiv31HIswwM/recr6Hv...</td>\n",
       "      <td>NaN</td>\n",
       "      <td>NaN</td>\n",
       "      <td>JuanC</td>\n",
       "    </tr>\n",
       "    <tr>\n",
       "      <th>1776</th>\n",
       "      <td>Elena101</td>\n",
       "      <td>Full body!</td>\n",
       "      <td>Laura</td>\n",
       "      <td>Circuit Training</td>\n",
       "      <td>Full Body</td>\n",
       "      <td>30.0</td>\n",
       "      <td>5/31/2021</td>\n",
       "      <td>https://airtable.com/tblnhWsiv31HIswwM/recylHu...</td>\n",
       "      <td>NaN</td>\n",
       "      <td>NaN</td>\n",
       "      <td>Elena</td>\n",
       "    </tr>\n",
       "    <tr>\n",
       "      <th>1777</th>\n",
       "      <td>Elena102</td>\n",
       "      <td>GAP!</td>\n",
       "      <td>Laura</td>\n",
       "      <td>Circuit Training</td>\n",
       "      <td>Full Body</td>\n",
       "      <td>30.0</td>\n",
       "      <td>6/2/2021</td>\n",
       "      <td>https://airtable.com/tblnhWsiv31HIswwM/recWV6b...</td>\n",
       "      <td>NaN</td>\n",
       "      <td>NaN</td>\n",
       "      <td>Elena</td>\n",
       "    </tr>\n",
       "    <tr>\n",
       "      <th>1778</th>\n",
       "      <td>Elena103</td>\n",
       "      <td>Quemador!</td>\n",
       "      <td>Laura</td>\n",
       "      <td>Circuit Training</td>\n",
       "      <td>Full Body</td>\n",
       "      <td>30.0</td>\n",
       "      <td>6/4/2021</td>\n",
       "      <td>https://airtable.com/tblnhWsiv31HIswwM/recm8Xa...</td>\n",
       "      <td>NaN</td>\n",
       "      <td>NaN</td>\n",
       "      <td>Elena</td>\n",
       "    </tr>\n",
       "  </tbody>\n",
       "</table>\n",
       "<p>1761 rows × 11 columns</p>\n",
       "</div>"
      ],
      "text/plain": [
       "       workoutId                    name   coach              type  \\\n",
       "0     Macarena22              FitCircuit  Miriam  Circuit Training   \n",
       "1        Angel11       Fuerza Bienvenida   Oscar            Fuerza   \n",
       "2        Angel12    Fuerza Calentamiento   Oscar            Fuerza   \n",
       "3        Angel13  Fuerza Calentamiento 2   Oscar            Fuerza   \n",
       "4        Borja11         Primera Carrera   Oscar           Running   \n",
       "...          ...                     ...     ...               ...   \n",
       "1774     JuanC52                    GAP!   Laura  Circuit Training   \n",
       "1775     JuanC53               Quemador!   Laura  Circuit Training   \n",
       "1776    Elena101              Full body!   Laura  Circuit Training   \n",
       "1777    Elena102                    GAP!   Laura  Circuit Training   \n",
       "1778    Elena103               Quemador!   Laura  Circuit Training   \n",
       "\n",
       "             zonas  duration        date  \\\n",
       "0        Full Body      60.0  12/11/2019   \n",
       "1        Full Body      75.0   9/28/2020   \n",
       "2              NaN      75.0   9/29/2020   \n",
       "3              NaN      75.0   9/30/2020   \n",
       "4     Piernas,Core      60.0   10/1/2020   \n",
       "...            ...       ...         ...   \n",
       "1774     Full Body      45.0    6/2/2021   \n",
       "1775     Full Body      45.0    6/4/2021   \n",
       "1776     Full Body      30.0   5/31/2021   \n",
       "1777     Full Body      30.0    6/2/2021   \n",
       "1778     Full Body      30.0    6/4/2021   \n",
       "\n",
       "                                                   Sync  Feedback completed  \\\n",
       "0     https://airtable.com/tblnhWsiv31HIswwM/recIn69...       NaN       NaN   \n",
       "1     https://airtable.com/tblnhWsiv31HIswwM/recJqqs...       8.0   checked   \n",
       "2     https://airtable.com/tblnhWsiv31HIswwM/recbLRJ...       NaN   checked   \n",
       "3     https://airtable.com/tblnhWsiv31HIswwM/rec2b8W...       NaN   checked   \n",
       "4     https://airtable.com/tblnhWsiv31HIswwM/recm6Jm...       NaN   checked   \n",
       "...                                                 ...       ...       ...   \n",
       "1774  https://airtable.com/tblnhWsiv31HIswwM/recwwP0...       NaN       NaN   \n",
       "1775  https://airtable.com/tblnhWsiv31HIswwM/recr6Hv...       NaN       NaN   \n",
       "1776  https://airtable.com/tblnhWsiv31HIswwM/recylHu...       NaN       NaN   \n",
       "1777  https://airtable.com/tblnhWsiv31HIswwM/recWV6b...       NaN       NaN   \n",
       "1778  https://airtable.com/tblnhWsiv31HIswwM/recm8Xa...       NaN       NaN   \n",
       "\n",
       "          user  \n",
       "0     Macarena  \n",
       "1        Angel  \n",
       "2        Angel  \n",
       "3        Angel  \n",
       "4        Borja  \n",
       "...        ...  \n",
       "1774     JuanC  \n",
       "1775     JuanC  \n",
       "1776     Elena  \n",
       "1777     Elena  \n",
       "1778     Elena  \n",
       "\n",
       "[1761 rows x 11 columns]"
      ]
     },
     "execution_count": 161,
     "metadata": {},
     "output_type": "execute_result"
    }
   ],
   "source": [
    "df_workouts"
   ]
  },
  {
   "cell_type": "code",
   "execution_count": 153,
   "id": "settled-things",
   "metadata": {
    "ExecuteTime": {
     "end_time": "2021-07-13T17:10:01.235703Z",
     "start_time": "2021-07-13T17:10:01.228375Z"
    }
   },
   "outputs": [],
   "source": [
    "#remove unnecesary colummns \n",
    "df_workouts = df_workouts.drop(columns =['Sync','workoutId'])"
   ]
  },
  {
   "cell_type": "code",
   "execution_count": 162,
   "id": "instrumental-prototype",
   "metadata": {
    "ExecuteTime": {
     "end_time": "2021-07-13T17:12:58.486117Z",
     "start_time": "2021-07-13T17:12:58.480058Z"
    }
   },
   "outputs": [],
   "source": [
    "test = df_clientes[(df_clientes['Status']!='test')&(df_clientes['Status']!='Trial')&(df_clientes['Status']!='Formulario')]\n",
    "test_lista = list(test['Name'])"
   ]
  },
  {
   "cell_type": "code",
   "execution_count": 163,
   "id": "solid-sector",
   "metadata": {
    "ExecuteTime": {
     "end_time": "2021-07-13T17:13:01.162680Z",
     "start_time": "2021-07-13T17:13:01.154594Z"
    }
   },
   "outputs": [
    {
     "data": {
      "text/plain": [
       "['Ana',\n",
       " 'Borja',\n",
       " 'Angel',\n",
       " 'Jose',\n",
       " 'Yago',\n",
       " 'Clara',\n",
       " 'Ignacio',\n",
       " 'Nona',\n",
       " 'Macarena',\n",
       " 'Magdalena',\n",
       " 'Elena',\n",
       " 'Maru',\n",
       " 'Santiago',\n",
       " 'Juan',\n",
       " 'Paulina',\n",
       " 'Carmen',\n",
       " 'Claudia',\n",
       " 'Itziar',\n",
       " 'Gui',\n",
       " 'Lola',\n",
       " 'Jacobo',\n",
       " 'Erik',\n",
       " 'JuanLuis',\n",
       " 'Laura',\n",
       " 'Sonia',\n",
       " 'Carla',\n",
       " 'Alberto',\n",
       " 'Benxa',\n",
       " 'Isi',\n",
       " 'Gaby',\n",
       " 'Maribel',\n",
       " 'Estefania',\n",
       " 'Bilal',\n",
       " 'Maria',\n",
       " 'Victor',\n",
       " 'Carolina',\n",
       " 'ElenaM',\n",
       " 'Pilar',\n",
       " 'MiriamG',\n",
       " 'Leticia Salmeron',\n",
       " 'fati',\n",
       " 'Maria dolores Martinez neria',\n",
       " 'Layla',\n",
       " 'Toñi Avila',\n",
       " 'AlfonsoP',\n",
       " 'PaulaG',\n",
       " 'Cristian',\n",
       " 'JaimeG',\n",
       " 'Jeremmy',\n",
       " 'JoseLuis ',\n",
       " 'Alba',\n",
       " 'Natalia ',\n",
       " 'Leidy',\n",
       " 'Ian Bermejo ',\n",
       " 'JuanC',\n",
       " 'Esther',\n",
       " 'Oskar',\n",
       " 'Matilde',\n",
       " 'JoseM']"
      ]
     },
     "execution_count": 163,
     "metadata": {},
     "output_type": "execute_result"
    }
   ],
   "source": [
    "test_lista"
   ]
  },
  {
   "cell_type": "code",
   "execution_count": 164,
   "id": "golden-generation",
   "metadata": {
    "ExecuteTime": {
     "end_time": "2021-07-13T17:13:13.271447Z",
     "start_time": "2021-07-13T17:13:13.267429Z"
    }
   },
   "outputs": [],
   "source": [
    "def remove_test(x):\n",
    "    if not x in test_lista:\n",
    "        x = np.NaN\n",
    "    return x"
   ]
  },
  {
   "cell_type": "code",
   "execution_count": 165,
   "id": "liquid-sucking",
   "metadata": {
    "ExecuteTime": {
     "end_time": "2021-07-13T17:13:14.724590Z",
     "start_time": "2021-07-13T17:13:14.715809Z"
    }
   },
   "outputs": [],
   "source": [
    "df_workouts['user'] = df_workouts['user'].apply(remove_test)\n",
    "df_workouts= df_workouts[df_workouts['user'].notna()]"
   ]
  },
  {
   "cell_type": "code",
   "execution_count": 166,
   "id": "powered-offset",
   "metadata": {
    "ExecuteTime": {
     "end_time": "2021-07-13T17:13:16.028428Z",
     "start_time": "2021-07-13T17:13:16.019438Z"
    }
   },
   "outputs": [
    {
     "data": {
      "text/plain": [
       "array(['Macarena', 'Angel', 'Borja', 'Jose', 'Yago', 'Magdalena', 'Nona',\n",
       "       'Ignacio', 'Elena', 'Maru', 'Santiago', 'Juan', 'Paulina',\n",
       "       'Carmen', 'Claudia', 'Itziar', 'Jacobo', 'Lola', 'JuanLuis', 'Gui',\n",
       "       'Erik', 'Laura', 'Sonia', 'Alberto', 'AlfonsoP', 'JoseLuis ',\n",
       "       'Gaby', 'Maria', 'Estefania', 'Maribel', 'Benxa', 'Isi', 'Victor',\n",
       "       'ElenaM', 'Carolina', 'Pilar', 'fati', 'PaulaG',\n",
       "       'Leticia Salmeron', 'Cristian', 'Layla', 'JaimeG', 'Jeremmy',\n",
       "       'Leidy', 'Oskar', 'JuanC', 'Alba'], dtype=object)"
      ]
     },
     "execution_count": 166,
     "metadata": {},
     "output_type": "execute_result"
    }
   ],
   "source": [
    "df_workouts['user'].unique()"
   ]
  },
  {
   "cell_type": "code",
   "execution_count": 167,
   "id": "sitting-declaration",
   "metadata": {
    "ExecuteTime": {
     "end_time": "2021-07-13T17:13:19.907301Z",
     "start_time": "2021-07-13T17:13:19.879878Z"
    },
    "scrolled": true
   },
   "outputs": [
    {
     "data": {
      "text/html": [
       "<div>\n",
       "<style scoped>\n",
       "    .dataframe tbody tr th:only-of-type {\n",
       "        vertical-align: middle;\n",
       "    }\n",
       "\n",
       "    .dataframe tbody tr th {\n",
       "        vertical-align: top;\n",
       "    }\n",
       "\n",
       "    .dataframe thead th {\n",
       "        text-align: right;\n",
       "    }\n",
       "</style>\n",
       "<table border=\"1\" class=\"dataframe\">\n",
       "  <thead>\n",
       "    <tr style=\"text-align: right;\">\n",
       "      <th></th>\n",
       "      <th>workoutId</th>\n",
       "      <th>name</th>\n",
       "      <th>coach</th>\n",
       "      <th>type</th>\n",
       "      <th>zonas</th>\n",
       "      <th>duration</th>\n",
       "      <th>date</th>\n",
       "      <th>Sync</th>\n",
       "      <th>Feedback</th>\n",
       "      <th>completed</th>\n",
       "      <th>user</th>\n",
       "    </tr>\n",
       "  </thead>\n",
       "  <tbody>\n",
       "    <tr>\n",
       "      <th>0</th>\n",
       "      <td>Macarena22</td>\n",
       "      <td>FitCircuit</td>\n",
       "      <td>Miriam</td>\n",
       "      <td>Circuit Training</td>\n",
       "      <td>Full Body</td>\n",
       "      <td>60.0</td>\n",
       "      <td>12/11/2019</td>\n",
       "      <td>https://airtable.com/tblnhWsiv31HIswwM/recIn69...</td>\n",
       "      <td>NaN</td>\n",
       "      <td>NaN</td>\n",
       "      <td>Macarena</td>\n",
       "    </tr>\n",
       "    <tr>\n",
       "      <th>1</th>\n",
       "      <td>Angel11</td>\n",
       "      <td>Fuerza Bienvenida</td>\n",
       "      <td>Oscar</td>\n",
       "      <td>Fuerza</td>\n",
       "      <td>Full Body</td>\n",
       "      <td>75.0</td>\n",
       "      <td>9/28/2020</td>\n",
       "      <td>https://airtable.com/tblnhWsiv31HIswwM/recJqqs...</td>\n",
       "      <td>8.0</td>\n",
       "      <td>checked</td>\n",
       "      <td>Angel</td>\n",
       "    </tr>\n",
       "    <tr>\n",
       "      <th>2</th>\n",
       "      <td>Angel12</td>\n",
       "      <td>Fuerza Calentamiento</td>\n",
       "      <td>Oscar</td>\n",
       "      <td>Fuerza</td>\n",
       "      <td>NaN</td>\n",
       "      <td>75.0</td>\n",
       "      <td>9/29/2020</td>\n",
       "      <td>https://airtable.com/tblnhWsiv31HIswwM/recbLRJ...</td>\n",
       "      <td>NaN</td>\n",
       "      <td>checked</td>\n",
       "      <td>Angel</td>\n",
       "    </tr>\n",
       "    <tr>\n",
       "      <th>3</th>\n",
       "      <td>Angel13</td>\n",
       "      <td>Fuerza Calentamiento 2</td>\n",
       "      <td>Oscar</td>\n",
       "      <td>Fuerza</td>\n",
       "      <td>NaN</td>\n",
       "      <td>75.0</td>\n",
       "      <td>9/30/2020</td>\n",
       "      <td>https://airtable.com/tblnhWsiv31HIswwM/rec2b8W...</td>\n",
       "      <td>NaN</td>\n",
       "      <td>checked</td>\n",
       "      <td>Angel</td>\n",
       "    </tr>\n",
       "    <tr>\n",
       "      <th>4</th>\n",
       "      <td>Borja11</td>\n",
       "      <td>Primera Carrera</td>\n",
       "      <td>Oscar</td>\n",
       "      <td>Running</td>\n",
       "      <td>Piernas,Core</td>\n",
       "      <td>60.0</td>\n",
       "      <td>10/1/2020</td>\n",
       "      <td>https://airtable.com/tblnhWsiv31HIswwM/recm6Jm...</td>\n",
       "      <td>NaN</td>\n",
       "      <td>checked</td>\n",
       "      <td>Borja</td>\n",
       "    </tr>\n",
       "    <tr>\n",
       "      <th>...</th>\n",
       "      <td>...</td>\n",
       "      <td>...</td>\n",
       "      <td>...</td>\n",
       "      <td>...</td>\n",
       "      <td>...</td>\n",
       "      <td>...</td>\n",
       "      <td>...</td>\n",
       "      <td>...</td>\n",
       "      <td>...</td>\n",
       "      <td>...</td>\n",
       "      <td>...</td>\n",
       "    </tr>\n",
       "    <tr>\n",
       "      <th>1774</th>\n",
       "      <td>JuanC52</td>\n",
       "      <td>GAP!</td>\n",
       "      <td>Laura</td>\n",
       "      <td>Circuit Training</td>\n",
       "      <td>Full Body</td>\n",
       "      <td>45.0</td>\n",
       "      <td>6/2/2021</td>\n",
       "      <td>https://airtable.com/tblnhWsiv31HIswwM/recwwP0...</td>\n",
       "      <td>NaN</td>\n",
       "      <td>NaN</td>\n",
       "      <td>JuanC</td>\n",
       "    </tr>\n",
       "    <tr>\n",
       "      <th>1775</th>\n",
       "      <td>JuanC53</td>\n",
       "      <td>Quemador!</td>\n",
       "      <td>Laura</td>\n",
       "      <td>Circuit Training</td>\n",
       "      <td>Full Body</td>\n",
       "      <td>45.0</td>\n",
       "      <td>6/4/2021</td>\n",
       "      <td>https://airtable.com/tblnhWsiv31HIswwM/recr6Hv...</td>\n",
       "      <td>NaN</td>\n",
       "      <td>NaN</td>\n",
       "      <td>JuanC</td>\n",
       "    </tr>\n",
       "    <tr>\n",
       "      <th>1776</th>\n",
       "      <td>Elena101</td>\n",
       "      <td>Full body!</td>\n",
       "      <td>Laura</td>\n",
       "      <td>Circuit Training</td>\n",
       "      <td>Full Body</td>\n",
       "      <td>30.0</td>\n",
       "      <td>5/31/2021</td>\n",
       "      <td>https://airtable.com/tblnhWsiv31HIswwM/recylHu...</td>\n",
       "      <td>NaN</td>\n",
       "      <td>NaN</td>\n",
       "      <td>Elena</td>\n",
       "    </tr>\n",
       "    <tr>\n",
       "      <th>1777</th>\n",
       "      <td>Elena102</td>\n",
       "      <td>GAP!</td>\n",
       "      <td>Laura</td>\n",
       "      <td>Circuit Training</td>\n",
       "      <td>Full Body</td>\n",
       "      <td>30.0</td>\n",
       "      <td>6/2/2021</td>\n",
       "      <td>https://airtable.com/tblnhWsiv31HIswwM/recWV6b...</td>\n",
       "      <td>NaN</td>\n",
       "      <td>NaN</td>\n",
       "      <td>Elena</td>\n",
       "    </tr>\n",
       "    <tr>\n",
       "      <th>1778</th>\n",
       "      <td>Elena103</td>\n",
       "      <td>Quemador!</td>\n",
       "      <td>Laura</td>\n",
       "      <td>Circuit Training</td>\n",
       "      <td>Full Body</td>\n",
       "      <td>30.0</td>\n",
       "      <td>6/4/2021</td>\n",
       "      <td>https://airtable.com/tblnhWsiv31HIswwM/recm8Xa...</td>\n",
       "      <td>NaN</td>\n",
       "      <td>NaN</td>\n",
       "      <td>Elena</td>\n",
       "    </tr>\n",
       "  </tbody>\n",
       "</table>\n",
       "<p>1489 rows × 11 columns</p>\n",
       "</div>"
      ],
      "text/plain": [
       "       workoutId                    name   coach              type  \\\n",
       "0     Macarena22              FitCircuit  Miriam  Circuit Training   \n",
       "1        Angel11       Fuerza Bienvenida   Oscar            Fuerza   \n",
       "2        Angel12    Fuerza Calentamiento   Oscar            Fuerza   \n",
       "3        Angel13  Fuerza Calentamiento 2   Oscar            Fuerza   \n",
       "4        Borja11         Primera Carrera   Oscar           Running   \n",
       "...          ...                     ...     ...               ...   \n",
       "1774     JuanC52                    GAP!   Laura  Circuit Training   \n",
       "1775     JuanC53               Quemador!   Laura  Circuit Training   \n",
       "1776    Elena101              Full body!   Laura  Circuit Training   \n",
       "1777    Elena102                    GAP!   Laura  Circuit Training   \n",
       "1778    Elena103               Quemador!   Laura  Circuit Training   \n",
       "\n",
       "             zonas  duration        date  \\\n",
       "0        Full Body      60.0  12/11/2019   \n",
       "1        Full Body      75.0   9/28/2020   \n",
       "2              NaN      75.0   9/29/2020   \n",
       "3              NaN      75.0   9/30/2020   \n",
       "4     Piernas,Core      60.0   10/1/2020   \n",
       "...            ...       ...         ...   \n",
       "1774     Full Body      45.0    6/2/2021   \n",
       "1775     Full Body      45.0    6/4/2021   \n",
       "1776     Full Body      30.0   5/31/2021   \n",
       "1777     Full Body      30.0    6/2/2021   \n",
       "1778     Full Body      30.0    6/4/2021   \n",
       "\n",
       "                                                   Sync  Feedback completed  \\\n",
       "0     https://airtable.com/tblnhWsiv31HIswwM/recIn69...       NaN       NaN   \n",
       "1     https://airtable.com/tblnhWsiv31HIswwM/recJqqs...       8.0   checked   \n",
       "2     https://airtable.com/tblnhWsiv31HIswwM/recbLRJ...       NaN   checked   \n",
       "3     https://airtable.com/tblnhWsiv31HIswwM/rec2b8W...       NaN   checked   \n",
       "4     https://airtable.com/tblnhWsiv31HIswwM/recm6Jm...       NaN   checked   \n",
       "...                                                 ...       ...       ...   \n",
       "1774  https://airtable.com/tblnhWsiv31HIswwM/recwwP0...       NaN       NaN   \n",
       "1775  https://airtable.com/tblnhWsiv31HIswwM/recr6Hv...       NaN       NaN   \n",
       "1776  https://airtable.com/tblnhWsiv31HIswwM/recylHu...       NaN       NaN   \n",
       "1777  https://airtable.com/tblnhWsiv31HIswwM/recWV6b...       NaN       NaN   \n",
       "1778  https://airtable.com/tblnhWsiv31HIswwM/recm8Xa...       NaN       NaN   \n",
       "\n",
       "          user  \n",
       "0     Macarena  \n",
       "1        Angel  \n",
       "2        Angel  \n",
       "3        Angel  \n",
       "4        Borja  \n",
       "...        ...  \n",
       "1774     JuanC  \n",
       "1775     JuanC  \n",
       "1776     Elena  \n",
       "1777     Elena  \n",
       "1778     Elena  \n",
       "\n",
       "[1489 rows x 11 columns]"
      ]
     },
     "execution_count": 167,
     "metadata": {},
     "output_type": "execute_result"
    }
   ],
   "source": [
    "df_workouts"
   ]
  },
  {
   "cell_type": "markdown",
   "id": "suspected-heaven",
   "metadata": {},
   "source": [
    "## CHECK WORKOUT"
   ]
  },
  {
   "cell_type": "code",
   "execution_count": 168,
   "id": "royal-custom",
   "metadata": {
    "ExecuteTime": {
     "end_time": "2021-07-13T17:13:28.828115Z",
     "start_time": "2021-07-13T17:13:28.822999Z"
    }
   },
   "outputs": [
    {
     "name": "stderr",
     "output_type": "stream",
     "text": [
      "<ipython-input-168-bb4ca94231fd>:1: SettingWithCopyWarning: \n",
      "A value is trying to be set on a copy of a slice from a DataFrame.\n",
      "Try using .loc[row_indexer,col_indexer] = value instead\n",
      "\n",
      "See the caveats in the documentation: https://pandas.pydata.org/pandas-docs/stable/user_guide/indexing.html#returning-a-view-versus-a-copy\n",
      "  df_workouts['completed'] = df_workouts['completed'].fillna('not checked')\n"
     ]
    }
   ],
   "source": [
    "df_workouts['completed'] = df_workouts['completed'].fillna('not checked')"
   ]
  },
  {
   "cell_type": "code",
   "execution_count": 169,
   "id": "sitting-surname",
   "metadata": {
    "ExecuteTime": {
     "end_time": "2021-07-13T17:13:30.274843Z",
     "start_time": "2021-07-13T17:13:30.271102Z"
    }
   },
   "outputs": [],
   "source": [
    "df_check = df_workouts"
   ]
  },
  {
   "cell_type": "code",
   "execution_count": 170,
   "id": "crazy-setting",
   "metadata": {
    "ExecuteTime": {
     "end_time": "2021-07-13T17:13:47.624858Z",
     "start_time": "2021-07-13T17:13:47.608230Z"
    }
   },
   "outputs": [
    {
     "data": {
      "text/html": [
       "<div>\n",
       "<style scoped>\n",
       "    .dataframe tbody tr th:only-of-type {\n",
       "        vertical-align: middle;\n",
       "    }\n",
       "\n",
       "    .dataframe tbody tr th {\n",
       "        vertical-align: top;\n",
       "    }\n",
       "\n",
       "    .dataframe thead th {\n",
       "        text-align: right;\n",
       "    }\n",
       "</style>\n",
       "<table border=\"1\" class=\"dataframe\">\n",
       "  <thead>\n",
       "    <tr style=\"text-align: right;\">\n",
       "      <th></th>\n",
       "      <th>workoutId</th>\n",
       "      <th>name</th>\n",
       "      <th>coach</th>\n",
       "      <th>type</th>\n",
       "      <th>zonas</th>\n",
       "      <th>duration</th>\n",
       "      <th>date</th>\n",
       "      <th>Sync</th>\n",
       "      <th>Feedback</th>\n",
       "      <th>completed</th>\n",
       "      <th>user</th>\n",
       "    </tr>\n",
       "  </thead>\n",
       "  <tbody>\n",
       "    <tr>\n",
       "      <th>0</th>\n",
       "      <td>Macarena22</td>\n",
       "      <td>FitCircuit</td>\n",
       "      <td>Miriam</td>\n",
       "      <td>Circuit Training</td>\n",
       "      <td>Full Body</td>\n",
       "      <td>60.0</td>\n",
       "      <td>12/11/2019</td>\n",
       "      <td>https://airtable.com/tblnhWsiv31HIswwM/recIn69...</td>\n",
       "      <td>NaN</td>\n",
       "      <td>not checked</td>\n",
       "      <td>Macarena</td>\n",
       "    </tr>\n",
       "    <tr>\n",
       "      <th>1</th>\n",
       "      <td>Angel11</td>\n",
       "      <td>Fuerza Bienvenida</td>\n",
       "      <td>Oscar</td>\n",
       "      <td>Fuerza</td>\n",
       "      <td>Full Body</td>\n",
       "      <td>75.0</td>\n",
       "      <td>9/28/2020</td>\n",
       "      <td>https://airtable.com/tblnhWsiv31HIswwM/recJqqs...</td>\n",
       "      <td>8.0</td>\n",
       "      <td>checked</td>\n",
       "      <td>Angel</td>\n",
       "    </tr>\n",
       "    <tr>\n",
       "      <th>2</th>\n",
       "      <td>Angel12</td>\n",
       "      <td>Fuerza Calentamiento</td>\n",
       "      <td>Oscar</td>\n",
       "      <td>Fuerza</td>\n",
       "      <td>NaN</td>\n",
       "      <td>75.0</td>\n",
       "      <td>9/29/2020</td>\n",
       "      <td>https://airtable.com/tblnhWsiv31HIswwM/recbLRJ...</td>\n",
       "      <td>NaN</td>\n",
       "      <td>checked</td>\n",
       "      <td>Angel</td>\n",
       "    </tr>\n",
       "  </tbody>\n",
       "</table>\n",
       "</div>"
      ],
      "text/plain": [
       "    workoutId                  name   coach              type      zonas  \\\n",
       "0  Macarena22            FitCircuit  Miriam  Circuit Training  Full Body   \n",
       "1     Angel11     Fuerza Bienvenida   Oscar            Fuerza  Full Body   \n",
       "2     Angel12  Fuerza Calentamiento   Oscar            Fuerza        NaN   \n",
       "\n",
       "   duration        date                                               Sync  \\\n",
       "0      60.0  12/11/2019  https://airtable.com/tblnhWsiv31HIswwM/recIn69...   \n",
       "1      75.0   9/28/2020  https://airtable.com/tblnhWsiv31HIswwM/recJqqs...   \n",
       "2      75.0   9/29/2020  https://airtable.com/tblnhWsiv31HIswwM/recbLRJ...   \n",
       "\n",
       "   Feedback    completed      user  \n",
       "0       NaN  not checked  Macarena  \n",
       "1       8.0      checked     Angel  \n",
       "2       NaN      checked     Angel  "
      ]
     },
     "execution_count": 170,
     "metadata": {},
     "output_type": "execute_result"
    }
   ],
   "source": [
    "df_check.head(3)"
   ]
  },
  {
   "cell_type": "markdown",
   "id": "patient-grave",
   "metadata": {},
   "source": [
    "### CHECK WORKOUT GENERAL"
   ]
  },
  {
   "cell_type": "code",
   "execution_count": 171,
   "id": "biological-determination",
   "metadata": {
    "ExecuteTime": {
     "end_time": "2021-07-13T17:13:49.623848Z",
     "start_time": "2021-07-13T17:13:49.619093Z"
    }
   },
   "outputs": [],
   "source": [
    "df_check = df_workouts[['user','completed', 'Feedback']]"
   ]
  },
  {
   "cell_type": "code",
   "execution_count": 172,
   "id": "informative-palestinian",
   "metadata": {
    "ExecuteTime": {
     "end_time": "2021-07-13T17:13:51.559865Z",
     "start_time": "2021-07-13T17:13:51.552829Z"
    }
   },
   "outputs": [],
   "source": [
    "df_check = df_check.groupby('completed').count()"
   ]
  },
  {
   "cell_type": "code",
   "execution_count": 173,
   "id": "disabled-opportunity",
   "metadata": {
    "ExecuteTime": {
     "end_time": "2021-07-13T17:13:52.374618Z",
     "start_time": "2021-07-13T17:13:52.364012Z"
    }
   },
   "outputs": [
    {
     "data": {
      "text/html": [
       "<div>\n",
       "<style scoped>\n",
       "    .dataframe tbody tr th:only-of-type {\n",
       "        vertical-align: middle;\n",
       "    }\n",
       "\n",
       "    .dataframe tbody tr th {\n",
       "        vertical-align: top;\n",
       "    }\n",
       "\n",
       "    .dataframe thead th {\n",
       "        text-align: right;\n",
       "    }\n",
       "</style>\n",
       "<table border=\"1\" class=\"dataframe\">\n",
       "  <thead>\n",
       "    <tr style=\"text-align: right;\">\n",
       "      <th></th>\n",
       "      <th>completed</th>\n",
       "      <th>user</th>\n",
       "      <th>Feedback</th>\n",
       "    </tr>\n",
       "  </thead>\n",
       "  <tbody>\n",
       "    <tr>\n",
       "      <th>0</th>\n",
       "      <td>checked</td>\n",
       "      <td>577</td>\n",
       "      <td>506</td>\n",
       "    </tr>\n",
       "    <tr>\n",
       "      <th>1</th>\n",
       "      <td>not checked</td>\n",
       "      <td>912</td>\n",
       "      <td>0</td>\n",
       "    </tr>\n",
       "  </tbody>\n",
       "</table>\n",
       "</div>"
      ],
      "text/plain": [
       "     completed  user  Feedback\n",
       "0      checked   577       506\n",
       "1  not checked   912         0"
      ]
     },
     "execution_count": 173,
     "metadata": {},
     "output_type": "execute_result"
    }
   ],
   "source": [
    "df_check= df_check.reset_index()\n",
    "df_check"
   ]
  },
  {
   "cell_type": "code",
   "execution_count": 174,
   "id": "active-teach",
   "metadata": {
    "ExecuteTime": {
     "end_time": "2021-07-13T17:13:53.673822Z",
     "start_time": "2021-07-13T17:13:53.668180Z"
    }
   },
   "outputs": [
    {
     "data": {
      "text/plain": [
       "1489"
      ]
     },
     "execution_count": 174,
     "metadata": {},
     "output_type": "execute_result"
    }
   ],
   "source": [
    "total = df_check['user'].sum()\n",
    "total"
   ]
  },
  {
   "cell_type": "code",
   "execution_count": 175,
   "id": "marked-creature",
   "metadata": {
    "ExecuteTime": {
     "end_time": "2021-07-13T17:13:55.019973Z",
     "start_time": "2021-07-13T17:13:55.015185Z"
    }
   },
   "outputs": [],
   "source": [
    "df_check_c = (df_check.iloc[0,1]*100/total).round(1)\n",
    "df_check_nc = (df_check.iloc[1,1]*100/total).round(1)"
   ]
  },
  {
   "cell_type": "code",
   "execution_count": 176,
   "id": "regular-torture",
   "metadata": {
    "ExecuteTime": {
     "end_time": "2021-07-13T17:13:56.943696Z",
     "start_time": "2021-07-13T17:13:56.937912Z"
    }
   },
   "outputs": [
    {
     "data": {
      "text/plain": [
       "38.8"
      ]
     },
     "execution_count": 176,
     "metadata": {},
     "output_type": "execute_result"
    }
   ],
   "source": [
    "df_check_c"
   ]
  },
  {
   "cell_type": "code",
   "execution_count": 180,
   "id": "compatible-storage",
   "metadata": {
    "ExecuteTime": {
     "end_time": "2021-07-13T17:15:31.675558Z",
     "start_time": "2021-07-13T17:15:31.427185Z"
    }
   },
   "outputs": [
    {
     "data": {
      "image/png": "[encoded data removed]",
      "text/plain": [
       "<Figure size 432x288 with 1 Axes>"
      ]
     },
     "metadata": {},
     "output_type": "display_data"
    }
   ],
   "source": [
    "X = 2\n",
    "plt.bar(2 - 0.4, df_check_c , color='steelblue')\n",
    "plt.text(1+1 / 2, 2 + 1 * 1.01, str(df_check_c) + '%', ha='center', weight='bold',size =25, color = 'white')\n",
    "plt.bar(2 + 0.4, df_check_nc, color='orange')\n",
    "plt.text(2 + 1 / 2, 2 + 1 * 1.01, str(df_check_nc) + '%', ha='center', weight='bold', size =25, color = 'white')\n",
    "plt.savefig(\"terminanwo.png\")\n",
    "plt.show()"
   ]
  },
  {
   "cell_type": "code",
   "execution_count": 181,
   "id": "integral-minority",
   "metadata": {
    "ExecuteTime": {
     "end_time": "2021-07-13T17:16:06.445971Z",
     "start_time": "2021-07-13T17:16:06.438200Z"
    }
   },
   "outputs": [],
   "source": [
    "df_check = df_workouts[['coach','completed']]\n",
    "df_checkt = df_check.groupby('coach').count()\n",
    "df_checkt = df_checkt.rename(columns={'completed':'total wo'})"
   ]
  },
  {
   "cell_type": "code",
   "execution_count": 182,
   "id": "spatial-correspondence",
   "metadata": {
    "ExecuteTime": {
     "end_time": "2021-07-13T17:16:07.162779Z",
     "start_time": "2021-07-13T17:16:07.151881Z"
    }
   },
   "outputs": [],
   "source": [
    "df_check_c = df_check[df_check['completed']=='checked']\n",
    "df_check_c = df_check_c.groupby('coach').count()\n",
    "df_check_c = df_check_c.rename(columns={'completed':'wo completed'})"
   ]
  },
  {
   "cell_type": "code",
   "execution_count": 183,
   "id": "joint-pathology",
   "metadata": {
    "ExecuteTime": {
     "end_time": "2021-07-13T17:16:07.774009Z",
     "start_time": "2021-07-13T17:16:07.762943Z"
    }
   },
   "outputs": [],
   "source": [
    "df_check_ic = df_check[df_check['completed']=='not checked']\n",
    "df_check_ic = df_check_ic.groupby('coach').count()\n",
    "df_check_ic = df_check_ic.rename(columns={'completed':'wo not completed'})"
   ]
  },
  {
   "cell_type": "code",
   "execution_count": 184,
   "id": "certified-agriculture",
   "metadata": {
    "ExecuteTime": {
     "end_time": "2021-07-13T17:16:08.482881Z",
     "start_time": "2021-07-13T17:16:08.455950Z"
    }
   },
   "outputs": [
    {
     "data": {
      "text/html": [
       "<div>\n",
       "<style scoped>\n",
       "    .dataframe tbody tr th:only-of-type {\n",
       "        vertical-align: middle;\n",
       "    }\n",
       "\n",
       "    .dataframe tbody tr th {\n",
       "        vertical-align: top;\n",
       "    }\n",
       "\n",
       "    .dataframe thead th {\n",
       "        text-align: right;\n",
       "    }\n",
       "</style>\n",
       "<table border=\"1\" class=\"dataframe\">\n",
       "  <thead>\n",
       "    <tr style=\"text-align: right;\">\n",
       "      <th></th>\n",
       "      <th>total wo</th>\n",
       "      <th>wo completed</th>\n",
       "      <th>wo not completed</th>\n",
       "    </tr>\n",
       "    <tr>\n",
       "      <th>coach</th>\n",
       "      <th></th>\n",
       "      <th></th>\n",
       "      <th></th>\n",
       "    </tr>\n",
       "  </thead>\n",
       "  <tbody>\n",
       "    <tr>\n",
       "      <th>Javier</th>\n",
       "      <td>171</td>\n",
       "      <td>86</td>\n",
       "      <td>85</td>\n",
       "    </tr>\n",
       "    <tr>\n",
       "      <th>Ken</th>\n",
       "      <td>2</td>\n",
       "      <td>1</td>\n",
       "      <td>1</td>\n",
       "    </tr>\n",
       "    <tr>\n",
       "      <th>Laura</th>\n",
       "      <td>268</td>\n",
       "      <td>102</td>\n",
       "      <td>166</td>\n",
       "    </tr>\n",
       "    <tr>\n",
       "      <th>Miriam</th>\n",
       "      <td>272</td>\n",
       "      <td>107</td>\n",
       "      <td>165</td>\n",
       "    </tr>\n",
       "    <tr>\n",
       "      <th>Oscar</th>\n",
       "      <td>776</td>\n",
       "      <td>281</td>\n",
       "      <td>495</td>\n",
       "    </tr>\n",
       "  </tbody>\n",
       "</table>\n",
       "</div>"
      ],
      "text/plain": [
       "        total wo  wo completed  wo not completed\n",
       "coach                                           \n",
       "Javier       171            86                85\n",
       "Ken            2             1                 1\n",
       "Laura        268           102               166\n",
       "Miriam       272           107               165\n",
       "Oscar        776           281               495"
      ]
     },
     "execution_count": 184,
     "metadata": {},
     "output_type": "execute_result"
    }
   ],
   "source": [
    "df_checkt['wo completed']= df_check_c['wo completed']\n",
    "df_checkt['wo not completed']= df_check_ic['wo not completed']\n",
    "df_checkt"
   ]
  },
  {
   "cell_type": "code",
   "execution_count": 185,
   "id": "focused-interstate",
   "metadata": {
    "ExecuteTime": {
     "end_time": "2021-07-13T17:16:09.086914Z",
     "start_time": "2021-07-13T17:16:09.069890Z"
    }
   },
   "outputs": [],
   "source": [
    "df_checkt['wo completed']= df_checkt.apply(lambda x: ((x['wo completed']*100)/(x['total wo'])).round(1), axis=1)\n",
    "df_checkt['wo not completed']= df_checkt.apply(lambda x: (x['wo not completed']*100/x['total wo']).round(1), axis = 1)"
   ]
  },
  {
   "cell_type": "code",
   "execution_count": 186,
   "id": "diverse-addition",
   "metadata": {
    "ExecuteTime": {
     "end_time": "2021-07-13T17:16:09.822837Z",
     "start_time": "2021-07-13T17:16:09.814418Z"
    }
   },
   "outputs": [],
   "source": [
    "df_checkt.drop(index ='Ken', inplace = True)\n"
   ]
  },
  {
   "cell_type": "code",
   "execution_count": 187,
   "id": "consolidated-vietnamese",
   "metadata": {
    "ExecuteTime": {
     "end_time": "2021-07-13T17:16:10.503391Z",
     "start_time": "2021-07-13T17:16:10.476489Z"
    }
   },
   "outputs": [
    {
     "data": {
      "text/html": [
       "<div>\n",
       "<style scoped>\n",
       "    .dataframe tbody tr th:only-of-type {\n",
       "        vertical-align: middle;\n",
       "    }\n",
       "\n",
       "    .dataframe tbody tr th {\n",
       "        vertical-align: top;\n",
       "    }\n",
       "\n",
       "    .dataframe thead th {\n",
       "        text-align: right;\n",
       "    }\n",
       "</style>\n",
       "<table border=\"1\" class=\"dataframe\">\n",
       "  <thead>\n",
       "    <tr style=\"text-align: right;\">\n",
       "      <th></th>\n",
       "      <th>total wo</th>\n",
       "      <th>wo completed</th>\n",
       "      <th>wo not completed</th>\n",
       "    </tr>\n",
       "    <tr>\n",
       "      <th>coach</th>\n",
       "      <th></th>\n",
       "      <th></th>\n",
       "      <th></th>\n",
       "    </tr>\n",
       "  </thead>\n",
       "  <tbody>\n",
       "    <tr>\n",
       "      <th>Javier</th>\n",
       "      <td>171</td>\n",
       "      <td>50.3</td>\n",
       "      <td>49.7</td>\n",
       "    </tr>\n",
       "    <tr>\n",
       "      <th>Laura</th>\n",
       "      <td>268</td>\n",
       "      <td>38.1</td>\n",
       "      <td>61.9</td>\n",
       "    </tr>\n",
       "    <tr>\n",
       "      <th>Miriam</th>\n",
       "      <td>272</td>\n",
       "      <td>39.3</td>\n",
       "      <td>60.7</td>\n",
       "    </tr>\n",
       "    <tr>\n",
       "      <th>Oscar</th>\n",
       "      <td>776</td>\n",
       "      <td>36.2</td>\n",
       "      <td>63.8</td>\n",
       "    </tr>\n",
       "  </tbody>\n",
       "</table>\n",
       "</div>"
      ],
      "text/plain": [
       "        total wo  wo completed  wo not completed\n",
       "coach                                           \n",
       "Javier       171          50.3              49.7\n",
       "Laura        268          38.1              61.9\n",
       "Miriam       272          39.3              60.7\n",
       "Oscar        776          36.2              63.8"
      ]
     },
     "execution_count": 187,
     "metadata": {},
     "output_type": "execute_result"
    }
   ],
   "source": [
    "df_checkt"
   ]
  },
  {
   "cell_type": "code",
   "execution_count": 188,
   "id": "verbal-testament",
   "metadata": {
    "ExecuteTime": {
     "end_time": "2021-07-13T17:16:11.212967Z",
     "start_time": "2021-07-13T17:16:11.151122Z"
    },
    "scrolled": true
   },
   "outputs": [
    {
     "data": {
      "text/html": [
       "<div>\n",
       "<style scoped>\n",
       "    .dataframe tbody tr th:only-of-type {\n",
       "        vertical-align: middle;\n",
       "    }\n",
       "\n",
       "    .dataframe tbody tr th {\n",
       "        vertical-align: top;\n",
       "    }\n",
       "\n",
       "    .dataframe thead th {\n",
       "        text-align: right;\n",
       "    }\n",
       "</style>\n",
       "<table border=\"1\" class=\"dataframe\">\n",
       "  <thead>\n",
       "    <tr style=\"text-align: right;\">\n",
       "      <th></th>\n",
       "      <th>Name</th>\n",
       "      <th>Status</th>\n",
       "      <th>Entrenadores</th>\n",
       "      <th>Cliente Desde</th>\n",
       "      <th>Nutricion</th>\n",
       "      <th>Nutrición Desde</th>\n",
       "      <th>Meses Nutri</th>\n",
       "      <th>Edad</th>\n",
       "      <th>Objetivo</th>\n",
       "      <th>Alimentacion</th>\n",
       "      <th>Fitness Band</th>\n",
       "      <th>Sex</th>\n",
       "    </tr>\n",
       "  </thead>\n",
       "  <tbody>\n",
       "    <tr>\n",
       "      <th>0</th>\n",
       "      <td>Ana</td>\n",
       "      <td>Churned</td>\n",
       "      <td>NaN</td>\n",
       "      <td>9/17/2020</td>\n",
       "      <td>NaN</td>\n",
       "      <td>9/17/2020</td>\n",
       "      <td>8.7</td>\n",
       "      <td>26.0</td>\n",
       "      <td>Mejorar rendimiento en un deporte</td>\n",
       "      <td>5.0</td>\n",
       "      <td>No tengo</td>\n",
       "      <td>0</td>\n",
       "    </tr>\n",
       "    <tr>\n",
       "      <th>1</th>\n",
       "      <td>Borja</td>\n",
       "      <td>Churned</td>\n",
       "      <td>Oscar</td>\n",
       "      <td>9/17/2020</td>\n",
       "      <td>NaN</td>\n",
       "      <td>9/17/2020</td>\n",
       "      <td>8.7</td>\n",
       "      <td>29.0</td>\n",
       "      <td>Mejorar cardio y/o resistencia</td>\n",
       "      <td>4.0</td>\n",
       "      <td>Polar</td>\n",
       "      <td>1</td>\n",
       "    </tr>\n",
       "    <tr>\n",
       "      <th>2</th>\n",
       "      <td>Angel</td>\n",
       "      <td>Churned</td>\n",
       "      <td>Oscar</td>\n",
       "      <td>9/22/2020</td>\n",
       "      <td>NaN</td>\n",
       "      <td>9/22/2020</td>\n",
       "      <td>8.5</td>\n",
       "      <td>20.0</td>\n",
       "      <td>Recuperarme de una lesión y/o reducir molestias</td>\n",
       "      <td>2.0</td>\n",
       "      <td>No tengo</td>\n",
       "      <td>1</td>\n",
       "    </tr>\n",
       "    <tr>\n",
       "      <th>3</th>\n",
       "      <td>Jose</td>\n",
       "      <td>Usuario</td>\n",
       "      <td>Oscar</td>\n",
       "      <td>9/28/2020</td>\n",
       "      <td>NaN</td>\n",
       "      <td>9/28/2020</td>\n",
       "      <td>8.3</td>\n",
       "      <td>31.0</td>\n",
       "      <td>Ganar masa muscular</td>\n",
       "      <td>3.0</td>\n",
       "      <td>Fitbit</td>\n",
       "      <td>1</td>\n",
       "    </tr>\n",
       "    <tr>\n",
       "      <th>4</th>\n",
       "      <td>Yago</td>\n",
       "      <td>Churned</td>\n",
       "      <td>Oscar</td>\n",
       "      <td>10/29/2020</td>\n",
       "      <td>NaN</td>\n",
       "      <td>10/29/2020</td>\n",
       "      <td>7.3</td>\n",
       "      <td>27.0</td>\n",
       "      <td>Ganar masa muscular</td>\n",
       "      <td>NaN</td>\n",
       "      <td>NaN</td>\n",
       "      <td>1</td>\n",
       "    </tr>\n",
       "    <tr>\n",
       "      <th>...</th>\n",
       "      <td>...</td>\n",
       "      <td>...</td>\n",
       "      <td>...</td>\n",
       "      <td>...</td>\n",
       "      <td>...</td>\n",
       "      <td>...</td>\n",
       "      <td>...</td>\n",
       "      <td>...</td>\n",
       "      <td>...</td>\n",
       "      <td>...</td>\n",
       "      <td>...</td>\n",
       "      <td>...</td>\n",
       "    </tr>\n",
       "    <tr>\n",
       "      <th>71</th>\n",
       "      <td>JuanC</td>\n",
       "      <td>Usuario</td>\n",
       "      <td>Laura</td>\n",
       "      <td>NaN</td>\n",
       "      <td>NaN</td>\n",
       "      <td>NaN</td>\n",
       "      <td>NaN</td>\n",
       "      <td>NaN</td>\n",
       "      <td>NaN</td>\n",
       "      <td>NaN</td>\n",
       "      <td>NaN</td>\n",
       "      <td>1</td>\n",
       "    </tr>\n",
       "    <tr>\n",
       "      <th>72</th>\n",
       "      <td>Esther</td>\n",
       "      <td>Out</td>\n",
       "      <td>Laura</td>\n",
       "      <td>NaN</td>\n",
       "      <td>NaN</td>\n",
       "      <td>NaN</td>\n",
       "      <td>NaN</td>\n",
       "      <td>NaN</td>\n",
       "      <td>NaN</td>\n",
       "      <td>NaN</td>\n",
       "      <td>NaN</td>\n",
       "      <td>0</td>\n",
       "    </tr>\n",
       "    <tr>\n",
       "      <th>73</th>\n",
       "      <td>Oskar</td>\n",
       "      <td>Out</td>\n",
       "      <td>Oscar</td>\n",
       "      <td>NaN</td>\n",
       "      <td>NaN</td>\n",
       "      <td>NaN</td>\n",
       "      <td>NaN</td>\n",
       "      <td>NaN</td>\n",
       "      <td>NaN</td>\n",
       "      <td>NaN</td>\n",
       "      <td>NaN</td>\n",
       "      <td>1</td>\n",
       "    </tr>\n",
       "    <tr>\n",
       "      <th>74</th>\n",
       "      <td>Matilde</td>\n",
       "      <td>Out</td>\n",
       "      <td>Laura</td>\n",
       "      <td>NaN</td>\n",
       "      <td>NaN</td>\n",
       "      <td>NaN</td>\n",
       "      <td>NaN</td>\n",
       "      <td>NaN</td>\n",
       "      <td>NaN</td>\n",
       "      <td>NaN</td>\n",
       "      <td>NaN</td>\n",
       "      <td>0</td>\n",
       "    </tr>\n",
       "    <tr>\n",
       "      <th>75</th>\n",
       "      <td>JoseM</td>\n",
       "      <td>Out</td>\n",
       "      <td>Laura</td>\n",
       "      <td>NaN</td>\n",
       "      <td>NaN</td>\n",
       "      <td>NaN</td>\n",
       "      <td>NaN</td>\n",
       "      <td>NaN</td>\n",
       "      <td>NaN</td>\n",
       "      <td>NaN</td>\n",
       "      <td>NaN</td>\n",
       "      <td>1</td>\n",
       "    </tr>\n",
       "  </tbody>\n",
       "</table>\n",
       "<p>66 rows × 12 columns</p>\n",
       "</div>"
      ],
      "text/plain": [
       "       Name   Status Entrenadores Cliente Desde Nutricion Nutrición Desde  \\\n",
       "0       Ana  Churned          NaN     9/17/2020       NaN       9/17/2020   \n",
       "1     Borja  Churned        Oscar     9/17/2020       NaN       9/17/2020   \n",
       "2     Angel  Churned        Oscar     9/22/2020       NaN       9/22/2020   \n",
       "3      Jose  Usuario        Oscar     9/28/2020       NaN       9/28/2020   \n",
       "4      Yago  Churned        Oscar    10/29/2020       NaN      10/29/2020   \n",
       "..      ...      ...          ...           ...       ...             ...   \n",
       "71    JuanC  Usuario        Laura           NaN       NaN             NaN   \n",
       "72   Esther      Out        Laura           NaN       NaN             NaN   \n",
       "73    Oskar      Out        Oscar           NaN       NaN             NaN   \n",
       "74  Matilde      Out        Laura           NaN       NaN             NaN   \n",
       "75    JoseM      Out        Laura           NaN       NaN             NaN   \n",
       "\n",
       "    Meses Nutri  Edad                                         Objetivo  \\\n",
       "0           8.7  26.0                Mejorar rendimiento en un deporte   \n",
       "1           8.7  29.0                   Mejorar cardio y/o resistencia   \n",
       "2           8.5  20.0  Recuperarme de una lesión y/o reducir molestias   \n",
       "3           8.3  31.0                              Ganar masa muscular   \n",
       "4           7.3  27.0                              Ganar masa muscular   \n",
       "..          ...   ...                                              ...   \n",
       "71          NaN   NaN                                              NaN   \n",
       "72          NaN   NaN                                              NaN   \n",
       "73          NaN   NaN                                              NaN   \n",
       "74          NaN   NaN                                              NaN   \n",
       "75          NaN   NaN                                              NaN   \n",
       "\n",
       "    Alimentacion Fitness Band  Sex  \n",
       "0            5.0     No tengo    0  \n",
       "1            4.0        Polar    1  \n",
       "2            2.0     No tengo    1  \n",
       "3            3.0       Fitbit    1  \n",
       "4            NaN          NaN    1  \n",
       "..           ...          ...  ...  \n",
       "71           NaN          NaN    1  \n",
       "72           NaN          NaN    0  \n",
       "73           NaN          NaN    1  \n",
       "74           NaN          NaN    0  \n",
       "75           NaN          NaN    1  \n",
       "\n",
       "[66 rows x 12 columns]"
      ]
     },
     "execution_count": 188,
     "metadata": {},
     "output_type": "execute_result"
    }
   ],
   "source": [
    "df_clientes"
   ]
  },
  {
   "cell_type": "code",
   "execution_count": 189,
   "id": "attached-disco",
   "metadata": {
    "ExecuteTime": {
     "end_time": "2021-07-13T17:16:11.880855Z",
     "start_time": "2021-07-13T17:16:11.863505Z"
    }
   },
   "outputs": [],
   "source": [
    "client_coach = (df_clientes[df_clientes['Status']!='Formulario']).groupby('Entrenadores').count()\n",
    "status_coach_in = (df_clientes[(df_clientes['Status']=='Churned')|\n",
    "                               (df_clientes['Status']=='Usuario')]).groupby('Entrenadores').count()\n",
    "status_coach_out = (df_clientes[df_clientes['Status']=='Out']).groupby('Entrenadores').count()"
   ]
  },
  {
   "cell_type": "code",
   "execution_count": 190,
   "id": "cellular-source",
   "metadata": {
    "ExecuteTime": {
     "end_time": "2021-07-13T17:16:12.699191Z",
     "start_time": "2021-07-13T17:16:12.693914Z"
    }
   },
   "outputs": [],
   "source": [
    "df_checkt['n clients']= client_coach['Name']"
   ]
  },
  {
   "cell_type": "code",
   "execution_count": 191,
   "id": "mexican-census",
   "metadata": {
    "ExecuteTime": {
     "end_time": "2021-07-13T17:16:13.734883Z",
     "start_time": "2021-07-13T17:16:13.729648Z"
    }
   },
   "outputs": [],
   "source": [
    "df_checkt = df_checkt.reset_index()"
   ]
  },
  {
   "cell_type": "code",
   "execution_count": 192,
   "id": "square-syndicate",
   "metadata": {
    "ExecuteTime": {
     "end_time": "2021-07-13T17:16:14.570481Z",
     "start_time": "2021-07-13T17:16:14.561780Z"
    }
   },
   "outputs": [],
   "source": [
    "df_checkt['wo completed']= df_checkt.apply(lambda x: ((x['wo completed']*x['n clients'])/100),\n",
    "                                           axis=1)\n",
    "df_checkt['wo not completed']= df_checkt.apply(lambda x: ((x['wo not completed']*x['n clients'])/100), \n",
    "                                               axis = 1)"
   ]
  },
  {
   "cell_type": "code",
   "execution_count": 193,
   "id": "magnetic-dakota",
   "metadata": {
    "ExecuteTime": {
     "end_time": "2021-07-13T17:16:15.425959Z",
     "start_time": "2021-07-13T17:16:15.411659Z"
    },
    "scrolled": true
   },
   "outputs": [
    {
     "data": {
      "text/html": [
       "<div>\n",
       "<style scoped>\n",
       "    .dataframe tbody tr th:only-of-type {\n",
       "        vertical-align: middle;\n",
       "    }\n",
       "\n",
       "    .dataframe tbody tr th {\n",
       "        vertical-align: top;\n",
       "    }\n",
       "\n",
       "    .dataframe thead th {\n",
       "        text-align: right;\n",
       "    }\n",
       "</style>\n",
       "<table border=\"1\" class=\"dataframe\">\n",
       "  <thead>\n",
       "    <tr style=\"text-align: right;\">\n",
       "      <th></th>\n",
       "      <th>coach</th>\n",
       "      <th>total wo</th>\n",
       "      <th>wo completed</th>\n",
       "      <th>wo not completed</th>\n",
       "      <th>n clients</th>\n",
       "    </tr>\n",
       "  </thead>\n",
       "  <tbody>\n",
       "    <tr>\n",
       "      <th>0</th>\n",
       "      <td>Javier</td>\n",
       "      <td>171</td>\n",
       "      <td>4.5</td>\n",
       "      <td>4.5</td>\n",
       "      <td>9</td>\n",
       "    </tr>\n",
       "    <tr>\n",
       "      <th>1</th>\n",
       "      <td>Laura</td>\n",
       "      <td>268</td>\n",
       "      <td>9.5</td>\n",
       "      <td>15.5</td>\n",
       "      <td>25</td>\n",
       "    </tr>\n",
       "    <tr>\n",
       "      <th>2</th>\n",
       "      <td>Miriam</td>\n",
       "      <td>272</td>\n",
       "      <td>2.0</td>\n",
       "      <td>3.0</td>\n",
       "      <td>5</td>\n",
       "    </tr>\n",
       "    <tr>\n",
       "      <th>3</th>\n",
       "      <td>Oscar</td>\n",
       "      <td>776</td>\n",
       "      <td>6.5</td>\n",
       "      <td>11.5</td>\n",
       "      <td>18</td>\n",
       "    </tr>\n",
       "  </tbody>\n",
       "</table>\n",
       "</div>"
      ],
      "text/plain": [
       "    coach  total wo  wo completed  wo not completed  n clients\n",
       "0  Javier       171           4.5               4.5          9\n",
       "1   Laura       268           9.5              15.5         25\n",
       "2  Miriam       272           2.0               3.0          5\n",
       "3   Oscar       776           6.5              11.5         18"
      ]
     },
     "execution_count": 193,
     "metadata": {},
     "output_type": "execute_result"
    }
   ],
   "source": [
    "df_checkt = df_checkt.round(1)\n",
    "df_checkt "
   ]
  },
  {
   "cell_type": "code",
   "execution_count": 194,
   "id": "ready-integrity",
   "metadata": {
    "ExecuteTime": {
     "end_time": "2021-07-13T17:16:17.267890Z",
     "start_time": "2021-07-13T17:16:16.991071Z"
    }
   },
   "outputs": [
    {
     "data": {
      "image/png": "[encoded data removed]",
      "text/plain": [
       "<Figure size 1080x576 with 1 Axes>"
      ]
     },
     "metadata": {},
     "output_type": "display_data"
    }
   ],
   "source": [
    "df = df_checkt [['wo completed', 'wo not completed']]\n",
    "ax = df.plot.barh(stacked=True);\n",
    "\n",
    "ax.figure.set_size_inches(15,8)\n",
    "legend = ax.legend(loc='upper right', shadow=True, fontsize='x-small')\n",
    "\n",
    "# Put a nicer background color on the legend.\n",
    "legend.get_frame().set_facecolor('white')"
   ]
  },
  {
   "cell_type": "code",
   "execution_count": 195,
   "id": "preliminary-sphere",
   "metadata": {
    "ExecuteTime": {
     "end_time": "2021-07-13T17:17:20.831094Z",
     "start_time": "2021-07-13T17:17:20.820150Z"
    }
   },
   "outputs": [],
   "source": [
    "import plotly.express as px\n",
    "import squarify"
   ]
  },
  {
   "cell_type": "code",
   "execution_count": 196,
   "id": "gorgeous-windsor",
   "metadata": {
    "ExecuteTime": {
     "end_time": "2021-07-13T17:17:21.741679Z",
     "start_time": "2021-07-13T17:17:21.573271Z"
    },
    "scrolled": false
   },
   "outputs": [
    {
     "data": {
      "image/png": "[encoded data removed]",
      "text/plain": [
       "<Figure size 432x288 with 1 Axes>"
      ]
     },
     "metadata": {},
     "output_type": "display_data"
    }
   ],
   "source": [
    "squarify.plot(sizes=df_checkt['n clients'], label=df_checkt['coach'], alpha=0.6 )\n",
    "plt.axis('off')\n",
    "plt.show()"
   ]
  },
  {
   "cell_type": "code",
   "execution_count": 197,
   "id": "introductory-lucas",
   "metadata": {
    "ExecuteTime": {
     "end_time": "2021-07-13T17:17:22.421887Z",
     "start_time": "2021-07-13T17:17:22.388344Z"
    }
   },
   "outputs": [
    {
     "data": {
      "text/html": [
       "<div>\n",
       "<style scoped>\n",
       "    .dataframe tbody tr th:only-of-type {\n",
       "        vertical-align: middle;\n",
       "    }\n",
       "\n",
       "    .dataframe tbody tr th {\n",
       "        vertical-align: top;\n",
       "    }\n",
       "\n",
       "    .dataframe thead th {\n",
       "        text-align: right;\n",
       "    }\n",
       "</style>\n",
       "<table border=\"1\" class=\"dataframe\">\n",
       "  <thead>\n",
       "    <tr style=\"text-align: right;\">\n",
       "      <th></th>\n",
       "      <th>coach</th>\n",
       "      <th>total wo</th>\n",
       "      <th>wo completed</th>\n",
       "      <th>wo not completed</th>\n",
       "      <th>n clients</th>\n",
       "    </tr>\n",
       "  </thead>\n",
       "  <tbody>\n",
       "    <tr>\n",
       "      <th>0</th>\n",
       "      <td>Javier</td>\n",
       "      <td>171</td>\n",
       "      <td>4.5</td>\n",
       "      <td>4.5</td>\n",
       "      <td>9</td>\n",
       "    </tr>\n",
       "    <tr>\n",
       "      <th>1</th>\n",
       "      <td>Laura</td>\n",
       "      <td>268</td>\n",
       "      <td>9.5</td>\n",
       "      <td>15.5</td>\n",
       "      <td>25</td>\n",
       "    </tr>\n",
       "    <tr>\n",
       "      <th>2</th>\n",
       "      <td>Miriam</td>\n",
       "      <td>272</td>\n",
       "      <td>2.0</td>\n",
       "      <td>3.0</td>\n",
       "      <td>5</td>\n",
       "    </tr>\n",
       "    <tr>\n",
       "      <th>3</th>\n",
       "      <td>Oscar</td>\n",
       "      <td>776</td>\n",
       "      <td>6.5</td>\n",
       "      <td>11.5</td>\n",
       "      <td>18</td>\n",
       "    </tr>\n",
       "  </tbody>\n",
       "</table>\n",
       "</div>"
      ],
      "text/plain": [
       "    coach  total wo  wo completed  wo not completed  n clients\n",
       "0  Javier       171           4.5               4.5          9\n",
       "1   Laura       268           9.5              15.5         25\n",
       "2  Miriam       272           2.0               3.0          5\n",
       "3   Oscar       776           6.5              11.5         18"
      ]
     },
     "execution_count": 197,
     "metadata": {},
     "output_type": "execute_result"
    }
   ],
   "source": [
    "df_checkt"
   ]
  },
  {
   "cell_type": "code",
   "execution_count": null,
   "id": "civilian-channels",
   "metadata": {},
   "outputs": [],
   "source": []
  },
  {
   "cell_type": "code",
   "execution_count": 198,
   "id": "metropolitan-portugal",
   "metadata": {
    "ExecuteTime": {
     "end_time": "2021-07-13T17:17:23.069003Z",
     "start_time": "2021-07-13T17:17:23.050852Z"
    }
   },
   "outputs": [
    {
     "data": {
      "text/html": [
       "<div>\n",
       "<style scoped>\n",
       "    .dataframe tbody tr th:only-of-type {\n",
       "        vertical-align: middle;\n",
       "    }\n",
       "\n",
       "    .dataframe tbody tr th {\n",
       "        vertical-align: top;\n",
       "    }\n",
       "\n",
       "    .dataframe thead th {\n",
       "        text-align: right;\n",
       "    }\n",
       "</style>\n",
       "<table border=\"1\" class=\"dataframe\">\n",
       "  <thead>\n",
       "    <tr style=\"text-align: right;\">\n",
       "      <th></th>\n",
       "      <th>Name</th>\n",
       "      <th>Status</th>\n",
       "      <th>Cliente Desde</th>\n",
       "      <th>Nutricion</th>\n",
       "      <th>Nutrición Desde</th>\n",
       "      <th>Meses Nutri</th>\n",
       "      <th>Edad</th>\n",
       "      <th>Objetivo</th>\n",
       "      <th>Alimentacion</th>\n",
       "      <th>Fitness Band</th>\n",
       "      <th>Sex</th>\n",
       "    </tr>\n",
       "    <tr>\n",
       "      <th>Entrenadores</th>\n",
       "      <th></th>\n",
       "      <th></th>\n",
       "      <th></th>\n",
       "      <th></th>\n",
       "      <th></th>\n",
       "      <th></th>\n",
       "      <th></th>\n",
       "      <th></th>\n",
       "      <th></th>\n",
       "      <th></th>\n",
       "      <th></th>\n",
       "    </tr>\n",
       "  </thead>\n",
       "  <tbody>\n",
       "    <tr>\n",
       "      <th>Javier</th>\n",
       "      <td>4</td>\n",
       "      <td>4</td>\n",
       "      <td>0</td>\n",
       "      <td>0</td>\n",
       "      <td>0</td>\n",
       "      <td>0</td>\n",
       "      <td>2</td>\n",
       "      <td>2</td>\n",
       "      <td>0</td>\n",
       "      <td>0</td>\n",
       "      <td>4</td>\n",
       "    </tr>\n",
       "    <tr>\n",
       "      <th>Laura</th>\n",
       "      <td>14</td>\n",
       "      <td>14</td>\n",
       "      <td>0</td>\n",
       "      <td>0</td>\n",
       "      <td>0</td>\n",
       "      <td>0</td>\n",
       "      <td>4</td>\n",
       "      <td>4</td>\n",
       "      <td>0</td>\n",
       "      <td>0</td>\n",
       "      <td>14</td>\n",
       "    </tr>\n",
       "    <tr>\n",
       "      <th>Miriam</th>\n",
       "      <td>3</td>\n",
       "      <td>3</td>\n",
       "      <td>1</td>\n",
       "      <td>0</td>\n",
       "      <td>1</td>\n",
       "      <td>1</td>\n",
       "      <td>3</td>\n",
       "      <td>3</td>\n",
       "      <td>0</td>\n",
       "      <td>0</td>\n",
       "      <td>3</td>\n",
       "    </tr>\n",
       "    <tr>\n",
       "      <th>Oscar</th>\n",
       "      <td>9</td>\n",
       "      <td>9</td>\n",
       "      <td>1</td>\n",
       "      <td>0</td>\n",
       "      <td>0</td>\n",
       "      <td>0</td>\n",
       "      <td>5</td>\n",
       "      <td>5</td>\n",
       "      <td>0</td>\n",
       "      <td>0</td>\n",
       "      <td>9</td>\n",
       "    </tr>\n",
       "  </tbody>\n",
       "</table>\n",
       "</div>"
      ],
      "text/plain": [
       "              Name  Status  Cliente Desde  Nutricion  Nutrición Desde  \\\n",
       "Entrenadores                                                            \n",
       "Javier           4       4              0          0                0   \n",
       "Laura           14      14              0          0                0   \n",
       "Miriam           3       3              1          0                1   \n",
       "Oscar            9       9              1          0                0   \n",
       "\n",
       "              Meses Nutri  Edad  Objetivo  Alimentacion  Fitness Band  Sex  \n",
       "Entrenadores                                                                \n",
       "Javier                  0     2         2             0             0    4  \n",
       "Laura                   0     4         4             0             0   14  \n",
       "Miriam                  1     3         3             0             0    3  \n",
       "Oscar                   0     5         5             0             0    9  "
      ]
     },
     "execution_count": 198,
     "metadata": {},
     "output_type": "execute_result"
    }
   ],
   "source": [
    "status_coach_out"
   ]
  },
  {
   "cell_type": "code",
   "execution_count": 199,
   "id": "engaged-friendly",
   "metadata": {
    "ExecuteTime": {
     "end_time": "2021-07-13T17:17:23.713517Z",
     "start_time": "2021-07-13T17:17:23.693421Z"
    }
   },
   "outputs": [
    {
     "ename": "NameError",
     "evalue": "name 'coach' is not defined",
     "output_type": "error",
     "traceback": [
      "\u001b[0;31m---------------------------------------------------------------------------\u001b[0m",
      "\u001b[0;31mNameError\u001b[0m                                 Traceback (most recent call last)",
      "\u001b[0;32m<ipython-input-199-bab4858bd2cb>\u001b[0m in \u001b[0;36m<module>\u001b[0;34m\u001b[0m\n\u001b[0;32m----> 1\u001b[0;31m \u001b[0mdf_coach\u001b[0m \u001b[0;34m=\u001b[0m \u001b[0mpd\u001b[0m\u001b[0;34m.\u001b[0m\u001b[0mDataFrame\u001b[0m\u001b[0;34m(\u001b[0m\u001b[0mcoach\u001b[0m\u001b[0;34m[\u001b[0m\u001b[0;34m'Name'\u001b[0m\u001b[0;34m]\u001b[0m\u001b[0;34m)\u001b[0m\u001b[0;34m\u001b[0m\u001b[0;34m\u001b[0m\u001b[0m\n\u001b[0m\u001b[1;32m      2\u001b[0m \u001b[0mdf_coach\u001b[0m\u001b[0;34m[\u001b[0m\u001b[0;34m'App'\u001b[0m\u001b[0;34m]\u001b[0m\u001b[0;34m=\u001b[0m \u001b[0mstatus_coach_in\u001b[0m\u001b[0;34m[\u001b[0m\u001b[0;34m'Name'\u001b[0m\u001b[0;34m]\u001b[0m\u001b[0;34m\u001b[0m\u001b[0;34m\u001b[0m\u001b[0m\n\u001b[1;32m      3\u001b[0m \u001b[0mdf_coach\u001b[0m\u001b[0;34m[\u001b[0m\u001b[0;34m'No App'\u001b[0m\u001b[0;34m]\u001b[0m\u001b[0;34m=\u001b[0m \u001b[0mstatus_coach_in\u001b[0m\u001b[0;34m[\u001b[0m\u001b[0;34m'Name'\u001b[0m\u001b[0;34m]\u001b[0m\u001b[0;34m\u001b[0m\u001b[0;34m\u001b[0m\u001b[0m\n",
      "\u001b[0;31mNameError\u001b[0m: name 'coach' is not defined"
     ]
    }
   ],
   "source": [
    "df_coach = pd.DataFrame(coach['Name'])\n",
    "df_coach['App']= status_coach_in['Name']\n",
    "df_coach['No App']= status_coach_in['Name']"
   ]
  },
  {
   "cell_type": "code",
   "execution_count": null,
   "id": "exotic-costa",
   "metadata": {
    "ExecuteTime": {
     "end_time": "2021-07-13T17:17:23.745228Z",
     "start_time": "2021-07-13T17:17:23.351Z"
    }
   },
   "outputs": [],
   "source": [
    "df_coach"
   ]
  },
  {
   "cell_type": "code",
   "execution_count": 200,
   "id": "aggressive-history",
   "metadata": {
    "ExecuteTime": {
     "end_time": "2021-07-13T17:17:24.161751Z",
     "start_time": "2021-07-13T17:17:24.137419Z"
    }
   },
   "outputs": [
    {
     "data": {
      "text/html": [
       "<div>\n",
       "<style scoped>\n",
       "    .dataframe tbody tr th:only-of-type {\n",
       "        vertical-align: middle;\n",
       "    }\n",
       "\n",
       "    .dataframe tbody tr th {\n",
       "        vertical-align: top;\n",
       "    }\n",
       "\n",
       "    .dataframe thead th {\n",
       "        text-align: right;\n",
       "    }\n",
       "</style>\n",
       "<table border=\"1\" class=\"dataframe\">\n",
       "  <thead>\n",
       "    <tr style=\"text-align: right;\">\n",
       "      <th></th>\n",
       "      <th>coach</th>\n",
       "      <th>completed</th>\n",
       "    </tr>\n",
       "  </thead>\n",
       "  <tbody>\n",
       "    <tr>\n",
       "      <th>0</th>\n",
       "      <td>Miriam</td>\n",
       "      <td>not checked</td>\n",
       "    </tr>\n",
       "    <tr>\n",
       "      <th>1</th>\n",
       "      <td>Oscar</td>\n",
       "      <td>checked</td>\n",
       "    </tr>\n",
       "    <tr>\n",
       "      <th>2</th>\n",
       "      <td>Oscar</td>\n",
       "      <td>checked</td>\n",
       "    </tr>\n",
       "    <tr>\n",
       "      <th>3</th>\n",
       "      <td>Oscar</td>\n",
       "      <td>checked</td>\n",
       "    </tr>\n",
       "    <tr>\n",
       "      <th>4</th>\n",
       "      <td>Oscar</td>\n",
       "      <td>checked</td>\n",
       "    </tr>\n",
       "    <tr>\n",
       "      <th>...</th>\n",
       "      <td>...</td>\n",
       "      <td>...</td>\n",
       "    </tr>\n",
       "    <tr>\n",
       "      <th>1774</th>\n",
       "      <td>Laura</td>\n",
       "      <td>not checked</td>\n",
       "    </tr>\n",
       "    <tr>\n",
       "      <th>1775</th>\n",
       "      <td>Laura</td>\n",
       "      <td>not checked</td>\n",
       "    </tr>\n",
       "    <tr>\n",
       "      <th>1776</th>\n",
       "      <td>Laura</td>\n",
       "      <td>not checked</td>\n",
       "    </tr>\n",
       "    <tr>\n",
       "      <th>1777</th>\n",
       "      <td>Laura</td>\n",
       "      <td>not checked</td>\n",
       "    </tr>\n",
       "    <tr>\n",
       "      <th>1778</th>\n",
       "      <td>Laura</td>\n",
       "      <td>not checked</td>\n",
       "    </tr>\n",
       "  </tbody>\n",
       "</table>\n",
       "<p>1489 rows × 2 columns</p>\n",
       "</div>"
      ],
      "text/plain": [
       "       coach    completed\n",
       "0     Miriam  not checked\n",
       "1      Oscar      checked\n",
       "2      Oscar      checked\n",
       "3      Oscar      checked\n",
       "4      Oscar      checked\n",
       "...      ...          ...\n",
       "1774   Laura  not checked\n",
       "1775   Laura  not checked\n",
       "1776   Laura  not checked\n",
       "1777   Laura  not checked\n",
       "1778   Laura  not checked\n",
       "\n",
       "[1489 rows x 2 columns]"
      ]
     },
     "execution_count": 200,
     "metadata": {},
     "output_type": "execute_result"
    }
   ],
   "source": [
    "df_check"
   ]
  },
  {
   "cell_type": "code",
   "execution_count": 201,
   "id": "wanted-investment",
   "metadata": {
    "ExecuteTime": {
     "end_time": "2021-07-13T17:17:24.880098Z",
     "start_time": "2021-07-13T17:17:24.865785Z"
    },
    "scrolled": true
   },
   "outputs": [
    {
     "data": {
      "text/html": [
       "<div>\n",
       "<style scoped>\n",
       "    .dataframe tbody tr th:only-of-type {\n",
       "        vertical-align: middle;\n",
       "    }\n",
       "\n",
       "    .dataframe tbody tr th {\n",
       "        vertical-align: top;\n",
       "    }\n",
       "\n",
       "    .dataframe thead th {\n",
       "        text-align: right;\n",
       "    }\n",
       "</style>\n",
       "<table border=\"1\" class=\"dataframe\">\n",
       "  <thead>\n",
       "    <tr style=\"text-align: right;\">\n",
       "      <th></th>\n",
       "      <th>coach</th>\n",
       "      <th>completed</th>\n",
       "    </tr>\n",
       "  </thead>\n",
       "  <tbody>\n",
       "    <tr>\n",
       "      <th>0</th>\n",
       "      <td>Miriam</td>\n",
       "      <td>not checked</td>\n",
       "    </tr>\n",
       "    <tr>\n",
       "      <th>1</th>\n",
       "      <td>Oscar</td>\n",
       "      <td>checked</td>\n",
       "    </tr>\n",
       "    <tr>\n",
       "      <th>2</th>\n",
       "      <td>Oscar</td>\n",
       "      <td>checked</td>\n",
       "    </tr>\n",
       "    <tr>\n",
       "      <th>3</th>\n",
       "      <td>Oscar</td>\n",
       "      <td>checked</td>\n",
       "    </tr>\n",
       "    <tr>\n",
       "      <th>4</th>\n",
       "      <td>Oscar</td>\n",
       "      <td>checked</td>\n",
       "    </tr>\n",
       "    <tr>\n",
       "      <th>...</th>\n",
       "      <td>...</td>\n",
       "      <td>...</td>\n",
       "    </tr>\n",
       "    <tr>\n",
       "      <th>1774</th>\n",
       "      <td>Laura</td>\n",
       "      <td>not checked</td>\n",
       "    </tr>\n",
       "    <tr>\n",
       "      <th>1775</th>\n",
       "      <td>Laura</td>\n",
       "      <td>not checked</td>\n",
       "    </tr>\n",
       "    <tr>\n",
       "      <th>1776</th>\n",
       "      <td>Laura</td>\n",
       "      <td>not checked</td>\n",
       "    </tr>\n",
       "    <tr>\n",
       "      <th>1777</th>\n",
       "      <td>Laura</td>\n",
       "      <td>not checked</td>\n",
       "    </tr>\n",
       "    <tr>\n",
       "      <th>1778</th>\n",
       "      <td>Laura</td>\n",
       "      <td>not checked</td>\n",
       "    </tr>\n",
       "  </tbody>\n",
       "</table>\n",
       "<p>1489 rows × 2 columns</p>\n",
       "</div>"
      ],
      "text/plain": [
       "       coach    completed\n",
       "0     Miriam  not checked\n",
       "1      Oscar      checked\n",
       "2      Oscar      checked\n",
       "3      Oscar      checked\n",
       "4      Oscar      checked\n",
       "...      ...          ...\n",
       "1774   Laura  not checked\n",
       "1775   Laura  not checked\n",
       "1776   Laura  not checked\n",
       "1777   Laura  not checked\n",
       "1778   Laura  not checked\n",
       "\n",
       "[1489 rows x 2 columns]"
      ]
     },
     "execution_count": 201,
     "metadata": {},
     "output_type": "execute_result"
    }
   ],
   "source": [
    "df_check"
   ]
  },
  {
   "cell_type": "code",
   "execution_count": 202,
   "id": "potential-badge",
   "metadata": {
    "ExecuteTime": {
     "end_time": "2021-07-13T17:17:25.486088Z",
     "start_time": "2021-07-13T17:17:25.472905Z"
    }
   },
   "outputs": [
    {
     "data": {
      "text/html": [
       "<div>\n",
       "<style scoped>\n",
       "    .dataframe tbody tr th:only-of-type {\n",
       "        vertical-align: middle;\n",
       "    }\n",
       "\n",
       "    .dataframe tbody tr th {\n",
       "        vertical-align: top;\n",
       "    }\n",
       "\n",
       "    .dataframe thead th {\n",
       "        text-align: right;\n",
       "    }\n",
       "</style>\n",
       "<table border=\"1\" class=\"dataframe\">\n",
       "  <thead>\n",
       "    <tr style=\"text-align: right;\">\n",
       "      <th></th>\n",
       "      <th>user</th>\n",
       "      <th>coach</th>\n",
       "      <th>completed</th>\n",
       "      <th>Feedback</th>\n",
       "    </tr>\n",
       "  </thead>\n",
       "  <tbody>\n",
       "    <tr>\n",
       "      <th>0</th>\n",
       "      <td>Macarena</td>\n",
       "      <td>Miriam</td>\n",
       "      <td>not checked</td>\n",
       "      <td>NaN</td>\n",
       "    </tr>\n",
       "    <tr>\n",
       "      <th>1</th>\n",
       "      <td>Angel</td>\n",
       "      <td>Oscar</td>\n",
       "      <td>checked</td>\n",
       "      <td>8.0</td>\n",
       "    </tr>\n",
       "    <tr>\n",
       "      <th>2</th>\n",
       "      <td>Angel</td>\n",
       "      <td>Oscar</td>\n",
       "      <td>checked</td>\n",
       "      <td>NaN</td>\n",
       "    </tr>\n",
       "  </tbody>\n",
       "</table>\n",
       "</div>"
      ],
      "text/plain": [
       "       user   coach    completed  Feedback\n",
       "0  Macarena  Miriam  not checked       NaN\n",
       "1     Angel   Oscar      checked       8.0\n",
       "2     Angel   Oscar      checked       NaN"
      ]
     },
     "execution_count": 202,
     "metadata": {},
     "output_type": "execute_result"
    }
   ],
   "source": [
    "df_check_union = df_workouts[['user','coach','completed', 'Feedback']]\n",
    "df_check_union.head(3)"
   ]
  },
  {
   "cell_type": "code",
   "execution_count": 203,
   "id": "incomplete-monroe",
   "metadata": {
    "ExecuteTime": {
     "end_time": "2021-07-13T17:17:26.143404Z",
     "start_time": "2021-07-13T17:17:26.135569Z"
    }
   },
   "outputs": [],
   "source": [
    "gen_edad = df_clientes[['Name','Sex','Edad']]\n",
    "gen_edad.head(3)\n",
    "dic_gen = gen_edad.to_dict('records')"
   ]
  },
  {
   "cell_type": "code",
   "execution_count": 204,
   "id": "innovative-albuquerque",
   "metadata": {
    "ExecuteTime": {
     "end_time": "2021-07-13T17:17:26.864718Z",
     "start_time": "2021-07-13T17:17:26.844214Z"
    }
   },
   "outputs": [
    {
     "data": {
      "text/plain": [
       "[{'Name': 'Ana', 'Sex': 0, 'Edad': 26.0},\n",
       " {'Name': 'Borja', 'Sex': 1, 'Edad': 29.0},\n",
       " {'Name': 'Angel', 'Sex': 1, 'Edad': 20.0},\n",
       " {'Name': 'Jose', 'Sex': 1, 'Edad': 31.0},\n",
       " {'Name': 'Yago', 'Sex': 1, 'Edad': 27.0},\n",
       " {'Name': 'Paula', 'Sex': 1, 'Edad': 23.0},\n",
       " {'Name': 'Costanza', 'Sex': 1, 'Edad': 24.0},\n",
       " {'Name': 'Laura', 'Sex': 0, 'Edad': 34.0},\n",
       " {'Name': 'Chus', 'Sex': 1, 'Edad': 49.0},\n",
       " {'Name': 'Omar', 'Sex': 1, 'Edad': 30.0},\n",
       " {'Name': 'Karelia', 'Sex': 1, 'Edad': 39.0},\n",
       " {'Name': 'Willy', 'Sex': 1, 'Edad': 41.0},\n",
       " {'Name': 'Clara', 'Sex': 0, 'Edad': 18.0},\n",
       " {'Name': 'Ignacio', 'Sex': 1, 'Edad': 26.0},\n",
       " {'Name': 'Nona', 'Sex': 0, 'Edad': 28.0},\n",
       " {'Name': 'Macarena', 'Sex': 0, 'Edad': 25.0},\n",
       " {'Name': 'Magdalena', 'Sex': 0, 'Edad': 31.0},\n",
       " {'Name': 'Elena', 'Sex': 0, 'Edad': 62.0},\n",
       " {'Name': 'Maru', 'Sex': 0, 'Edad': 37.0},\n",
       " {'Name': 'Santiago', 'Sex': 1, 'Edad': 25.0},\n",
       " {'Name': 'Juan', 'Sex': 1, 'Edad': 24.0},\n",
       " {'Name': 'Paulina', 'Sex': 0, 'Edad': 19.0},\n",
       " {'Name': 'Carmen', 'Sex': 0, 'Edad': 47.0},\n",
       " {'Name': 'Claudia', 'Sex': 0, 'Edad': 19.0},\n",
       " {'Name': 'Itziar', 'Sex': 0, 'Edad': 50.0},\n",
       " {'Name': 'Gui', 'Sex': 1, 'Edad': 37.0},\n",
       " {'Name': 'Lola', 'Sex': 0, 'Edad': 54.0},\n",
       " {'Name': 'Jacobo', 'Sex': 1, 'Edad': 31.0},\n",
       " {'Name': 'Erik', 'Sex': 1, 'Edad': 27.0},\n",
       " {'Name': 'JuanLuis', 'Sex': 1, 'Edad': 28.0},\n",
       " {'Name': 'Laura', 'Sex': 0, 'Edad': 36.0},\n",
       " {'Name': 'Sonia', 'Sex': 0, 'Edad': 45.0},\n",
       " {'Name': 'Carla', 'Sex': 0, 'Edad': 19.0},\n",
       " {'Name': 'Alberto', 'Sex': 1, 'Edad': 48.0},\n",
       " {'Name': 'Benxa', 'Sex': 0, 'Edad': 25.0},\n",
       " {'Name': 'Isi', 'Sex': 0, 'Edad': 31.0},\n",
       " {'Name': 'Gaby', 'Sex': 0, 'Edad': 31.0},\n",
       " {'Name': 'Maribel', 'Sex': 0, 'Edad': 22.0},\n",
       " {'Name': 'Estefania', 'Sex': 0, 'Edad': 32.0},\n",
       " {'Name': 'Bilal', 'Sex': 0, 'Edad': 31.0},\n",
       " {'Name': 'Maria', 'Sex': 0, 'Edad': nan},\n",
       " {'Name': 'Victor', 'Sex': 1, 'Edad': nan},\n",
       " {'Name': 'Carolina', 'Sex': 0, 'Edad': 31.0},\n",
       " {'Name': 'ElenaM', 'Sex': 0, 'Edad': 44.0},\n",
       " {'Name': 'Pilar', 'Sex': 0, 'Edad': 42.0},\n",
       " {'Name': 'MiriamG', 'Sex': 0, 'Edad': nan},\n",
       " {'Name': 'Leticia Salmeron', 'Sex': 0, 'Edad': nan},\n",
       " {'Name': 'fati', 'Sex': 0, 'Edad': nan},\n",
       " {'Name': 'Maria dolores Martinez neria', 'Sex': 0, 'Edad': nan},\n",
       " {'Name': 'Layla', 'Sex': 0, 'Edad': nan},\n",
       " {'Name': 'Toñi Avila', 'Sex': 0, 'Edad': nan},\n",
       " {'Name': 'AlfonsoP', 'Sex': 1, 'Edad': nan},\n",
       " {'Name': 'PaulaG', 'Sex': 0, 'Edad': nan},\n",
       " {'Name': 'Cristian', 'Sex': 1, 'Edad': nan},\n",
       " {'Name': 'JaimeG', 'Sex': 1, 'Edad': nan},\n",
       " {'Name': 'Jeremmy', 'Sex': 1, 'Edad': nan},\n",
       " {'Name': 'JoseLuis ', 'Sex': 1, 'Edad': nan},\n",
       " {'Name': 'Alba', 'Sex': 0, 'Edad': nan},\n",
       " {'Name': 'Natalia ', 'Sex': 0, 'Edad': nan},\n",
       " {'Name': 'Leidy', 'Sex': 0, 'Edad': nan},\n",
       " {'Name': 'Ian Bermejo ', 'Sex': 1, 'Edad': nan},\n",
       " {'Name': 'JuanC', 'Sex': 1, 'Edad': nan},\n",
       " {'Name': 'Esther', 'Sex': 0, 'Edad': nan},\n",
       " {'Name': 'Oskar', 'Sex': 1, 'Edad': nan},\n",
       " {'Name': 'Matilde', 'Sex': 0, 'Edad': nan},\n",
       " {'Name': 'JoseM', 'Sex': 1, 'Edad': nan}]"
      ]
     },
     "execution_count": 204,
     "metadata": {},
     "output_type": "execute_result"
    }
   ],
   "source": [
    "dic_gen"
   ]
  },
  {
   "cell_type": "code",
   "execution_count": 205,
   "id": "incredible-egypt",
   "metadata": {
    "ExecuteTime": {
     "end_time": "2021-07-13T17:17:27.500969Z",
     "start_time": "2021-07-13T17:17:27.493341Z"
    }
   },
   "outputs": [
    {
     "name": "stderr",
     "output_type": "stream",
     "text": [
      "<ipython-input-205-ac052068b53b>:1: SettingWithCopyWarning: \n",
      "A value is trying to be set on a copy of a slice from a DataFrame.\n",
      "Try using .loc[row_indexer,col_indexer] = value instead\n",
      "\n",
      "See the caveats in the documentation: https://pandas.pydata.org/pandas-docs/stable/user_guide/indexing.html#returning-a-view-versus-a-copy\n",
      "  df_check_union ['Sex']= np.nan\n",
      "<ipython-input-205-ac052068b53b>:2: SettingWithCopyWarning: \n",
      "A value is trying to be set on a copy of a slice from a DataFrame.\n",
      "Try using .loc[row_indexer,col_indexer] = value instead\n",
      "\n",
      "See the caveats in the documentation: https://pandas.pydata.org/pandas-docs/stable/user_guide/indexing.html#returning-a-view-versus-a-copy\n",
      "  df_check_union ['Edad']= np.nan\n"
     ]
    }
   ],
   "source": [
    "df_check_union ['Sex']= np.nan\n",
    "df_check_union ['Edad']= np.nan"
   ]
  },
  {
   "cell_type": "code",
   "execution_count": 206,
   "id": "hundred-county",
   "metadata": {
    "ExecuteTime": {
     "end_time": "2021-07-13T17:17:28.158904Z",
     "start_time": "2021-07-13T17:17:28.143918Z"
    }
   },
   "outputs": [
    {
     "data": {
      "text/html": [
       "<div>\n",
       "<style scoped>\n",
       "    .dataframe tbody tr th:only-of-type {\n",
       "        vertical-align: middle;\n",
       "    }\n",
       "\n",
       "    .dataframe tbody tr th {\n",
       "        vertical-align: top;\n",
       "    }\n",
       "\n",
       "    .dataframe thead th {\n",
       "        text-align: right;\n",
       "    }\n",
       "</style>\n",
       "<table border=\"1\" class=\"dataframe\">\n",
       "  <thead>\n",
       "    <tr style=\"text-align: right;\">\n",
       "      <th></th>\n",
       "      <th>user</th>\n",
       "      <th>coach</th>\n",
       "      <th>completed</th>\n",
       "      <th>Feedback</th>\n",
       "      <th>Sex</th>\n",
       "      <th>Edad</th>\n",
       "    </tr>\n",
       "  </thead>\n",
       "  <tbody>\n",
       "    <tr>\n",
       "      <th>0</th>\n",
       "      <td>Macarena</td>\n",
       "      <td>Miriam</td>\n",
       "      <td>not checked</td>\n",
       "      <td>NaN</td>\n",
       "      <td>NaN</td>\n",
       "      <td>NaN</td>\n",
       "    </tr>\n",
       "    <tr>\n",
       "      <th>1</th>\n",
       "      <td>Angel</td>\n",
       "      <td>Oscar</td>\n",
       "      <td>checked</td>\n",
       "      <td>8.0</td>\n",
       "      <td>NaN</td>\n",
       "      <td>NaN</td>\n",
       "    </tr>\n",
       "    <tr>\n",
       "      <th>2</th>\n",
       "      <td>Angel</td>\n",
       "      <td>Oscar</td>\n",
       "      <td>checked</td>\n",
       "      <td>NaN</td>\n",
       "      <td>NaN</td>\n",
       "      <td>NaN</td>\n",
       "    </tr>\n",
       "  </tbody>\n",
       "</table>\n",
       "</div>"
      ],
      "text/plain": [
       "       user   coach    completed  Feedback  Sex  Edad\n",
       "0  Macarena  Miriam  not checked       NaN  NaN   NaN\n",
       "1     Angel   Oscar      checked       8.0  NaN   NaN\n",
       "2     Angel   Oscar      checked       NaN  NaN   NaN"
      ]
     },
     "execution_count": 206,
     "metadata": {},
     "output_type": "execute_result"
    }
   ],
   "source": [
    "df_check_union.head(3)"
   ]
  },
  {
   "cell_type": "code",
   "execution_count": 207,
   "id": "spoken-concern",
   "metadata": {
    "ExecuteTime": {
     "end_time": "2021-07-13T17:17:28.778414Z",
     "start_time": "2021-07-13T17:17:28.772586Z"
    }
   },
   "outputs": [],
   "source": [
    "def diccionario(x, column):\n",
    "    for i in dic_gen:\n",
    "        if i.get(\"Name\") == x:\n",
    "            param = i.get(column)\n",
    "            \n",
    "            return param"
   ]
  },
  {
   "cell_type": "code",
   "execution_count": 208,
   "id": "dominican-reader",
   "metadata": {
    "ExecuteTime": {
     "end_time": "2021-07-13T17:17:29.467682Z",
     "start_time": "2021-07-13T17:17:29.410262Z"
    }
   },
   "outputs": [
    {
     "name": "stderr",
     "output_type": "stream",
     "text": [
      "<ipython-input-208-4344d7ee76b7>:1: SettingWithCopyWarning: \n",
      "A value is trying to be set on a copy of a slice from a DataFrame.\n",
      "Try using .loc[row_indexer,col_indexer] = value instead\n",
      "\n",
      "See the caveats in the documentation: https://pandas.pydata.org/pandas-docs/stable/user_guide/indexing.html#returning-a-view-versus-a-copy\n",
      "  df_check_union['Sex'] = df_check_union.apply(lambda x: diccionario(x['user'], 'Sex'), axis=1)\n",
      "<ipython-input-208-4344d7ee76b7>:2: SettingWithCopyWarning: \n",
      "A value is trying to be set on a copy of a slice from a DataFrame.\n",
      "Try using .loc[row_indexer,col_indexer] = value instead\n",
      "\n",
      "See the caveats in the documentation: https://pandas.pydata.org/pandas-docs/stable/user_guide/indexing.html#returning-a-view-versus-a-copy\n",
      "  df_check_union['Edad'] = df_check_union.apply(lambda x: diccionario(x['user'], 'Edad'), axis=1)\n"
     ]
    }
   ],
   "source": [
    "df_check_union['Sex'] = df_check_union.apply(lambda x: diccionario(x['user'], 'Sex'), axis=1)\n",
    "df_check_union['Edad'] = df_check_union.apply(lambda x: diccionario(x['user'], 'Edad'), axis=1)"
   ]
  },
  {
   "cell_type": "code",
   "execution_count": 209,
   "id": "transparent-reviewer",
   "metadata": {
    "ExecuteTime": {
     "end_time": "2021-07-13T17:17:30.218985Z",
     "start_time": "2021-07-13T17:17:30.181505Z"
    },
    "scrolled": true
   },
   "outputs": [
    {
     "data": {
      "text/html": [
       "<div>\n",
       "<style scoped>\n",
       "    .dataframe tbody tr th:only-of-type {\n",
       "        vertical-align: middle;\n",
       "    }\n",
       "\n",
       "    .dataframe tbody tr th {\n",
       "        vertical-align: top;\n",
       "    }\n",
       "\n",
       "    .dataframe thead th {\n",
       "        text-align: right;\n",
       "    }\n",
       "</style>\n",
       "<table border=\"1\" class=\"dataframe\">\n",
       "  <thead>\n",
       "    <tr style=\"text-align: right;\">\n",
       "      <th></th>\n",
       "      <th>user</th>\n",
       "      <th>coach</th>\n",
       "      <th>completed</th>\n",
       "      <th>Feedback</th>\n",
       "      <th>Sex</th>\n",
       "      <th>Edad</th>\n",
       "    </tr>\n",
       "  </thead>\n",
       "  <tbody>\n",
       "    <tr>\n",
       "      <th>0</th>\n",
       "      <td>Macarena</td>\n",
       "      <td>Miriam</td>\n",
       "      <td>not checked</td>\n",
       "      <td>NaN</td>\n",
       "      <td>0</td>\n",
       "      <td>25.0</td>\n",
       "    </tr>\n",
       "    <tr>\n",
       "      <th>1</th>\n",
       "      <td>Angel</td>\n",
       "      <td>Oscar</td>\n",
       "      <td>checked</td>\n",
       "      <td>8.0</td>\n",
       "      <td>1</td>\n",
       "      <td>20.0</td>\n",
       "    </tr>\n",
       "    <tr>\n",
       "      <th>2</th>\n",
       "      <td>Angel</td>\n",
       "      <td>Oscar</td>\n",
       "      <td>checked</td>\n",
       "      <td>NaN</td>\n",
       "      <td>1</td>\n",
       "      <td>20.0</td>\n",
       "    </tr>\n",
       "    <tr>\n",
       "      <th>3</th>\n",
       "      <td>Angel</td>\n",
       "      <td>Oscar</td>\n",
       "      <td>checked</td>\n",
       "      <td>NaN</td>\n",
       "      <td>1</td>\n",
       "      <td>20.0</td>\n",
       "    </tr>\n",
       "    <tr>\n",
       "      <th>4</th>\n",
       "      <td>Borja</td>\n",
       "      <td>Oscar</td>\n",
       "      <td>checked</td>\n",
       "      <td>NaN</td>\n",
       "      <td>1</td>\n",
       "      <td>29.0</td>\n",
       "    </tr>\n",
       "    <tr>\n",
       "      <th>...</th>\n",
       "      <td>...</td>\n",
       "      <td>...</td>\n",
       "      <td>...</td>\n",
       "      <td>...</td>\n",
       "      <td>...</td>\n",
       "      <td>...</td>\n",
       "    </tr>\n",
       "    <tr>\n",
       "      <th>1774</th>\n",
       "      <td>JuanC</td>\n",
       "      <td>Laura</td>\n",
       "      <td>not checked</td>\n",
       "      <td>NaN</td>\n",
       "      <td>1</td>\n",
       "      <td>NaN</td>\n",
       "    </tr>\n",
       "    <tr>\n",
       "      <th>1775</th>\n",
       "      <td>JuanC</td>\n",
       "      <td>Laura</td>\n",
       "      <td>not checked</td>\n",
       "      <td>NaN</td>\n",
       "      <td>1</td>\n",
       "      <td>NaN</td>\n",
       "    </tr>\n",
       "    <tr>\n",
       "      <th>1776</th>\n",
       "      <td>Elena</td>\n",
       "      <td>Laura</td>\n",
       "      <td>not checked</td>\n",
       "      <td>NaN</td>\n",
       "      <td>0</td>\n",
       "      <td>62.0</td>\n",
       "    </tr>\n",
       "    <tr>\n",
       "      <th>1777</th>\n",
       "      <td>Elena</td>\n",
       "      <td>Laura</td>\n",
       "      <td>not checked</td>\n",
       "      <td>NaN</td>\n",
       "      <td>0</td>\n",
       "      <td>62.0</td>\n",
       "    </tr>\n",
       "    <tr>\n",
       "      <th>1778</th>\n",
       "      <td>Elena</td>\n",
       "      <td>Laura</td>\n",
       "      <td>not checked</td>\n",
       "      <td>NaN</td>\n",
       "      <td>0</td>\n",
       "      <td>62.0</td>\n",
       "    </tr>\n",
       "  </tbody>\n",
       "</table>\n",
       "<p>1489 rows × 6 columns</p>\n",
       "</div>"
      ],
      "text/plain": [
       "          user   coach    completed  Feedback  Sex  Edad\n",
       "0     Macarena  Miriam  not checked       NaN    0  25.0\n",
       "1        Angel   Oscar      checked       8.0    1  20.0\n",
       "2        Angel   Oscar      checked       NaN    1  20.0\n",
       "3        Angel   Oscar      checked       NaN    1  20.0\n",
       "4        Borja   Oscar      checked       NaN    1  29.0\n",
       "...        ...     ...          ...       ...  ...   ...\n",
       "1774     JuanC   Laura  not checked       NaN    1   NaN\n",
       "1775     JuanC   Laura  not checked       NaN    1   NaN\n",
       "1776     Elena   Laura  not checked       NaN    0  62.0\n",
       "1777     Elena   Laura  not checked       NaN    0  62.0\n",
       "1778     Elena   Laura  not checked       NaN    0  62.0\n",
       "\n",
       "[1489 rows x 6 columns]"
      ]
     },
     "execution_count": 209,
     "metadata": {},
     "output_type": "execute_result"
    }
   ],
   "source": [
    "df_check_union"
   ]
  },
  {
   "cell_type": "code",
   "execution_count": 210,
   "id": "traditional-canadian",
   "metadata": {
    "ExecuteTime": {
     "end_time": "2021-07-13T17:17:30.977133Z",
     "start_time": "2021-07-13T17:17:30.945534Z"
    }
   },
   "outputs": [
    {
     "data": {
      "text/html": [
       "<div>\n",
       "<style scoped>\n",
       "    .dataframe tbody tr th:only-of-type {\n",
       "        vertical-align: middle;\n",
       "    }\n",
       "\n",
       "    .dataframe tbody tr th {\n",
       "        vertical-align: top;\n",
       "    }\n",
       "\n",
       "    .dataframe thead th {\n",
       "        text-align: right;\n",
       "    }\n",
       "</style>\n",
       "<table border=\"1\" class=\"dataframe\">\n",
       "  <thead>\n",
       "    <tr style=\"text-align: right;\">\n",
       "      <th></th>\n",
       "      <th>user</th>\n",
       "      <th>coach</th>\n",
       "      <th>completed</th>\n",
       "      <th>Feedback</th>\n",
       "      <th>Sex</th>\n",
       "      <th>Edad</th>\n",
       "    </tr>\n",
       "  </thead>\n",
       "  <tbody>\n",
       "    <tr>\n",
       "      <th>0</th>\n",
       "      <td>Macarena</td>\n",
       "      <td>Miriam</td>\n",
       "      <td>not checked</td>\n",
       "      <td>NaN</td>\n",
       "      <td>0</td>\n",
       "      <td>25.0</td>\n",
       "    </tr>\n",
       "    <tr>\n",
       "      <th>1</th>\n",
       "      <td>Angel</td>\n",
       "      <td>Oscar</td>\n",
       "      <td>checked</td>\n",
       "      <td>8.0</td>\n",
       "      <td>1</td>\n",
       "      <td>20.0</td>\n",
       "    </tr>\n",
       "    <tr>\n",
       "      <th>2</th>\n",
       "      <td>Angel</td>\n",
       "      <td>Oscar</td>\n",
       "      <td>checked</td>\n",
       "      <td>NaN</td>\n",
       "      <td>1</td>\n",
       "      <td>20.0</td>\n",
       "    </tr>\n",
       "    <tr>\n",
       "      <th>3</th>\n",
       "      <td>Angel</td>\n",
       "      <td>Oscar</td>\n",
       "      <td>checked</td>\n",
       "      <td>NaN</td>\n",
       "      <td>1</td>\n",
       "      <td>20.0</td>\n",
       "    </tr>\n",
       "    <tr>\n",
       "      <th>4</th>\n",
       "      <td>Borja</td>\n",
       "      <td>Oscar</td>\n",
       "      <td>checked</td>\n",
       "      <td>NaN</td>\n",
       "      <td>1</td>\n",
       "      <td>29.0</td>\n",
       "    </tr>\n",
       "    <tr>\n",
       "      <th>...</th>\n",
       "      <td>...</td>\n",
       "      <td>...</td>\n",
       "      <td>...</td>\n",
       "      <td>...</td>\n",
       "      <td>...</td>\n",
       "      <td>...</td>\n",
       "    </tr>\n",
       "    <tr>\n",
       "      <th>1774</th>\n",
       "      <td>JuanC</td>\n",
       "      <td>Laura</td>\n",
       "      <td>not checked</td>\n",
       "      <td>NaN</td>\n",
       "      <td>1</td>\n",
       "      <td>NaN</td>\n",
       "    </tr>\n",
       "    <tr>\n",
       "      <th>1775</th>\n",
       "      <td>JuanC</td>\n",
       "      <td>Laura</td>\n",
       "      <td>not checked</td>\n",
       "      <td>NaN</td>\n",
       "      <td>1</td>\n",
       "      <td>NaN</td>\n",
       "    </tr>\n",
       "    <tr>\n",
       "      <th>1776</th>\n",
       "      <td>Elena</td>\n",
       "      <td>Laura</td>\n",
       "      <td>not checked</td>\n",
       "      <td>NaN</td>\n",
       "      <td>0</td>\n",
       "      <td>62.0</td>\n",
       "    </tr>\n",
       "    <tr>\n",
       "      <th>1777</th>\n",
       "      <td>Elena</td>\n",
       "      <td>Laura</td>\n",
       "      <td>not checked</td>\n",
       "      <td>NaN</td>\n",
       "      <td>0</td>\n",
       "      <td>62.0</td>\n",
       "    </tr>\n",
       "    <tr>\n",
       "      <th>1778</th>\n",
       "      <td>Elena</td>\n",
       "      <td>Laura</td>\n",
       "      <td>not checked</td>\n",
       "      <td>NaN</td>\n",
       "      <td>0</td>\n",
       "      <td>62.0</td>\n",
       "    </tr>\n",
       "  </tbody>\n",
       "</table>\n",
       "<p>1489 rows × 6 columns</p>\n",
       "</div>"
      ],
      "text/plain": [
       "          user   coach    completed  Feedback  Sex  Edad\n",
       "0     Macarena  Miriam  not checked       NaN    0  25.0\n",
       "1        Angel   Oscar      checked       8.0    1  20.0\n",
       "2        Angel   Oscar      checked       NaN    1  20.0\n",
       "3        Angel   Oscar      checked       NaN    1  20.0\n",
       "4        Borja   Oscar      checked       NaN    1  29.0\n",
       "...        ...     ...          ...       ...  ...   ...\n",
       "1774     JuanC   Laura  not checked       NaN    1   NaN\n",
       "1775     JuanC   Laura  not checked       NaN    1   NaN\n",
       "1776     Elena   Laura  not checked       NaN    0  62.0\n",
       "1777     Elena   Laura  not checked       NaN    0  62.0\n",
       "1778     Elena   Laura  not checked       NaN    0  62.0\n",
       "\n",
       "[1489 rows x 6 columns]"
      ]
     },
     "execution_count": 210,
     "metadata": {},
     "output_type": "execute_result"
    }
   ],
   "source": [
    "df_check_union"
   ]
  },
  {
   "cell_type": "code",
   "execution_count": 211,
   "id": "representative-valentine",
   "metadata": {
    "ExecuteTime": {
     "end_time": "2021-07-13T17:17:31.735423Z",
     "start_time": "2021-07-13T17:17:31.648167Z"
    }
   },
   "outputs": [
    {
     "ename": "ValueError",
     "evalue": "Value of 'values' is not the name of a column in 'data_frame'. Expected one of ['user', 'coach', 'completed', 'Feedback', 'Sex', 'Edad'] but received: Global_Sales",
     "output_type": "error",
     "traceback": [
      "\u001b[0;31m---------------------------------------------------------------------------\u001b[0m",
      "\u001b[0;31mValueError\u001b[0m                                Traceback (most recent call last)",
      "\u001b[0;32m<ipython-input-211-3fa0a2a3137e>\u001b[0m in \u001b[0;36m<module>\u001b[0;34m\u001b[0m\n\u001b[1;32m      1\u001b[0m \u001b[0;32mimport\u001b[0m \u001b[0mplotly\u001b[0m\u001b[0;34m.\u001b[0m\u001b[0mexpress\u001b[0m \u001b[0;32mas\u001b[0m \u001b[0mpx\u001b[0m\u001b[0;34m\u001b[0m\u001b[0;34m\u001b[0m\u001b[0m\n\u001b[0;32m----> 2\u001b[0;31m fig = px.treemap(df_check_union, \n\u001b[0m\u001b[1;32m      3\u001b[0m                  \u001b[0mpath\u001b[0m\u001b[0;34m=\u001b[0m\u001b[0;34m[\u001b[0m\u001b[0;34m'coach'\u001b[0m\u001b[0;34m,\u001b[0m \u001b[0;34m'completed'\u001b[0m\u001b[0;34m]\u001b[0m\u001b[0;34m,\u001b[0m\u001b[0;34m\u001b[0m\u001b[0;34m\u001b[0m\u001b[0m\n\u001b[1;32m      4\u001b[0m                  \u001b[0mvalues\u001b[0m\u001b[0;34m=\u001b[0m\u001b[0;34m'Global_Sales'\u001b[0m\u001b[0;34m,\u001b[0m\u001b[0;34m\u001b[0m\u001b[0;34m\u001b[0m\u001b[0m\n\u001b[1;32m      5\u001b[0m                  \u001b[0mcolor\u001b[0m\u001b[0;34m=\u001b[0m\u001b[0;34m'NA_Sales'\u001b[0m\u001b[0;34m\u001b[0m\u001b[0;34m\u001b[0m\u001b[0m\n",
      "\u001b[0;32m~/opt/anaconda3/lib/python3.8/site-packages/plotly/express/_chart_types.py\u001b[0m in \u001b[0;36mtreemap\u001b[0;34m(data_frame, names, values, parents, ids, path, color, color_continuous_scale, range_color, color_continuous_midpoint, color_discrete_sequence, color_discrete_map, hover_name, hover_data, custom_data, labels, title, template, width, height, branchvalues, maxdepth)\u001b[0m\n\u001b[1;32m   1462\u001b[0m     \u001b[0;32mif\u001b[0m \u001b[0mpath\u001b[0m \u001b[0;32mis\u001b[0m \u001b[0;32mnot\u001b[0m \u001b[0;32mNone\u001b[0m \u001b[0;32mand\u001b[0m \u001b[0mbranchvalues\u001b[0m \u001b[0;32mis\u001b[0m \u001b[0;32mNone\u001b[0m\u001b[0;34m:\u001b[0m\u001b[0;34m\u001b[0m\u001b[0;34m\u001b[0m\u001b[0m\n\u001b[1;32m   1463\u001b[0m         \u001b[0mbranchvalues\u001b[0m \u001b[0;34m=\u001b[0m \u001b[0;34m\"total\"\u001b[0m\u001b[0;34m\u001b[0m\u001b[0;34m\u001b[0m\u001b[0m\n\u001b[0;32m-> 1464\u001b[0;31m     return make_figure(\n\u001b[0m\u001b[1;32m   1465\u001b[0m         \u001b[0margs\u001b[0m\u001b[0;34m=\u001b[0m\u001b[0mlocals\u001b[0m\u001b[0;34m(\u001b[0m\u001b[0;34m)\u001b[0m\u001b[0;34m,\u001b[0m\u001b[0;34m\u001b[0m\u001b[0;34m\u001b[0m\u001b[0m\n\u001b[1;32m   1466\u001b[0m         \u001b[0mconstructor\u001b[0m\u001b[0;34m=\u001b[0m\u001b[0mgo\u001b[0m\u001b[0;34m.\u001b[0m\u001b[0mTreemap\u001b[0m\u001b[0;34m,\u001b[0m\u001b[0;34m\u001b[0m\u001b[0;34m\u001b[0m\u001b[0m\n",
      "\u001b[0;32m~/opt/anaconda3/lib/python3.8/site-packages/plotly/express/_core.py\u001b[0m in \u001b[0;36mmake_figure\u001b[0;34m(args, constructor, trace_patch, layout_patch)\u001b[0m\n\u001b[1;32m   1859\u001b[0m     \u001b[0mapply_default_cascade\u001b[0m\u001b[0;34m(\u001b[0m\u001b[0margs\u001b[0m\u001b[0;34m)\u001b[0m\u001b[0;34m\u001b[0m\u001b[0;34m\u001b[0m\u001b[0m\n\u001b[1;32m   1860\u001b[0m \u001b[0;34m\u001b[0m\u001b[0m\n\u001b[0;32m-> 1861\u001b[0;31m     \u001b[0margs\u001b[0m \u001b[0;34m=\u001b[0m \u001b[0mbuild_dataframe\u001b[0m\u001b[0;34m(\u001b[0m\u001b[0margs\u001b[0m\u001b[0;34m,\u001b[0m \u001b[0mconstructor\u001b[0m\u001b[0;34m)\u001b[0m\u001b[0;34m\u001b[0m\u001b[0;34m\u001b[0m\u001b[0m\n\u001b[0m\u001b[1;32m   1862\u001b[0m     \u001b[0;32mif\u001b[0m \u001b[0mconstructor\u001b[0m \u001b[0;32min\u001b[0m \u001b[0;34m[\u001b[0m\u001b[0mgo\u001b[0m\u001b[0;34m.\u001b[0m\u001b[0mTreemap\u001b[0m\u001b[0;34m,\u001b[0m \u001b[0mgo\u001b[0m\u001b[0;34m.\u001b[0m\u001b[0mSunburst\u001b[0m\u001b[0;34m]\u001b[0m \u001b[0;32mand\u001b[0m \u001b[0margs\u001b[0m\u001b[0;34m[\u001b[0m\u001b[0;34m\"path\"\u001b[0m\u001b[0;34m]\u001b[0m \u001b[0;32mis\u001b[0m \u001b[0;32mnot\u001b[0m \u001b[0;32mNone\u001b[0m\u001b[0;34m:\u001b[0m\u001b[0;34m\u001b[0m\u001b[0;34m\u001b[0m\u001b[0m\n\u001b[1;32m   1863\u001b[0m         \u001b[0margs\u001b[0m \u001b[0;34m=\u001b[0m \u001b[0mprocess_dataframe_hierarchy\u001b[0m\u001b[0;34m(\u001b[0m\u001b[0margs\u001b[0m\u001b[0;34m)\u001b[0m\u001b[0;34m\u001b[0m\u001b[0;34m\u001b[0m\u001b[0m\n",
      "\u001b[0;32m~/opt/anaconda3/lib/python3.8/site-packages/plotly/express/_core.py\u001b[0m in \u001b[0;36mbuild_dataframe\u001b[0;34m(args, constructor)\u001b[0m\n\u001b[1;32m   1375\u001b[0m     \u001b[0;31m# now that things have been prepped, we do the systematic rewriting of `args`\u001b[0m\u001b[0;34m\u001b[0m\u001b[0;34m\u001b[0m\u001b[0;34m\u001b[0m\u001b[0m\n\u001b[1;32m   1376\u001b[0m \u001b[0;34m\u001b[0m\u001b[0m\n\u001b[0;32m-> 1377\u001b[0;31m     df_output, wide_id_vars = process_args_into_dataframe(\n\u001b[0m\u001b[1;32m   1378\u001b[0m         \u001b[0margs\u001b[0m\u001b[0;34m,\u001b[0m \u001b[0mwide_mode\u001b[0m\u001b[0;34m,\u001b[0m \u001b[0mvar_name\u001b[0m\u001b[0;34m,\u001b[0m \u001b[0mvalue_name\u001b[0m\u001b[0;34m\u001b[0m\u001b[0;34m\u001b[0m\u001b[0m\n\u001b[1;32m   1379\u001b[0m     )\n",
      "\u001b[0;32m~/opt/anaconda3/lib/python3.8/site-packages/plotly/express/_core.py\u001b[0m in \u001b[0;36mprocess_args_into_dataframe\u001b[0;34m(args, wide_mode, var_name, value_name)\u001b[0m\n\u001b[1;32m   1181\u001b[0m                         \u001b[0;32mif\u001b[0m \u001b[0margument\u001b[0m \u001b[0;34m==\u001b[0m \u001b[0;34m\"index\"\u001b[0m\u001b[0;34m:\u001b[0m\u001b[0;34m\u001b[0m\u001b[0;34m\u001b[0m\u001b[0m\n\u001b[1;32m   1182\u001b[0m                             \u001b[0merr_msg\u001b[0m \u001b[0;34m+=\u001b[0m \u001b[0;34m\"\\n To use the index, pass it in directly as `df.index`.\"\u001b[0m\u001b[0;34m\u001b[0m\u001b[0;34m\u001b[0m\u001b[0m\n\u001b[0;32m-> 1183\u001b[0;31m                         \u001b[0;32mraise\u001b[0m \u001b[0mValueError\u001b[0m\u001b[0;34m(\u001b[0m\u001b[0merr_msg\u001b[0m\u001b[0;34m)\u001b[0m\u001b[0;34m\u001b[0m\u001b[0;34m\u001b[0m\u001b[0m\n\u001b[0m\u001b[1;32m   1184\u001b[0m                 \u001b[0;32melif\u001b[0m \u001b[0mlength\u001b[0m \u001b[0;32mand\u001b[0m \u001b[0mlen\u001b[0m\u001b[0;34m(\u001b[0m\u001b[0mdf_input\u001b[0m\u001b[0;34m[\u001b[0m\u001b[0margument\u001b[0m\u001b[0;34m]\u001b[0m\u001b[0;34m)\u001b[0m \u001b[0;34m!=\u001b[0m \u001b[0mlength\u001b[0m\u001b[0;34m:\u001b[0m\u001b[0;34m\u001b[0m\u001b[0;34m\u001b[0m\u001b[0m\n\u001b[1;32m   1185\u001b[0m                     raise ValueError(\n",
      "\u001b[0;31mValueError\u001b[0m: Value of 'values' is not the name of a column in 'data_frame'. Expected one of ['user', 'coach', 'completed', 'Feedback', 'Sex', 'Edad'] but received: Global_Sales"
     ]
    }
   ],
   "source": [
    "import plotly.express as px\n",
    "fig = px.treemap(df_check_union, \n",
    "                 path=['coach', 'completed'], \n",
    "                 values='Global_Sales',\n",
    "                 color='NA_Sales'\n",
    "                )\n",
    "fig.show()"
   ]
  },
  {
   "cell_type": "markdown",
   "id": "inclusive-monster",
   "metadata": {},
   "source": [
    "# REPORT"
   ]
  },
  {
   "cell_type": "code",
   "execution_count": 25,
   "id": "committed-circus",
   "metadata": {
    "ExecuteTime": {
     "end_time": "2021-07-13T16:09:24.209657Z",
     "start_time": "2021-07-13T16:09:24.202191Z"
    }
   },
   "outputs": [],
   "source": [
    "image1 = Image.open('statusgeneral.png')\n",
    "image2 = Image.open('statusgenero.png')"
   ]
  },
  {
   "cell_type": "code",
   "execution_count": 27,
   "id": "white-classic",
   "metadata": {
    "ExecuteTime": {
     "end_time": "2021-07-13T16:10:02.384297Z",
     "start_time": "2021-07-13T16:10:02.075357Z"
    },
    "scrolled": true
   },
   "outputs": [
    {
     "ename": "TypeError",
     "evalue": "'GridSpec' object does not support item assignment",
     "output_type": "error",
     "traceback": [
      "\u001b[0;31m---------------------------------------------------------------------------\u001b[0m",
      "\u001b[0;31mTypeError\u001b[0m                                 Traceback (most recent call last)",
      "\u001b[0;32m<ipython-input-27-b773b4f702b3>\u001b[0m in \u001b[0;36m<module>\u001b[0;34m\u001b[0m\n\u001b[1;32m      2\u001b[0m \u001b[0;34m\u001b[0m\u001b[0m\n\u001b[1;32m      3\u001b[0m \u001b[0max\u001b[0m \u001b[0;34m=\u001b[0m \u001b[0mfig\u001b[0m\u001b[0;34m.\u001b[0m\u001b[0madd_gridspec\u001b[0m\u001b[0;34m(\u001b[0m\u001b[0;36m1\u001b[0m\u001b[0;34m,\u001b[0m \u001b[0;36m2\u001b[0m\u001b[0;34m)\u001b[0m\u001b[0;34m\u001b[0m\u001b[0;34m\u001b[0m\u001b[0m\n\u001b[0;32m----> 4\u001b[0;31m \u001b[0max\u001b[0m\u001b[0;34m[\u001b[0m\u001b[0;36m0\u001b[0m\u001b[0;34m]\u001b[0m \u001b[0;34m=\u001b[0m \u001b[0mfig\u001b[0m\u001b[0;34m.\u001b[0m\u001b[0madd_subplot\u001b[0m\u001b[0;34m(\u001b[0m\u001b[0mgs\u001b[0m\u001b[0;34m[\u001b[0m\u001b[0;36m0\u001b[0m\u001b[0;34m,\u001b[0m \u001b[0;36m0\u001b[0m\u001b[0;34m]\u001b[0m\u001b[0;34m)\u001b[0m\u001b[0;34m\u001b[0m\u001b[0;34m\u001b[0m\u001b[0m\n\u001b[0m\u001b[1;32m      5\u001b[0m \u001b[0max\u001b[0m\u001b[0;34m[\u001b[0m\u001b[0;36m0\u001b[0m\u001b[0;34m]\u001b[0m\u001b[0;34m.\u001b[0m\u001b[0mget_xaxis\u001b[0m\u001b[0;34m(\u001b[0m\u001b[0;34m)\u001b[0m\u001b[0;34m.\u001b[0m\u001b[0mset_ticks\u001b[0m\u001b[0;34m(\u001b[0m\u001b[0;34m[\u001b[0m\u001b[0;34m]\u001b[0m\u001b[0;34m)\u001b[0m\u001b[0;34m\u001b[0m\u001b[0;34m\u001b[0m\u001b[0m\n\u001b[1;32m      6\u001b[0m \u001b[0max\u001b[0m\u001b[0;34m[\u001b[0m\u001b[0;36m0\u001b[0m\u001b[0;34m]\u001b[0m\u001b[0;34m.\u001b[0m\u001b[0mget_yaxis\u001b[0m\u001b[0;34m(\u001b[0m\u001b[0;34m)\u001b[0m\u001b[0;34m.\u001b[0m\u001b[0mset_ticks\u001b[0m\u001b[0;34m(\u001b[0m\u001b[0;34m[\u001b[0m\u001b[0;34m]\u001b[0m\u001b[0;34m)\u001b[0m\u001b[0;34m\u001b[0m\u001b[0;34m\u001b[0m\u001b[0m\n",
      "\u001b[0;31mTypeError\u001b[0m: 'GridSpec' object does not support item assignment"
     ]
    },
    {
     "name": "stderr",
     "output_type": "stream",
     "text": [
      "/Users/cmg/opt/anaconda3/lib/python3.8/site-packages/IPython/core/pylabtools.py:132: UserWarning: constrained_layout not applied.  At least one axes collapsed to zero width or height.\n",
      "  fig.canvas.print_figure(bytes_io, **kw)\n"
     ]
    },
    {
     "data": {
      "image/png": "[encoded data removed]",
      "text/plain": [
       "<Figure size 1008x576 with 1 Axes>"
      ]
     },
     "metadata": {
      "needs_background": "light"
     },
     "output_type": "display_data"
    }
   ],
   "source": [
    "fig = plt.figure(figsize=(14,8),constrained_layout=True)\n",
    "\n",
    "ax = fig.add_gridspec(1, 2)\n",
    "ax[0] = fig.add_subplot(gs[0, 0])\n",
    "ax[0].get_xaxis().set_ticks([])\n",
    "ax[0].get_yaxis().set_ticks([])\n",
    "\n",
    "ax[1] = fig.add_subplot(gs[0, 1])\n",
    "ax[1].get_xaxis().set_ticks([])\n",
    "ax[1].get_yaxis().set_ticks([])\n",
    "\n",
    "ax[0].imshow(image1)\n",
    "ax[1].imshow(image2)\n",
    "\n",
    "plt.tight_layout()\n",
    ";"
   ]
  },
  {
   "cell_type": "code",
   "execution_count": null,
   "id": "speaking-greek",
   "metadata": {},
   "outputs": [],
   "source": []
  }
 ],
 "metadata": {
  "celltoolbar": "Slideshow",
  "hide_input": false,
  "kernelspec": {
   "display_name": "Python 3",
   "language": "python",
   "name": "python3"
  },
  "language_info": {
   "codemirror_mode": {
    "name": "ipython",
    "version": 3
   },
   "file_extension": ".py",
   "mimetype": "text/x-python",
   "name": "python",
   "nbconvert_exporter": "python",
   "pygments_lexer": "ipython3",
   "version": "3.8.5"
  },
  "toc": {
   "base_numbering": 1,
   "nav_menu": {},
   "number_sections": false,
   "sideBar": true,
   "skip_h1_title": false,
   "title_cell": "Table of Contents",
   "title_sidebar": "Contents",
   "toc_cell": false,
   "toc_position": {
    "height": "calc(100% - 180px)",
    "left": "10px",
    "top": "150px",
    "width": "183px"
   },
   "toc_section_display": true,
   "toc_window_display": true
  },
  "varInspector": {
   "cols": {
    "lenName": 16,
    "lenType": 16,
    "lenVar": 40
   },
   "kernels_config": {
    "python": {
     "delete_cmd_postfix": "",
     "delete_cmd_prefix": "del ",
     "library": "var_list.py",
     "varRefreshCmd": "print(var_dic_list())"
    },
    "r": {
     "delete_cmd_postfix": ") ",
     "delete_cmd_prefix": "rm(",
     "library": "var_list.r",
     "varRefreshCmd": "cat(var_dic_list()) "
    }
   },
   "types_to_exclude": [
    "module",
    "function",
    "builtin_function_or_method",
    "instance",
    "_Feature"
   ],
   "window_display": false
  }
 },
 "nbformat": 4,
 "nbformat_minor": 5
}
