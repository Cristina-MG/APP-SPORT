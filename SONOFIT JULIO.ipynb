{
 "cells": [
  {
   "cell_type": "markdown",
   "id": "intermediate-replacement",
   "metadata": {},
   "source": [
    "# LIBRERIAS Y DATASETS"
   ]
  },
  {
   "cell_type": "markdown",
   "id": "remarkable-starter",
   "metadata": {
    "ExecuteTime": {
     "end_time": "2021-07-08T19:14:07.289047Z",
     "start_time": "2021-07-08T19:14:07.274266Z"
    }
   },
   "source": [
    "## LIBRERIAS"
   ]
  },
  {
   "cell_type": "code",
   "execution_count": 115,
   "id": "environmental-coffee",
   "metadata": {
    "ExecuteTime": {
     "end_time": "2021-08-02T19:41:18.241976Z",
     "start_time": "2021-08-02T19:41:18.236237Z"
    }
   },
   "outputs": [],
   "source": [
    "import pandas as pd\n",
    "import numpy as np\n",
    "from os import listdir\n",
    "import shutil\n",
    "from os import remove\n",
    "\n",
    "import matplotlib.pyplot as plt\n",
    "import seaborn as sns\n",
    "import pandas as pd\n",
    "import numpy as np\n",
    "from sklearn.neighbors import KernelDensity\n",
    "\n",
    "import matplotlib as mpl\n",
    "import matplotlib.pyplot as plt\n",
    "import matplotlib.gridspec as gridspec\n",
    "from PIL import Image"
   ]
  },
  {
   "cell_type": "code",
   "execution_count": 116,
   "id": "fixed-composer",
   "metadata": {
    "ExecuteTime": {
     "end_time": "2021-08-02T19:41:18.397868Z",
     "start_time": "2021-08-02T19:41:18.391631Z"
    }
   },
   "outputs": [],
   "source": [
    "import matplotlib as mpl\n",
    "mpl.rcParams['font.size'] = 15.0"
   ]
  },
  {
   "cell_type": "markdown",
   "id": "extraordinary-mediterranean",
   "metadata": {},
   "source": [
    "## CLIENTES  CSV"
   ]
  },
  {
   "cell_type": "code",
   "execution_count": 117,
   "id": "reasonable-copyright",
   "metadata": {
    "ExecuteTime": {
     "end_time": "2021-08-02T19:41:18.818429Z",
     "start_time": "2021-08-02T19:41:18.806423Z"
    }
   },
   "outputs": [],
   "source": [
    "df = pd.read_csv('clientes.csv')\n",
    "df = pd.DataFrame(df)"
   ]
  },
  {
   "cell_type": "code",
   "execution_count": 118,
   "id": "assured-nomination",
   "metadata": {
    "ExecuteTime": {
     "end_time": "2021-08-02T19:41:19.270641Z",
     "start_time": "2021-08-02T19:41:19.241616Z"
    }
   },
   "outputs": [
    {
     "data": {
      "text/html": [
       "<div>\n",
       "<style scoped>\n",
       "    .dataframe tbody tr th:only-of-type {\n",
       "        vertical-align: middle;\n",
       "    }\n",
       "\n",
       "    .dataframe tbody tr th {\n",
       "        vertical-align: top;\n",
       "    }\n",
       "\n",
       "    .dataframe thead th {\n",
       "        text-align: right;\n",
       "    }\n",
       "</style>\n",
       "<table border=\"1\" class=\"dataframe\">\n",
       "  <thead>\n",
       "    <tr style=\"text-align: right;\">\n",
       "      <th></th>\n",
       "      <th>Unnamed: 0</th>\n",
       "      <th>Name</th>\n",
       "      <th>Status</th>\n",
       "      <th>Cliente</th>\n",
       "      <th>Entrenadores</th>\n",
       "      <th>Primera Entrevista (Calendly)</th>\n",
       "      <th>OS</th>\n",
       "      <th>Cliente Desde</th>\n",
       "      <th>Nutricion</th>\n",
       "      <th>Nutricionista</th>\n",
       "      <th>Nutrición Desde</th>\n",
       "      <th>Meses Nutri</th>\n",
       "      <th>Edad</th>\n",
       "      <th>Objetivo</th>\n",
       "      <th>Dias/semana actual</th>\n",
       "      <th>Dias/semana Sono</th>\n",
       "      <th>Alimentacion</th>\n",
       "      <th>Fitness Band</th>\n",
       "      <th>user_id</th>\n",
       "    </tr>\n",
       "  </thead>\n",
       "  <tbody>\n",
       "    <tr>\n",
       "      <th>0</th>\n",
       "      <td>0</td>\n",
       "      <td>Ana</td>\n",
       "      <td>Churned</td>\n",
       "      <td>NaN</td>\n",
       "      <td>NaN</td>\n",
       "      <td>NaN</td>\n",
       "      <td>iOS</td>\n",
       "      <td>9/17/2020</td>\n",
       "      <td>NaN</td>\n",
       "      <td>NaN</td>\n",
       "      <td>9/17/2020</td>\n",
       "      <td>8.7</td>\n",
       "      <td>26.0</td>\n",
       "      <td>Mejorar rendimiento en un deporte</td>\n",
       "      <td>5-6</td>\n",
       "      <td>5-6 días</td>\n",
       "      <td>5.0</td>\n",
       "      <td>No tengo</td>\n",
       "      <td>recgxlRBB2s1z9n3K</td>\n",
       "    </tr>\n",
       "    <tr>\n",
       "      <th>1</th>\n",
       "      <td>1</td>\n",
       "      <td>Borja</td>\n",
       "      <td>Churned</td>\n",
       "      <td>NaN</td>\n",
       "      <td>Oscar</td>\n",
       "      <td>NaN</td>\n",
       "      <td>iOS</td>\n",
       "      <td>9/17/2020</td>\n",
       "      <td>NaN</td>\n",
       "      <td>NaN</td>\n",
       "      <td>9/17/2020</td>\n",
       "      <td>8.7</td>\n",
       "      <td>29.0</td>\n",
       "      <td>Mejorar cardio y/o resistencia</td>\n",
       "      <td>1-2</td>\n",
       "      <td>2 días</td>\n",
       "      <td>4.0</td>\n",
       "      <td>Polar</td>\n",
       "      <td>recCjycZK9bi7Ccwt</td>\n",
       "    </tr>\n",
       "    <tr>\n",
       "      <th>2</th>\n",
       "      <td>2</td>\n",
       "      <td>Angel</td>\n",
       "      <td>Churned</td>\n",
       "      <td>checked</td>\n",
       "      <td>Oscar</td>\n",
       "      <td>NaN</td>\n",
       "      <td>iOS</td>\n",
       "      <td>9/22/2020</td>\n",
       "      <td>NaN</td>\n",
       "      <td>NaN</td>\n",
       "      <td>9/22/2020</td>\n",
       "      <td>8.5</td>\n",
       "      <td>20.0</td>\n",
       "      <td>Recuperarme de una lesión y/o reducir molestias</td>\n",
       "      <td>5-6</td>\n",
       "      <td>5-6 días</td>\n",
       "      <td>2.0</td>\n",
       "      <td>No tengo</td>\n",
       "      <td>recyvFsiSa7Cuy52q</td>\n",
       "    </tr>\n",
       "  </tbody>\n",
       "</table>\n",
       "</div>"
      ],
      "text/plain": [
       "   Unnamed: 0   Name   Status  Cliente Entrenadores  \\\n",
       "0           0    Ana  Churned      NaN          NaN   \n",
       "1           1  Borja  Churned      NaN        Oscar   \n",
       "2           2  Angel  Churned  checked        Oscar   \n",
       "\n",
       "  Primera Entrevista (Calendly)   OS Cliente Desde Nutricion Nutricionista  \\\n",
       "0                           NaN  iOS     9/17/2020       NaN           NaN   \n",
       "1                           NaN  iOS     9/17/2020       NaN           NaN   \n",
       "2                           NaN  iOS     9/22/2020       NaN           NaN   \n",
       "\n",
       "  Nutrición Desde  Meses Nutri  Edad  \\\n",
       "0       9/17/2020          8.7  26.0   \n",
       "1       9/17/2020          8.7  29.0   \n",
       "2       9/22/2020          8.5  20.0   \n",
       "\n",
       "                                          Objetivo Dias/semana actual  \\\n",
       "0                Mejorar rendimiento en un deporte                5-6   \n",
       "1                   Mejorar cardio y/o resistencia                1-2   \n",
       "2  Recuperarme de una lesión y/o reducir molestias                5-6   \n",
       "\n",
       "  Dias/semana Sono  Alimentacion Fitness Band            user_id  \n",
       "0         5-6 días           5.0     No tengo  recgxlRBB2s1z9n3K  \n",
       "1           2 días           4.0        Polar  recCjycZK9bi7Ccwt  \n",
       "2         5-6 días           2.0     No tengo  recyvFsiSa7Cuy52q  "
      ]
     },
     "execution_count": 118,
     "metadata": {},
     "output_type": "execute_result"
    }
   ],
   "source": [
    "df.head(3)"
   ]
  },
  {
   "cell_type": "code",
   "execution_count": 119,
   "id": "announced-satisfaction",
   "metadata": {
    "ExecuteTime": {
     "end_time": "2021-08-02T19:41:19.366241Z",
     "start_time": "2021-08-02T19:41:19.327457Z"
    },
    "scrolled": false
   },
   "outputs": [
    {
     "name": "stdout",
     "output_type": "stream",
     "text": [
      "<class 'pandas.core.frame.DataFrame'>\n",
      "RangeIndex: 79 entries, 0 to 78\n",
      "Data columns (total 19 columns):\n",
      " #   Column                         Non-Null Count  Dtype  \n",
      "---  ------                         --------------  -----  \n",
      " 0   Unnamed: 0                     79 non-null     int64  \n",
      " 1   Name                           79 non-null     object \n",
      " 2   Status                         79 non-null     object \n",
      " 3   Cliente                        44 non-null     object \n",
      " 4   Entrenadores                   70 non-null     object \n",
      " 5   Primera Entrevista (Calendly)  37 non-null     object \n",
      " 6   OS                             12 non-null     object \n",
      " 7   Cliente Desde                  20 non-null     object \n",
      " 8   Nutricion                      4 non-null      object \n",
      " 9   Nutricionista                  5 non-null      object \n",
      " 10  Nutrición Desde                11 non-null     object \n",
      " 11  Meses Nutri                    11 non-null     float64\n",
      " 12  Edad                           43 non-null     float64\n",
      " 13  Objetivo                       50 non-null     object \n",
      " 14  Dias/semana actual             16 non-null     object \n",
      " 15  Dias/semana Sono               48 non-null     object \n",
      " 16  Alimentacion                   11 non-null     float64\n",
      " 17  Fitness Band                   11 non-null     object \n",
      " 18  user_id                        79 non-null     object \n",
      "dtypes: float64(3), int64(1), object(15)\n",
      "memory usage: 11.9+ KB\n"
     ]
    }
   ],
   "source": [
    "df.info()"
   ]
  },
  {
   "cell_type": "code",
   "execution_count": 120,
   "id": "toxic-examination",
   "metadata": {
    "ExecuteTime": {
     "end_time": "2021-08-02T19:41:19.938633Z",
     "start_time": "2021-08-02T19:41:19.933295Z"
    }
   },
   "outputs": [],
   "source": [
    "# Remove unnecesary columns \n",
    "df = df.drop(columns =[ 'Unnamed: 0', 'user_id','Cliente',\n",
    "                                   'Dias/semana Sono', 'Dias/semana actual','Primera Entrevista (Calendly)'\n",
    "                                   , 'OS', 'Nutricionista'])"
   ]
  },
  {
   "cell_type": "code",
   "execution_count": 121,
   "id": "personalized-ready",
   "metadata": {
    "ExecuteTime": {
     "end_time": "2021-08-02T19:41:20.499927Z",
     "start_time": "2021-08-02T19:41:20.485682Z"
    }
   },
   "outputs": [],
   "source": [
    "#add sex column\n",
    "women = [\n",
    "    'Ana', 'Clara', 'Nona', 'Macarena', 'Magdalena', 'Elena', 'Maru',\n",
    "    'Paulina', 'Carmen', 'Claudia', 'Itziar', 'Lola', 'Laura', 'Sonia',\n",
    "    'Carla', 'Benxa', 'Isi', 'Gaby', 'Maribel', 'Estefania', 'Bilal', 'Maria',\n",
    "    'Carolina', 'ElenaM', 'Pilar', 'MiriamG', 'Leticia Salmeron', 'fati',\n",
    "    'Maria dolores Martinez neria', 'Layla', 'Toñi Avila', 'PaulaG', 'Alba',\n",
    "    'Natalia ', 'Leidy', 'Esther', 'Matilde'\n",
    "]\n",
    "\n",
    "df['Sex'] = df['Name']\n",
    "\n",
    "def sex(x):\n",
    "    if x in women:\n",
    "        x = 0\n",
    "    else:\n",
    "        x = 1\n",
    "    return x\n",
    "        \n",
    "df['Sex'] = df['Name'].apply(sex)"
   ]
  },
  {
   "cell_type": "code",
   "execution_count": 122,
   "id": "amended-portal",
   "metadata": {
    "ExecuteTime": {
     "end_time": "2021-08-02T19:41:20.962896Z",
     "start_time": "2021-08-02T19:41:20.950859Z"
    }
   },
   "outputs": [
    {
     "data": {
      "text/plain": [
       "array(['Churned', 'Usuario', 'Formulario', 'test', 'Out', 'Trial'],\n",
       "      dtype=object)"
      ]
     },
     "execution_count": 122,
     "metadata": {},
     "output_type": "execute_result"
    }
   ],
   "source": [
    "df['Status'].unique()"
   ]
  },
  {
   "cell_type": "code",
   "execution_count": 123,
   "id": "wrapped-water",
   "metadata": {
    "ExecuteTime": {
     "end_time": "2021-08-02T19:41:21.884381Z",
     "start_time": "2021-08-02T19:41:21.851933Z"
    },
    "scrolled": false
   },
   "outputs": [
    {
     "data": {
      "text/html": [
       "<div>\n",
       "<style scoped>\n",
       "    .dataframe tbody tr th:only-of-type {\n",
       "        vertical-align: middle;\n",
       "    }\n",
       "\n",
       "    .dataframe tbody tr th {\n",
       "        vertical-align: top;\n",
       "    }\n",
       "\n",
       "    .dataframe thead th {\n",
       "        text-align: right;\n",
       "    }\n",
       "</style>\n",
       "<table border=\"1\" class=\"dataframe\">\n",
       "  <thead>\n",
       "    <tr style=\"text-align: right;\">\n",
       "      <th></th>\n",
       "      <th>Name</th>\n",
       "      <th>Status</th>\n",
       "      <th>Entrenadores</th>\n",
       "      <th>Cliente Desde</th>\n",
       "      <th>Nutricion</th>\n",
       "      <th>Nutrición Desde</th>\n",
       "      <th>Meses Nutri</th>\n",
       "      <th>Edad</th>\n",
       "      <th>Objetivo</th>\n",
       "      <th>Alimentacion</th>\n",
       "      <th>Fitness Band</th>\n",
       "      <th>Sex</th>\n",
       "    </tr>\n",
       "  </thead>\n",
       "  <tbody>\n",
       "    <tr>\n",
       "      <th>0</th>\n",
       "      <td>Ana</td>\n",
       "      <td>Churned</td>\n",
       "      <td>NaN</td>\n",
       "      <td>9/17/2020</td>\n",
       "      <td>NaN</td>\n",
       "      <td>9/17/2020</td>\n",
       "      <td>8.7</td>\n",
       "      <td>26.0</td>\n",
       "      <td>Mejorar rendimiento en un deporte</td>\n",
       "      <td>5.0</td>\n",
       "      <td>No tengo</td>\n",
       "      <td>0</td>\n",
       "    </tr>\n",
       "    <tr>\n",
       "      <th>1</th>\n",
       "      <td>Borja</td>\n",
       "      <td>Churned</td>\n",
       "      <td>Oscar</td>\n",
       "      <td>9/17/2020</td>\n",
       "      <td>NaN</td>\n",
       "      <td>9/17/2020</td>\n",
       "      <td>8.7</td>\n",
       "      <td>29.0</td>\n",
       "      <td>Mejorar cardio y/o resistencia</td>\n",
       "      <td>4.0</td>\n",
       "      <td>Polar</td>\n",
       "      <td>1</td>\n",
       "    </tr>\n",
       "    <tr>\n",
       "      <th>2</th>\n",
       "      <td>Angel</td>\n",
       "      <td>Churned</td>\n",
       "      <td>Oscar</td>\n",
       "      <td>9/22/2020</td>\n",
       "      <td>NaN</td>\n",
       "      <td>9/22/2020</td>\n",
       "      <td>8.5</td>\n",
       "      <td>20.0</td>\n",
       "      <td>Recuperarme de una lesión y/o reducir molestias</td>\n",
       "      <td>2.0</td>\n",
       "      <td>No tengo</td>\n",
       "      <td>1</td>\n",
       "    </tr>\n",
       "    <tr>\n",
       "      <th>3</th>\n",
       "      <td>Jose</td>\n",
       "      <td>Usuario</td>\n",
       "      <td>Oscar</td>\n",
       "      <td>9/28/2020</td>\n",
       "      <td>NaN</td>\n",
       "      <td>9/28/2020</td>\n",
       "      <td>8.3</td>\n",
       "      <td>31.0</td>\n",
       "      <td>Ganar masa muscular</td>\n",
       "      <td>3.0</td>\n",
       "      <td>Fitbit</td>\n",
       "      <td>1</td>\n",
       "    </tr>\n",
       "    <tr>\n",
       "      <th>4</th>\n",
       "      <td>Yago</td>\n",
       "      <td>Churned</td>\n",
       "      <td>Oscar</td>\n",
       "      <td>10/29/2020</td>\n",
       "      <td>NaN</td>\n",
       "      <td>10/29/2020</td>\n",
       "      <td>7.3</td>\n",
       "      <td>27.0</td>\n",
       "      <td>Ganar masa muscular</td>\n",
       "      <td>NaN</td>\n",
       "      <td>NaN</td>\n",
       "      <td>1</td>\n",
       "    </tr>\n",
       "    <tr>\n",
       "      <th>...</th>\n",
       "      <td>...</td>\n",
       "      <td>...</td>\n",
       "      <td>...</td>\n",
       "      <td>...</td>\n",
       "      <td>...</td>\n",
       "      <td>...</td>\n",
       "      <td>...</td>\n",
       "      <td>...</td>\n",
       "      <td>...</td>\n",
       "      <td>...</td>\n",
       "      <td>...</td>\n",
       "      <td>...</td>\n",
       "    </tr>\n",
       "    <tr>\n",
       "      <th>71</th>\n",
       "      <td>JuanC</td>\n",
       "      <td>Usuario</td>\n",
       "      <td>Laura</td>\n",
       "      <td>NaN</td>\n",
       "      <td>NaN</td>\n",
       "      <td>NaN</td>\n",
       "      <td>NaN</td>\n",
       "      <td>NaN</td>\n",
       "      <td>NaN</td>\n",
       "      <td>NaN</td>\n",
       "      <td>NaN</td>\n",
       "      <td>1</td>\n",
       "    </tr>\n",
       "    <tr>\n",
       "      <th>72</th>\n",
       "      <td>Esther</td>\n",
       "      <td>Out</td>\n",
       "      <td>Laura</td>\n",
       "      <td>NaN</td>\n",
       "      <td>NaN</td>\n",
       "      <td>NaN</td>\n",
       "      <td>NaN</td>\n",
       "      <td>NaN</td>\n",
       "      <td>NaN</td>\n",
       "      <td>NaN</td>\n",
       "      <td>NaN</td>\n",
       "      <td>0</td>\n",
       "    </tr>\n",
       "    <tr>\n",
       "      <th>73</th>\n",
       "      <td>Oskar</td>\n",
       "      <td>Out</td>\n",
       "      <td>Oscar</td>\n",
       "      <td>NaN</td>\n",
       "      <td>NaN</td>\n",
       "      <td>NaN</td>\n",
       "      <td>NaN</td>\n",
       "      <td>NaN</td>\n",
       "      <td>NaN</td>\n",
       "      <td>NaN</td>\n",
       "      <td>NaN</td>\n",
       "      <td>1</td>\n",
       "    </tr>\n",
       "    <tr>\n",
       "      <th>74</th>\n",
       "      <td>Matilde</td>\n",
       "      <td>Out</td>\n",
       "      <td>Laura</td>\n",
       "      <td>NaN</td>\n",
       "      <td>NaN</td>\n",
       "      <td>NaN</td>\n",
       "      <td>NaN</td>\n",
       "      <td>NaN</td>\n",
       "      <td>NaN</td>\n",
       "      <td>NaN</td>\n",
       "      <td>NaN</td>\n",
       "      <td>0</td>\n",
       "    </tr>\n",
       "    <tr>\n",
       "      <th>75</th>\n",
       "      <td>JoseM</td>\n",
       "      <td>Out</td>\n",
       "      <td>Laura</td>\n",
       "      <td>NaN</td>\n",
       "      <td>NaN</td>\n",
       "      <td>NaN</td>\n",
       "      <td>NaN</td>\n",
       "      <td>NaN</td>\n",
       "      <td>NaN</td>\n",
       "      <td>NaN</td>\n",
       "      <td>NaN</td>\n",
       "      <td>1</td>\n",
       "    </tr>\n",
       "  </tbody>\n",
       "</table>\n",
       "<p>66 rows × 12 columns</p>\n",
       "</div>"
      ],
      "text/plain": [
       "       Name   Status Entrenadores Cliente Desde Nutricion Nutrición Desde  \\\n",
       "0       Ana  Churned          NaN     9/17/2020       NaN       9/17/2020   \n",
       "1     Borja  Churned        Oscar     9/17/2020       NaN       9/17/2020   \n",
       "2     Angel  Churned        Oscar     9/22/2020       NaN       9/22/2020   \n",
       "3      Jose  Usuario        Oscar     9/28/2020       NaN       9/28/2020   \n",
       "4      Yago  Churned        Oscar    10/29/2020       NaN      10/29/2020   \n",
       "..      ...      ...          ...           ...       ...             ...   \n",
       "71    JuanC  Usuario        Laura           NaN       NaN             NaN   \n",
       "72   Esther      Out        Laura           NaN       NaN             NaN   \n",
       "73    Oskar      Out        Oscar           NaN       NaN             NaN   \n",
       "74  Matilde      Out        Laura           NaN       NaN             NaN   \n",
       "75    JoseM      Out        Laura           NaN       NaN             NaN   \n",
       "\n",
       "    Meses Nutri  Edad                                         Objetivo  \\\n",
       "0           8.7  26.0                Mejorar rendimiento en un deporte   \n",
       "1           8.7  29.0                   Mejorar cardio y/o resistencia   \n",
       "2           8.5  20.0  Recuperarme de una lesión y/o reducir molestias   \n",
       "3           8.3  31.0                              Ganar masa muscular   \n",
       "4           7.3  27.0                              Ganar masa muscular   \n",
       "..          ...   ...                                              ...   \n",
       "71          NaN   NaN                                              NaN   \n",
       "72          NaN   NaN                                              NaN   \n",
       "73          NaN   NaN                                              NaN   \n",
       "74          NaN   NaN                                              NaN   \n",
       "75          NaN   NaN                                              NaN   \n",
       "\n",
       "    Alimentacion Fitness Band  Sex  \n",
       "0            5.0     No tengo    0  \n",
       "1            4.0        Polar    1  \n",
       "2            2.0     No tengo    1  \n",
       "3            3.0       Fitbit    1  \n",
       "4            NaN          NaN    1  \n",
       "..           ...          ...  ...  \n",
       "71           NaN          NaN    1  \n",
       "72           NaN          NaN    0  \n",
       "73           NaN          NaN    1  \n",
       "74           NaN          NaN    0  \n",
       "75           NaN          NaN    1  \n",
       "\n",
       "[66 rows x 12 columns]"
      ]
     },
     "execution_count": 123,
     "metadata": {},
     "output_type": "execute_result"
    }
   ],
   "source": [
    "#REMOVE TEST CLIENTS\n",
    "df_clientes= df[(df['Status']!='test')&(df['Status']!='Trial')]\n",
    "df_clientes"
   ]
  },
  {
   "cell_type": "code",
   "execution_count": 124,
   "id": "featured-malaysia",
   "metadata": {
    "ExecuteTime": {
     "end_time": "2021-08-02T19:41:22.377485Z",
     "start_time": "2021-08-02T19:41:22.367325Z"
    }
   },
   "outputs": [
    {
     "data": {
      "text/plain": [
       "array(['Churned', 'Usuario', 'Formulario', 'Out'], dtype=object)"
      ]
     },
     "execution_count": 124,
     "metadata": {},
     "output_type": "execute_result"
    }
   ],
   "source": [
    "df_clientes['Status'].unique()"
   ]
  },
  {
   "cell_type": "markdown",
   "id": "olive-processing",
   "metadata": {},
   "source": [
    "# STATUS GENERAL"
   ]
  },
  {
   "cell_type": "code",
   "execution_count": 125,
   "id": "exterior-penalty",
   "metadata": {
    "ExecuteTime": {
     "end_time": "2021-08-02T19:41:23.126437Z",
     "start_time": "2021-08-02T19:41:23.109589Z"
    }
   },
   "outputs": [
    {
     "data": {
      "text/html": [
       "<div>\n",
       "<style scoped>\n",
       "    .dataframe tbody tr th:only-of-type {\n",
       "        vertical-align: middle;\n",
       "    }\n",
       "\n",
       "    .dataframe tbody tr th {\n",
       "        vertical-align: top;\n",
       "    }\n",
       "\n",
       "    .dataframe thead th {\n",
       "        text-align: right;\n",
       "    }\n",
       "</style>\n",
       "<table border=\"1\" class=\"dataframe\">\n",
       "  <thead>\n",
       "    <tr style=\"text-align: right;\">\n",
       "      <th></th>\n",
       "      <th>Name</th>\n",
       "      <th>Entrenadores</th>\n",
       "      <th>Cliente Desde</th>\n",
       "      <th>Nutricion</th>\n",
       "      <th>Nutrición Desde</th>\n",
       "      <th>Meses Nutri</th>\n",
       "      <th>Edad</th>\n",
       "      <th>Objetivo</th>\n",
       "      <th>Alimentacion</th>\n",
       "      <th>Fitness Band</th>\n",
       "      <th>Sex</th>\n",
       "    </tr>\n",
       "    <tr>\n",
       "      <th>Status</th>\n",
       "      <th></th>\n",
       "      <th></th>\n",
       "      <th></th>\n",
       "      <th></th>\n",
       "      <th></th>\n",
       "      <th></th>\n",
       "      <th></th>\n",
       "      <th></th>\n",
       "      <th></th>\n",
       "      <th></th>\n",
       "      <th></th>\n",
       "    </tr>\n",
       "  </thead>\n",
       "  <tbody>\n",
       "    <tr>\n",
       "      <th>Churned</th>\n",
       "      <td>17</td>\n",
       "      <td>16</td>\n",
       "      <td>11</td>\n",
       "      <td>2</td>\n",
       "      <td>6</td>\n",
       "      <td>6</td>\n",
       "      <td>14</td>\n",
       "      <td>15</td>\n",
       "      <td>3</td>\n",
       "      <td>3</td>\n",
       "      <td>17</td>\n",
       "    </tr>\n",
       "    <tr>\n",
       "      <th>Formulario</th>\n",
       "      <td>7</td>\n",
       "      <td>0</td>\n",
       "      <td>0</td>\n",
       "      <td>0</td>\n",
       "      <td>0</td>\n",
       "      <td>0</td>\n",
       "      <td>7</td>\n",
       "      <td>7</td>\n",
       "      <td>7</td>\n",
       "      <td>7</td>\n",
       "      <td>7</td>\n",
       "    </tr>\n",
       "    <tr>\n",
       "      <th>Out</th>\n",
       "      <td>31</td>\n",
       "      <td>30</td>\n",
       "      <td>2</td>\n",
       "      <td>0</td>\n",
       "      <td>1</td>\n",
       "      <td>1</td>\n",
       "      <td>15</td>\n",
       "      <td>15</td>\n",
       "      <td>0</td>\n",
       "      <td>0</td>\n",
       "      <td>31</td>\n",
       "    </tr>\n",
       "    <tr>\n",
       "      <th>Usuario</th>\n",
       "      <td>11</td>\n",
       "      <td>11</td>\n",
       "      <td>4</td>\n",
       "      <td>1</td>\n",
       "      <td>3</td>\n",
       "      <td>3</td>\n",
       "      <td>7</td>\n",
       "      <td>7</td>\n",
       "      <td>1</td>\n",
       "      <td>1</td>\n",
       "      <td>11</td>\n",
       "    </tr>\n",
       "  </tbody>\n",
       "</table>\n",
       "</div>"
      ],
      "text/plain": [
       "            Name  Entrenadores  Cliente Desde  Nutricion  Nutrición Desde  \\\n",
       "Status                                                                      \n",
       "Churned       17            16             11          2                6   \n",
       "Formulario     7             0              0          0                0   \n",
       "Out           31            30              2          0                1   \n",
       "Usuario       11            11              4          1                3   \n",
       "\n",
       "            Meses Nutri  Edad  Objetivo  Alimentacion  Fitness Band  Sex  \n",
       "Status                                                                    \n",
       "Churned               6    14        15             3             3   17  \n",
       "Formulario            0     7         7             7             7    7  \n",
       "Out                   1    15        15             0             0   31  \n",
       "Usuario               3     7         7             1             1   11  "
      ]
     },
     "execution_count": 125,
     "metadata": {},
     "output_type": "execute_result"
    }
   ],
   "source": [
    "df_status = pd.DataFrame(df_clientes.groupby('Status').count())\n",
    "df_status"
   ]
  },
  {
   "cell_type": "code",
   "execution_count": 126,
   "id": "biological-chance",
   "metadata": {
    "ExecuteTime": {
     "end_time": "2021-08-02T19:41:23.523209Z",
     "start_time": "2021-08-02T19:41:23.517867Z"
    }
   },
   "outputs": [],
   "source": [
    "total_clientes = df_status['Name'].sum()"
   ]
  },
  {
   "cell_type": "code",
   "execution_count": 127,
   "id": "aggregate-conversion",
   "metadata": {
    "ExecuteTime": {
     "end_time": "2021-08-02T19:41:23.901622Z",
     "start_time": "2021-08-02T19:41:23.895512Z"
    }
   },
   "outputs": [],
   "source": [
    "df_s  = pd.DataFrame(df_status['Name'])\n",
    "df_s = df_s.rename(columns={'Name':'percent clientes'})"
   ]
  },
  {
   "cell_type": "code",
   "execution_count": 128,
   "id": "human-setting",
   "metadata": {
    "ExecuteTime": {
     "end_time": "2021-08-02T19:41:24.406321Z",
     "start_time": "2021-08-02T19:41:24.385792Z"
    }
   },
   "outputs": [
    {
     "data": {
      "text/html": [
       "<div>\n",
       "<style scoped>\n",
       "    .dataframe tbody tr th:only-of-type {\n",
       "        vertical-align: middle;\n",
       "    }\n",
       "\n",
       "    .dataframe tbody tr th {\n",
       "        vertical-align: top;\n",
       "    }\n",
       "\n",
       "    .dataframe thead th {\n",
       "        text-align: right;\n",
       "    }\n",
       "</style>\n",
       "<table border=\"1\" class=\"dataframe\">\n",
       "  <thead>\n",
       "    <tr style=\"text-align: right;\">\n",
       "      <th></th>\n",
       "      <th>Status</th>\n",
       "      <th>percent clientes</th>\n",
       "    </tr>\n",
       "  </thead>\n",
       "  <tbody>\n",
       "    <tr>\n",
       "      <th>0</th>\n",
       "      <td>Churned</td>\n",
       "      <td>25.8</td>\n",
       "    </tr>\n",
       "    <tr>\n",
       "      <th>1</th>\n",
       "      <td>Formulario</td>\n",
       "      <td>10.6</td>\n",
       "    </tr>\n",
       "    <tr>\n",
       "      <th>2</th>\n",
       "      <td>Out</td>\n",
       "      <td>47.0</td>\n",
       "    </tr>\n",
       "    <tr>\n",
       "      <th>3</th>\n",
       "      <td>Usuario</td>\n",
       "      <td>16.7</td>\n",
       "    </tr>\n",
       "  </tbody>\n",
       "</table>\n",
       "</div>"
      ],
      "text/plain": [
       "       Status  percent clientes\n",
       "0     Churned              25.8\n",
       "1  Formulario              10.6\n",
       "2         Out              47.0\n",
       "3     Usuario              16.7"
      ]
     },
     "execution_count": 128,
     "metadata": {},
     "output_type": "execute_result"
    }
   ],
   "source": [
    "df_s= (df_s['percent clientes']*100/total_clientes).round(1)\n",
    "df_s = df_s.reset_index()\n",
    "df_s"
   ]
  },
  {
   "cell_type": "code",
   "execution_count": 129,
   "id": "collected-prime",
   "metadata": {
    "ExecuteTime": {
     "end_time": "2021-08-02T19:41:25.144214Z",
     "start_time": "2021-08-02T19:41:24.868343Z"
    },
    "scrolled": true
   },
   "outputs": [
    {
     "data": {
      "image/png": "[encoded data removed]",
      "text/plain": [
       "<Figure size 576x576 with 1 Axes>"
      ]
     },
     "metadata": {},
     "output_type": "display_data"
    }
   ],
   "source": [
    "explode = (0.05,0.05,0.05,0.05)\n",
    "patches, texts, autotexts = plt.pie(df_s['percent clientes'],\n",
    "        labels=df_s['Status'],\n",
    "        colors=['#9CBEE4', '#FDD2D2','#EAB2E1' , '#c9e6c9'],\n",
    "        startangle=90, pctdistance=0.85, explode = explode,\n",
    "        autopct=\"%.1f%%\")\n",
    "\n",
    "# add a circle at the center to transform it in a donut chart\n",
    "my_circle = plt.Circle((0, 0), 0.3, color='white')\n",
    "p = plt.gcf()\n",
    "p.gca().add_artist(my_circle)\n",
    "p.set_size_inches(8, 8)\n",
    "\n",
    "plt.savefig(\"statusgeneral.png\")\n",
    "\n",
    "plt.show()\n"
   ]
  },
  {
   "cell_type": "markdown",
   "id": "passing-pizza",
   "metadata": {},
   "source": [
    "# STATUS POR GÉNERO"
   ]
  },
  {
   "cell_type": "code",
   "execution_count": 130,
   "id": "processed-norwegian",
   "metadata": {
    "ExecuteTime": {
     "end_time": "2021-08-02T19:41:26.442315Z",
     "start_time": "2021-08-02T19:41:26.393354Z"
    }
   },
   "outputs": [
    {
     "data": {
      "text/html": [
       "<div>\n",
       "<style scoped>\n",
       "    .dataframe tbody tr th:only-of-type {\n",
       "        vertical-align: middle;\n",
       "    }\n",
       "\n",
       "    .dataframe tbody tr th {\n",
       "        vertical-align: top;\n",
       "    }\n",
       "\n",
       "    .dataframe thead th {\n",
       "        text-align: right;\n",
       "    }\n",
       "</style>\n",
       "<table border=\"1\" class=\"dataframe\">\n",
       "  <thead>\n",
       "    <tr style=\"text-align: right;\">\n",
       "      <th></th>\n",
       "      <th>Status</th>\n",
       "      <th>Sex</th>\n",
       "    </tr>\n",
       "  </thead>\n",
       "  <tbody>\n",
       "    <tr>\n",
       "      <th>0</th>\n",
       "      <td>Churned</td>\n",
       "      <td>0</td>\n",
       "    </tr>\n",
       "    <tr>\n",
       "      <th>1</th>\n",
       "      <td>Churned</td>\n",
       "      <td>1</td>\n",
       "    </tr>\n",
       "    <tr>\n",
       "      <th>2</th>\n",
       "      <td>Churned</td>\n",
       "      <td>1</td>\n",
       "    </tr>\n",
       "    <tr>\n",
       "      <th>3</th>\n",
       "      <td>Usuario</td>\n",
       "      <td>1</td>\n",
       "    </tr>\n",
       "    <tr>\n",
       "      <th>4</th>\n",
       "      <td>Churned</td>\n",
       "      <td>1</td>\n",
       "    </tr>\n",
       "  </tbody>\n",
       "</table>\n",
       "</div>"
      ],
      "text/plain": [
       "    Status  Sex\n",
       "0  Churned    0\n",
       "1  Churned    1\n",
       "2  Churned    1\n",
       "3  Usuario    1\n",
       "4  Churned    1"
      ]
     },
     "execution_count": 130,
     "metadata": {},
     "output_type": "execute_result"
    }
   ],
   "source": [
    "df_status= df_clientes[['Status','Sex']]\n",
    "df_status.head(5)"
   ]
  },
  {
   "cell_type": "code",
   "execution_count": 131,
   "id": "irish-bruce",
   "metadata": {
    "ExecuteTime": {
     "end_time": "2021-08-02T19:41:27.367020Z",
     "start_time": "2021-08-02T19:41:27.355763Z"
    }
   },
   "outputs": [],
   "source": [
    "df_status_sex = df_status.groupby('Status').count()\n",
    "woman = df_status[df_status['Sex']==0].groupby('Status').count()\n",
    "man = df_status[df_status['Sex']==1].groupby('Status').count()"
   ]
  },
  {
   "cell_type": "code",
   "execution_count": 132,
   "id": "affiliated-hypothesis",
   "metadata": {
    "ExecuteTime": {
     "end_time": "2021-08-02T19:41:27.953360Z",
     "start_time": "2021-08-02T19:41:27.943062Z"
    }
   },
   "outputs": [],
   "source": [
    "df_status_sex['Woman'] = woman['Sex']\n",
    "df_status_sex['Man'] = man['Sex']"
   ]
  },
  {
   "cell_type": "code",
   "execution_count": 133,
   "id": "crude-safety",
   "metadata": {
    "ExecuteTime": {
     "end_time": "2021-08-02T19:41:28.539303Z",
     "start_time": "2021-08-02T19:41:28.527503Z"
    }
   },
   "outputs": [
    {
     "data": {
      "text/html": [
       "<div>\n",
       "<style scoped>\n",
       "    .dataframe tbody tr th:only-of-type {\n",
       "        vertical-align: middle;\n",
       "    }\n",
       "\n",
       "    .dataframe tbody tr th {\n",
       "        vertical-align: top;\n",
       "    }\n",
       "\n",
       "    .dataframe thead th {\n",
       "        text-align: right;\n",
       "    }\n",
       "</style>\n",
       "<table border=\"1\" class=\"dataframe\">\n",
       "  <thead>\n",
       "    <tr style=\"text-align: right;\">\n",
       "      <th></th>\n",
       "      <th>Sex</th>\n",
       "      <th>Woman</th>\n",
       "      <th>Man</th>\n",
       "    </tr>\n",
       "    <tr>\n",
       "      <th>Status</th>\n",
       "      <th></th>\n",
       "      <th></th>\n",
       "      <th></th>\n",
       "    </tr>\n",
       "  </thead>\n",
       "  <tbody>\n",
       "    <tr>\n",
       "      <th>Churned</th>\n",
       "      <td>17</td>\n",
       "      <td>10</td>\n",
       "      <td>7</td>\n",
       "    </tr>\n",
       "    <tr>\n",
       "      <th>Formulario</th>\n",
       "      <td>7</td>\n",
       "      <td>1</td>\n",
       "      <td>6</td>\n",
       "    </tr>\n",
       "    <tr>\n",
       "      <th>Out</th>\n",
       "      <td>31</td>\n",
       "      <td>23</td>\n",
       "      <td>8</td>\n",
       "    </tr>\n",
       "    <tr>\n",
       "      <th>Usuario</th>\n",
       "      <td>11</td>\n",
       "      <td>4</td>\n",
       "      <td>7</td>\n",
       "    </tr>\n",
       "  </tbody>\n",
       "</table>\n",
       "</div>"
      ],
      "text/plain": [
       "            Sex  Woman  Man\n",
       "Status                     \n",
       "Churned      17     10    7\n",
       "Formulario    7      1    6\n",
       "Out          31     23    8\n",
       "Usuario      11      4    7"
      ]
     },
     "execution_count": 133,
     "metadata": {},
     "output_type": "execute_result"
    }
   ],
   "source": [
    "df_status_sex"
   ]
  },
  {
   "cell_type": "code",
   "execution_count": 134,
   "id": "separated-johns",
   "metadata": {
    "ExecuteTime": {
     "end_time": "2021-08-02T19:41:29.110626Z",
     "start_time": "2021-08-02T19:41:29.100887Z"
    }
   },
   "outputs": [],
   "source": [
    "w = list(df_status_sex['Woman'])\n",
    "m = list(df_status_sex['Man'])\n",
    "sizes_gender = []\n",
    "for i in range(len(w)):\n",
    "    sizes_gender.append(w[i])\n",
    "    sizes_gender.append(m[i])"
   ]
  },
  {
   "cell_type": "code",
   "execution_count": 135,
   "id": "short-executive",
   "metadata": {
    "ExecuteTime": {
     "end_time": "2021-08-02T19:41:29.733643Z",
     "start_time": "2021-08-02T19:41:29.721960Z"
    }
   },
   "outputs": [],
   "source": [
    "df_status_sex =df_status_sex.reset_index()"
   ]
  },
  {
   "cell_type": "code",
   "execution_count": 136,
   "id": "quantitative-procurement",
   "metadata": {
    "ExecuteTime": {
     "end_time": "2021-08-02T19:41:30.815516Z",
     "start_time": "2021-08-02T19:41:30.481730Z"
    },
    "scrolled": false
   },
   "outputs": [
    {
     "data": {
      "image/png": "[encoded data removed]",
      "text/plain": [
       "<Figure size 576x576 with 1 Axes>"
      ]
     },
     "metadata": {},
     "output_type": "display_data"
    }
   ],
   "source": [
    "# Data to plot\n",
    "labels = list(df_status_sex['Status'])\n",
    "sizes =  list(df_status_sex['Sex'])\n",
    "labels_gender = ['Woman','Man','Woman','Man','Woman','Man','Woman', 'Man']\n",
    "\n",
    "\n",
    "colors = ['#9CBEE4', '#FDD2D2','#EAB2E1' , '#c9e6c9']\n",
    "colors_gender = ['#F7C5E1','#A7D1E8','#F7C5E1','#A7D1E8', '#F7C5E1','#A7D1E8','#F7C5E1','#A7D1E8']\n",
    " \n",
    "p1 = plt.pie(sizes, labels=labels, colors=colors, startangle=90,frame=True)\n",
    "\n",
    "p2 = plt.pie(sizes_gender,colors=colors_gender,radius=0.7, startangle=90, autopct=\"%.1f%%\", )\n",
    "\n",
    "centre_circle = plt.Circle((0,0),0.3,color='black', fc='white',linewidth=0)\n",
    "\n",
    "fig = plt.gcf()\n",
    "fig.gca().add_artist(centre_circle)\n",
    "fig.set_size_inches(8, 8)\n",
    "\n",
    "plt.axis('equal')\n",
    "plt.tight_layout()\n",
    "plt.savefig(\"statusgenero.png\")\n",
    "plt.show()\n"
   ]
  },
  {
   "cell_type": "markdown",
   "id": "forward-bradford",
   "metadata": {},
   "source": [
    "# PAGO APP POR GÉNERO DESPUÉS DE LA PRUEBA "
   ]
  },
  {
   "cell_type": "code",
   "execution_count": 137,
   "id": "declared-bandwidth",
   "metadata": {
    "ExecuteTime": {
     "end_time": "2021-08-02T19:41:36.184946Z",
     "start_time": "2021-08-02T19:41:36.174014Z"
    }
   },
   "outputs": [
    {
     "data": {
      "text/html": [
       "<div>\n",
       "<style scoped>\n",
       "    .dataframe tbody tr th:only-of-type {\n",
       "        vertical-align: middle;\n",
       "    }\n",
       "\n",
       "    .dataframe tbody tr th {\n",
       "        vertical-align: top;\n",
       "    }\n",
       "\n",
       "    .dataframe thead th {\n",
       "        text-align: right;\n",
       "    }\n",
       "</style>\n",
       "<table border=\"1\" class=\"dataframe\">\n",
       "  <thead>\n",
       "    <tr style=\"text-align: right;\">\n",
       "      <th></th>\n",
       "      <th>Status</th>\n",
       "      <th>Sex</th>\n",
       "      <th>Woman</th>\n",
       "      <th>Man</th>\n",
       "    </tr>\n",
       "  </thead>\n",
       "  <tbody>\n",
       "    <tr>\n",
       "      <th>0</th>\n",
       "      <td>Churned</td>\n",
       "      <td>17</td>\n",
       "      <td>10</td>\n",
       "      <td>7</td>\n",
       "    </tr>\n",
       "    <tr>\n",
       "      <th>2</th>\n",
       "      <td>Out</td>\n",
       "      <td>31</td>\n",
       "      <td>23</td>\n",
       "      <td>8</td>\n",
       "    </tr>\n",
       "    <tr>\n",
       "      <th>3</th>\n",
       "      <td>Usuario</td>\n",
       "      <td>11</td>\n",
       "      <td>4</td>\n",
       "      <td>7</td>\n",
       "    </tr>\n",
       "  </tbody>\n",
       "</table>\n",
       "</div>"
      ],
      "text/plain": [
       "    Status  Sex  Woman  Man\n",
       "0  Churned   17     10    7\n",
       "2      Out   31     23    8\n",
       "3  Usuario   11      4    7"
      ]
     },
     "metadata": {},
     "output_type": "display_data"
    }
   ],
   "source": [
    "df_status_sex = df_status_sex.drop([1],axis=0)\n",
    "display(df_status_sex) "
   ]
  },
  {
   "cell_type": "code",
   "execution_count": 138,
   "id": "medical-mining",
   "metadata": {
    "ExecuteTime": {
     "end_time": "2021-08-02T19:41:36.578628Z",
     "start_time": "2021-08-02T19:41:36.564575Z"
    }
   },
   "outputs": [],
   "source": [
    "app_pago = df_status_sex[(df_status_sex['Status']=='Churned')|(df_status_sex['Status']=='Usuario')].sum()"
   ]
  },
  {
   "cell_type": "code",
   "execution_count": 139,
   "id": "neither-exception",
   "metadata": {
    "ExecuteTime": {
     "end_time": "2021-08-02T19:41:36.948169Z",
     "start_time": "2021-08-02T19:41:36.942442Z"
    }
   },
   "outputs": [],
   "source": [
    "total_pago = app_pago['Sex'].sum()\n",
    "woman_pago = app_pago['Woman'].sum()\n",
    "man_pago = app_pago['Man'].sum()"
   ]
  },
  {
   "cell_type": "code",
   "execution_count": 140,
   "id": "amber-orange",
   "metadata": {
    "ExecuteTime": {
     "end_time": "2021-08-02T19:41:37.261028Z",
     "start_time": "2021-08-02T19:41:37.248123Z"
    }
   },
   "outputs": [
    {
     "name": "stdout",
     "output_type": "stream",
     "text": [
      "37.8 63.6\n"
     ]
    }
   ],
   "source": [
    "wp = (woman_pago*100/(df_status_sex['Woman'].sum())).round(1)\n",
    "mp = (man_pago*100/(df_status_sex['Man'].sum())).round(1)\n",
    "print(wp, mp)"
   ]
  },
  {
   "cell_type": "code",
   "execution_count": 141,
   "id": "greenhouse-controversy",
   "metadata": {
    "ExecuteTime": {
     "end_time": "2021-08-02T19:41:37.755381Z",
     "start_time": "2021-08-02T19:41:37.659504Z"
    }
   },
   "outputs": [
    {
     "data": {
      "image/png": "[encoded data removed]",
      "text/plain": [
       "<Figure size 432x288 with 1 Axes>"
      ]
     },
     "metadata": {},
     "output_type": "display_data"
    }
   ],
   "source": [
    "X = 2 \n",
    "fig,a = plt.subplots() \n",
    "p1= a.bar(2 - 0.4, wp, color='#F7C5E1')\n",
    "p1 = a.text(1+1 / 2, 2 + 1 * 1.01, str(wp) + '%', ha='center', weight='bold',size =25, color = 'white')\n",
    "p2 = a.bar(2 + 0.4, mp, color='#A7D1E8')\n",
    "p2 = a.text(2 + 1 / 2, 2 + 1 * 1.01, str(mp) + '%', ha='center', weight='bold', size =25, color = 'white')\n",
    "a.xaxis.set_visible(False)\n",
    "a.yaxis.set_visible(False)\n",
    "a.spines['right'].set_visible(False)\n",
    "a.spines['top'].set_visible(False)\n",
    "a.spines['left'].set_visible(False)\n",
    "a.spines['bottom'].set_visible(False)\n",
    "plt.savefig(\"appgenero.png\")\n",
    "plt.show()"
   ]
  },
  {
   "cell_type": "markdown",
   "id": "grave-element",
   "metadata": {},
   "source": [
    "# PAGO APP POR EDAD"
   ]
  },
  {
   "cell_type": "code",
   "execution_count": 189,
   "id": "continued-system",
   "metadata": {
    "ExecuteTime": {
     "end_time": "2021-08-02T19:54:45.701747Z",
     "start_time": "2021-08-02T19:54:45.692343Z"
    }
   },
   "outputs": [
    {
     "name": "stderr",
     "output_type": "stream",
     "text": [
      "<ipython-input-189-d3c2e0315cfb>:2: SettingWithCopyWarning: \n",
      "A value is trying to be set on a copy of a slice from a DataFrame\n",
      "\n",
      "See the caveats in the documentation: https://pandas.pydata.org/pandas-docs/stable/user_guide/indexing.html#returning-a-view-versus-a-copy\n",
      "  app_edad.dropna(inplace= True)\n"
     ]
    }
   ],
   "source": [
    "app_edad = df_clientes[['Status','Edad','Sex']]\n",
    "app_edad.dropna(inplace= True)"
   ]
  },
  {
   "cell_type": "code",
   "execution_count": 190,
   "id": "complimentary-bankruptcy",
   "metadata": {
    "ExecuteTime": {
     "end_time": "2021-08-02T19:54:46.083469Z",
     "start_time": "2021-08-02T19:54:46.064877Z"
    }
   },
   "outputs": [
    {
     "data": {
      "text/html": [
       "<div>\n",
       "<style scoped>\n",
       "    .dataframe tbody tr th:only-of-type {\n",
       "        vertical-align: middle;\n",
       "    }\n",
       "\n",
       "    .dataframe tbody tr th {\n",
       "        vertical-align: top;\n",
       "    }\n",
       "\n",
       "    .dataframe thead th {\n",
       "        text-align: right;\n",
       "    }\n",
       "</style>\n",
       "<table border=\"1\" class=\"dataframe\">\n",
       "  <thead>\n",
       "    <tr style=\"text-align: right;\">\n",
       "      <th></th>\n",
       "      <th>Status</th>\n",
       "      <th>Edad</th>\n",
       "      <th>Sex</th>\n",
       "    </tr>\n",
       "  </thead>\n",
       "  <tbody>\n",
       "    <tr>\n",
       "      <th>0</th>\n",
       "      <td>Churned</td>\n",
       "      <td>26.0</td>\n",
       "      <td>0</td>\n",
       "    </tr>\n",
       "    <tr>\n",
       "      <th>1</th>\n",
       "      <td>Churned</td>\n",
       "      <td>29.0</td>\n",
       "      <td>1</td>\n",
       "    </tr>\n",
       "    <tr>\n",
       "      <th>2</th>\n",
       "      <td>Churned</td>\n",
       "      <td>20.0</td>\n",
       "      <td>1</td>\n",
       "    </tr>\n",
       "  </tbody>\n",
       "</table>\n",
       "</div>"
      ],
      "text/plain": [
       "    Status  Edad  Sex\n",
       "0  Churned  26.0    0\n",
       "1  Churned  29.0    1\n",
       "2  Churned  20.0    1"
      ]
     },
     "execution_count": 190,
     "metadata": {},
     "output_type": "execute_result"
    }
   ],
   "source": [
    "app_edad.head(3)"
   ]
  },
  {
   "cell_type": "code",
   "execution_count": 191,
   "id": "balanced-attraction",
   "metadata": {
    "ExecuteTime": {
     "end_time": "2021-08-02T19:54:48.058944Z",
     "start_time": "2021-08-02T19:54:46.769765Z"
    }
   },
   "outputs": [
    {
     "data": {
      "image/png": "[encoded data removed]",
      "text/plain": [
       "<Figure size 1080x288 with 4 Axes>"
      ]
     },
     "metadata": {},
     "output_type": "display_data"
    }
   ],
   "source": [
    "sns.set_theme(style=\"white\", rc={\"axes.facecolor\": (0, 0, 0, 0)})\n",
    "# Create the data\n",
    "x = app_edad['Edad']\n",
    "g = app_edad['Status']\n",
    "df = pd.DataFrame(dict(x=x, g=g))\n",
    "\n",
    "\n",
    "# Initialize the FacetGrid object\n",
    "\n",
    "pal =  ['#9CBEE4', '#c9e6c9','#FDD2D2','#EAB2E1']    \n",
    "g = sns.FacetGrid(df, row=\"g\", hue=\"g\", aspect=15, height=1, palette=pal)\n",
    "\n",
    "# Draw the densities in a few steps\n",
    "g.map(sns.kdeplot, \"x\",\n",
    "      bw_adjust=.5, clip_on=False,\n",
    "      fill=True, alpha=1, linewidth=1)\n",
    "g.map(sns.kdeplot, \"x\", clip_on=False, color=\"w\", lw=2, bw_adjust=.5)\n",
    "g.map(plt.axhline, y=0, lw=2, clip_on=False)\n",
    "\n",
    "\n",
    "# Define and use a simple function to label the plot in axes coordinates\n",
    "def label(x, color, label):\n",
    "    ax = plt.gca()\n",
    "    ax.text(0, .2, label, fontweight=\"bold\", color=color,fontsize=20,\n",
    "            ha=\"left\", va=\"center\", transform=ax.transAxes)\n",
    "\n",
    "\n",
    "g.map(label, \"x\")\n",
    "\n",
    "# Set the subplots to overlap\n",
    "g.fig.subplots_adjust(hspace=-.01)\n",
    "\n",
    "# Remove axes details that don't play well with overlap\n",
    "g.set_titles(\"\")\n",
    "g.set(yticks=[])\n",
    "g.despine(bottom=True, left=True);\n",
    "plt.savefig(\"edadclientes.png\")"
   ]
  },
  {
   "cell_type": "code",
   "execution_count": 192,
   "id": "divided-fifth",
   "metadata": {
    "ExecuteTime": {
     "end_time": "2021-08-02T19:54:48.962719Z",
     "start_time": "2021-08-02T19:54:48.956718Z"
    }
   },
   "outputs": [],
   "source": [
    "woman = app_edad[app_edad['Sex']==0]\n",
    "man = app_edad[app_edad['Sex']==1]"
   ]
  },
  {
   "cell_type": "code",
   "execution_count": 193,
   "id": "expired-fifty",
   "metadata": {
    "ExecuteTime": {
     "end_time": "2021-08-02T19:54:49.879947Z",
     "start_time": "2021-08-02T19:54:49.874783Z"
    }
   },
   "outputs": [],
   "source": [
    "woman = woman.sort_values(by=['Status'])\n",
    "man = man.sort_values(by=['Status'])"
   ]
  },
  {
   "cell_type": "code",
   "execution_count": 194,
   "id": "endangered-hacker",
   "metadata": {
    "ExecuteTime": {
     "end_time": "2021-08-02T19:54:50.831532Z",
     "start_time": "2021-08-02T19:54:50.820146Z"
    }
   },
   "outputs": [],
   "source": [
    "status=app_edad['Status'].unique()"
   ]
  },
  {
   "cell_type": "code",
   "execution_count": 196,
   "id": "ignored-imperial",
   "metadata": {
    "ExecuteTime": {
     "end_time": "2021-08-02T19:55:05.082851Z",
     "start_time": "2021-08-02T19:55:03.199311Z"
    },
    "scrolled": true
   },
   "outputs": [
    {
     "name": "stderr",
     "output_type": "stream",
     "text": [
      "/Users/cmg/opt/anaconda3/lib/python3.8/site-packages/seaborn/distributions.py:306: UserWarning: Dataset has 0 variance; skipping density estimate.\n",
      "  warnings.warn(msg, UserWarning)\n",
      "/Users/cmg/opt/anaconda3/lib/python3.8/site-packages/seaborn/distributions.py:306: UserWarning: Dataset has 0 variance; skipping density estimate.\n",
      "  warnings.warn(msg, UserWarning)\n"
     ]
    },
    {
     "data": {
      "image/png": "[encoded data removed]",
      "text/plain": [
       "<Figure size 1080x288 with 4 Axes>"
      ]
     },
     "metadata": {},
     "output_type": "display_data"
    }
   ],
   "source": [
    "sns.set_theme(style=\"white\", rc={\"axes.facecolor\": (0, 0, 0, 0)})\n",
    "# Create the data\n",
    "x = woman['Edad']\n",
    "g = woman['Status']\n",
    "df = pd.DataFrame(dict(x=x, g=g))\n",
    "\n",
    "\n",
    "# Initialize the FacetGrid object\n",
    "\n",
    "pal =  ['#9CBEE4', '#c9e6c9','#FDD2D2','#EAB2E1']    \n",
    "g = sns.FacetGrid(df, row=\"g\", hue=\"g\", aspect=15, height=1, palette=pal)\n",
    "\n",
    "# Draw the densities in a few steps\n",
    "g.map(sns.kdeplot, \"x\",\n",
    "      bw_adjust=.5, clip_on=False,\n",
    "      fill=True, alpha=1, linewidth=1)\n",
    "g.map(sns.kdeplot, \"x\", clip_on=False, color=\"w\", lw=2, bw_adjust=.5)\n",
    "g.map(plt.axhline, y=0, lw=2, clip_on=False)\n",
    "\n",
    "\n",
    "# Define and use a simple function to label the plot in axes coordinates\n",
    "def label(x, color, label):\n",
    "    ax = plt.gca()\n",
    "    ax.text(0, .2, label, fontweight=\"bold\", color=color,fontsize=20,\n",
    "            ha=\"left\", va=\"center\", transform=ax.transAxes)\n",
    "\n",
    "\n",
    "g.map(label, \"x\")\n",
    "\n",
    "# Set the subplots to overlap\n",
    "g.fig.subplots_adjust(hspace=-.01)\n",
    "\n",
    "# Remove axes details that don't play well with overlap\n",
    "g.set_titles(\"\")\n",
    "g.set(yticks=[])\n",
    "g.despine(bottom=True, left=True);\n",
    "plt.savefig(\"edadwoman.png\")"
   ]
  },
  {
   "cell_type": "code",
   "execution_count": 197,
   "id": "regular-means",
   "metadata": {
    "ExecuteTime": {
     "end_time": "2021-08-02T19:55:27.523194Z",
     "start_time": "2021-08-02T19:55:25.760152Z"
    },
    "scrolled": true
   },
   "outputs": [
    {
     "data": {
      "image/png": "[encoded data removed]",
      "text/plain": [
       "<Figure size 1080x288 with 4 Axes>"
      ]
     },
     "metadata": {},
     "output_type": "display_data"
    }
   ],
   "source": [
    "sns.set_theme(style=\"white\", rc={\"axes.facecolor\": (0, 0, 0, 0)})\n",
    "# Create the data\n",
    "x = man['Edad']\n",
    "g = man['Status']\n",
    "df = pd.DataFrame(dict(x=x, g=g))\n",
    "\n",
    "\n",
    "# Initialize the FacetGrid object\n",
    "\n",
    "pal =  ['#9CBEE4', '#c9e6c9','#FDD2D2','#EAB2E1']    \n",
    "g = sns.FacetGrid(df, row=\"g\", hue=\"g\", aspect=15, height=1, palette=pal)\n",
    "\n",
    "# Draw the densities in a few steps\n",
    "g.map(sns.kdeplot, \"x\",\n",
    "      bw_adjust=.5, clip_on=False,\n",
    "      fill=True, alpha=1, linewidth=1)\n",
    "g.map(sns.kdeplot, \"x\", clip_on=False, color=\"w\", lw=2, bw_adjust=.5)\n",
    "g.map(plt.axhline, y=0, lw=2, clip_on=False)\n",
    "\n",
    "\n",
    "# Define and use a simple function to label the plot in axes coordinates\n",
    "def label(x, color, label):\n",
    "    ax = plt.gca()\n",
    "    ax.text(0, .2, label, fontweight=\"bold\", color=color,fontsize=20,\n",
    "            ha=\"left\", va=\"center\", transform=ax.transAxes)\n",
    "\n",
    "\n",
    "g.map(label, \"x\")\n",
    "\n",
    "# Set the subplots to overlap\n",
    "g.fig.subplots_adjust(hspace=-.01)\n",
    "# Remove axes details that don't play well with overlap\n",
    "g.set_titles(\"\")\n",
    "g.set(yticks=[])\n",
    "g.despine(bottom=True, left=True);\n",
    "plt.savefig(\"edadman.png\")"
   ]
  },
  {
   "cell_type": "code",
   "execution_count": 201,
   "id": "expired-participation",
   "metadata": {
    "ExecuteTime": {
     "end_time": "2021-08-02T19:58:10.614942Z",
     "start_time": "2021-08-02T19:58:10.607043Z"
    }
   },
   "outputs": [],
   "source": [
    "df_clientes_edad= df_clientes[['Objetivo','Edad','Sex']]"
   ]
  },
  {
   "cell_type": "code",
   "execution_count": 202,
   "id": "compliant-aggregate",
   "metadata": {
    "ExecuteTime": {
     "end_time": "2021-08-02T19:58:10.963944Z",
     "start_time": "2021-08-02T19:58:10.949770Z"
    }
   },
   "outputs": [
    {
     "name": "stderr",
     "output_type": "stream",
     "text": [
      "<ipython-input-202-9397164764c2>:1: SettingWithCopyWarning: \n",
      "A value is trying to be set on a copy of a slice from a DataFrame\n",
      "\n",
      "See the caveats in the documentation: https://pandas.pydata.org/pandas-docs/stable/user_guide/indexing.html#returning-a-view-versus-a-copy\n",
      "  df_clientes_edad.dropna(inplace= True)\n"
     ]
    }
   ],
   "source": [
    "df_clientes_edad.dropna(inplace= True)"
   ]
  },
  {
   "cell_type": "code",
   "execution_count": 203,
   "id": "comfortable-imaging",
   "metadata": {
    "ExecuteTime": {
     "end_time": "2021-08-02T19:58:11.723963Z",
     "start_time": "2021-08-02T19:58:11.714350Z"
    }
   },
   "outputs": [
    {
     "name": "stderr",
     "output_type": "stream",
     "text": [
      "<ipython-input-203-4ee13775bb3e>:1: SettingWithCopyWarning: \n",
      "A value is trying to be set on a copy of a slice from a DataFrame.\n",
      "Try using .loc[row_indexer,col_indexer] = value instead\n",
      "\n",
      "See the caveats in the documentation: https://pandas.pydata.org/pandas-docs/stable/user_guide/indexing.html#returning-a-view-versus-a-copy\n",
      "  df_clientes_edad['Edad'] = df_clientes_edad['Edad'].astype('int32')\n"
     ]
    }
   ],
   "source": [
    "df_clientes_edad['Edad'] = df_clientes_edad['Edad'].astype('int32')"
   ]
  },
  {
   "cell_type": "code",
   "execution_count": 232,
   "id": "alpine-national",
   "metadata": {
    "ExecuteTime": {
     "end_time": "2021-08-02T20:16:14.798587Z",
     "start_time": "2021-08-02T20:16:14.029118Z"
    }
   },
   "outputs": [
    {
     "data": {
      "image/png": "[encoded data removed]",
      "text/plain": [
       "<Figure size 1064.35x720 with 1 Axes>"
      ]
     },
     "metadata": {},
     "output_type": "display_data"
    }
   ],
   "source": [
    "# Plot our violins.\n",
    "\n",
    "sns.catplot(x=\"Objetivo\",\n",
    "            y=\"Edad\",\n",
    "            data=df_clientes_edad,\n",
    "            kind=\"violin\",\n",
    "            hue=\"Sex\",\n",
    "            palette=sns.color_palette(['#F7C5E1','#A7D1E8']),\n",
    "            split=True,\n",
    "            height=10,\n",
    "            aspect=11.7 / 8.27,\n",
    "           cut=0)\n",
    "\n",
    "# Rotate the x-axis labels and remove the plot border on the left.\n",
    "plt.xticks(rotation=45, ha='right')\n",
    "sns.despine(left=False)\n",
    "plt.savefig(\"edadgenerogoals.png\")"
   ]
  },
  {
   "cell_type": "markdown",
   "id": "organic-throw",
   "metadata": {},
   "source": [
    "# ENTRENADORES"
   ]
  },
  {
   "cell_type": "code",
   "execution_count": 234,
   "id": "adopted-alberta",
   "metadata": {
    "ExecuteTime": {
     "end_time": "2021-08-02T20:17:40.766068Z",
     "start_time": "2021-08-02T20:17:40.762130Z"
    }
   },
   "outputs": [],
   "source": [
    "entrenadores = ['Javier','Laura','Miriam','Oscar']"
   ]
  },
  {
   "cell_type": "code",
   "execution_count": 235,
   "id": "dried-london",
   "metadata": {
    "ExecuteTime": {
     "end_time": "2021-08-02T20:17:41.098334Z",
     "start_time": "2021-08-02T20:17:41.083913Z"
    }
   },
   "outputs": [
    {
     "name": "stderr",
     "output_type": "stream",
     "text": [
      "<ipython-input-235-a229bcb80d7f>:2: SettingWithCopyWarning: \n",
      "A value is trying to be set on a copy of a slice from a DataFrame\n",
      "\n",
      "See the caveats in the documentation: https://pandas.pydata.org/pandas-docs/stable/user_guide/indexing.html#returning-a-view-versus-a-copy\n",
      "  df_clientes_entrendadores.dropna(inplace = True)\n"
     ]
    }
   ],
   "source": [
    "df_clientes_entrendadores= df_clientes[['Sex','Entrenadores','Status']]\n",
    "df_clientes_entrendadores.dropna(inplace = True)"
   ]
  },
  {
   "cell_type": "code",
   "execution_count": 236,
   "id": "collect-valentine",
   "metadata": {
    "ExecuteTime": {
     "end_time": "2021-08-02T20:17:41.427847Z",
     "start_time": "2021-08-02T20:17:41.421547Z"
    }
   },
   "outputs": [],
   "source": [
    "w = df_clientes_entrendadores['Sex']==0\n",
    "m = df_clientes_entrendadores['Sex']==1\n",
    "c = df_clientes_entrendadores['Status']=='Churned'\n",
    "o = df_clientes_entrendadores['Status']=='Out'\n",
    "u = df_clientes_entrendadores['Status']=='Usuario'"
   ]
  },
  {
   "cell_type": "code",
   "execution_count": 237,
   "id": "religious-reverse",
   "metadata": {
    "ExecuteTime": {
     "end_time": "2021-08-02T20:17:41.758595Z",
     "start_time": "2021-08-02T20:17:41.746034Z"
    }
   },
   "outputs": [],
   "source": [
    "w_c = df_clientes_entrendadores[c&w].sort_values(by=['Entrenadores'])\n",
    "w_o = df_clientes_entrendadores[o&w].sort_values(by=['Entrenadores'])\n",
    "w_u = df_clientes_entrendadores[u&w].sort_values(by=['Entrenadores'])"
   ]
  },
  {
   "cell_type": "code",
   "execution_count": 238,
   "id": "animated-hawaii",
   "metadata": {
    "ExecuteTime": {
     "end_time": "2021-08-02T20:17:42.135358Z",
     "start_time": "2021-08-02T20:17:42.115526Z"
    }
   },
   "outputs": [],
   "source": [
    "m_c = df_clientes_entrendadores[c&m].sort_values(by=['Entrenadores'])\n",
    "m_o = df_clientes_entrendadores[o&m].sort_values(by=['Entrenadores'])\n",
    "m_u = df_clientes_entrendadores[u&m].sort_values(by=['Entrenadores'])"
   ]
  },
  {
   "cell_type": "code",
   "execution_count": 239,
   "id": "outstanding-portrait",
   "metadata": {
    "ExecuteTime": {
     "end_time": "2021-08-02T20:17:42.642470Z",
     "start_time": "2021-08-02T20:17:42.637506Z"
    }
   },
   "outputs": [],
   "source": [
    "def analisis_entrenadores(df):\n",
    "    lista = []\n",
    "    for i in entrenadores:\n",
    "        df_s = df[df['Entrenadores']== i]\n",
    "        num =df_s['Status'].count()\n",
    "        lista.append(num)\n",
    "    return lista"
   ]
  },
  {
   "cell_type": "code",
   "execution_count": 240,
   "id": "vital-accountability",
   "metadata": {
    "ExecuteTime": {
     "end_time": "2021-08-02T20:17:43.157186Z",
     "start_time": "2021-08-02T20:17:43.124792Z"
    }
   },
   "outputs": [],
   "source": [
    "mc = analisis_entrenadores(m_c)\n",
    "mo = analisis_entrenadores(m_o)\n",
    "mu = analisis_entrenadores(m_u)\n",
    "\n",
    "wc = analisis_entrenadores(w_c)\n",
    "wo = analisis_entrenadores(w_o)\n",
    "wu = analisis_entrenadores(w_u)\n"
   ]
  },
  {
   "cell_type": "code",
   "execution_count": 319,
   "id": "liquid-loading",
   "metadata": {
    "ExecuteTime": {
     "end_time": "2021-08-02T20:48:42.246909Z",
     "start_time": "2021-08-02T20:48:41.822563Z"
    }
   },
   "outputs": [
    {
     "data": {
      "image/png": "[encoded data removed]",
      "text/plain": [
       "<Figure size 432x288 with 1 Axes>"
      ]
     },
     "metadata": {},
     "output_type": "display_data"
    }
   ],
   "source": [
    "pos_mut_pcts = np.array(wc)\n",
    "pos_cna_pcts = np.array(wo)\n",
    "pos_both_pcts = np.array(wu)\n",
    "\n",
    "neg_mut_pcts = np.array(mc)\n",
    "neg_cna_pcts = np.array(mo)\n",
    "neg_both_pcts = np.array(mu)\n",
    "genes = entrenadores\n",
    "\n",
    "with sns.axes_style(\"white\"):\n",
    "    sns.set_style(\"ticks\")\n",
    "    sns.set_context(\"talk\")\n",
    "    \n",
    "    # plot details \n",
    "    bar_width = 0.35\n",
    "    epsilon = .015\n",
    "    line_width = 2\n",
    "    opacity = 0.7\n",
    "    pos_bar_positions = np.arange(len(pos_mut_pcts))\n",
    "    neg_bar_positions = pos_bar_positions + bar_width\n",
    "\n",
    "    # make bar plots\n",
    "    hpv_pos_mut_bar = plt.bar(pos_bar_positions, pos_mut_pcts, bar_width,\n",
    "                              color='#9CBEE4',\n",
    "                              edgecolor='#E43698',\n",
    "                              #hatch='//',\n",
    "                              linewidth=line_width,\n",
    "                              label='Churned Woman')\n",
    "    hpv_pos_cna_bar = plt.bar(pos_bar_positions, pos_cna_pcts, bar_width-epsilon,\n",
    "                              bottom=pos_mut_pcts,\n",
    "                              alpha=opacity,\n",
    "                              color='#EAB2E1',\n",
    "                              edgecolor='#E43698',\n",
    "                              #hatch='//',\n",
    "                              linewidth=line_width,\n",
    "                              label='Out Woman')\n",
    "    hpv_pos_both_bar = plt.bar(pos_bar_positions, pos_both_pcts, bar_width-epsilon,\n",
    "                               bottom=pos_cna_pcts+pos_mut_pcts,\n",
    "                               alpha=opacity,\n",
    "                              color='#c9e6c9',\n",
    "                               edgecolor='#E43698',\n",
    "                              #hatch='//',\n",
    "                              linewidth=line_width,\n",
    "                               label='Usuario Woman')\n",
    "    hpv_neg_mut_bar = plt.bar(neg_bar_positions, neg_mut_pcts, bar_width,\n",
    "                             color='#9CBEE4',\n",
    "                              \n",
    "                              edgecolor='blue',\n",
    "                              \n",
    "                              label='Churned Man')\n",
    "    hpv_neg_cna_bar = plt.bar(neg_bar_positions, neg_cna_pcts, bar_width-epsilon,\n",
    "                              bottom=neg_mut_pcts,\n",
    "                              color='#EAB2E1',\n",
    "                              edgecolor='blue',\n",
    "                              linewidth=line_width,\n",
    "                              label='Out Man')\n",
    "    hpv_neg_both_bar = plt.bar(neg_bar_positions, neg_both_pcts, bar_width-epsilon,\n",
    "                               bottom=neg_cna_pcts+neg_mut_pcts,\n",
    "                               color='#c9e6c9',\n",
    "                               edgecolor='blue',\n",
    "                               linewidth=line_width,\n",
    "                               label='Usuario Man')\n",
    "    plt.xticks(neg_bar_positions, entrenadores , rotation=45)\n",
    "    legend = plt.legend(bbox_to_anchor=(1.1, 1.05))  \n",
    "    legend.get_frame().set_facecolor('white')\n",
    "    sns.despine() \n",
    "    plt.savefig(\"coachstatus.png\")\n",
    "    plt.show() \n",
    "   "
   ]
  },
  {
   "cell_type": "markdown",
   "id": "collective-sucking",
   "metadata": {},
   "source": [
    "# WORKOUTS CSV"
   ]
  },
  {
   "cell_type": "code",
   "execution_count": 276,
   "id": "threaded-resource",
   "metadata": {
    "ExecuteTime": {
     "end_time": "2021-08-02T20:40:42.251546Z",
     "start_time": "2021-08-02T20:40:42.174116Z"
    }
   },
   "outputs": [],
   "source": [
    "df_workouts = pd.read_csv('workouts.csv')\n",
    "df_workouts = pd.DataFrame(df_workouts)"
   ]
  },
  {
   "cell_type": "code",
   "execution_count": 277,
   "id": "noted-schema",
   "metadata": {
    "ExecuteTime": {
     "end_time": "2021-08-02T20:40:43.046539Z",
     "start_time": "2021-08-02T20:40:43.028858Z"
    }
   },
   "outputs": [
    {
     "data": {
      "text/html": [
       "<div>\n",
       "<style scoped>\n",
       "    .dataframe tbody tr th:only-of-type {\n",
       "        vertical-align: middle;\n",
       "    }\n",
       "\n",
       "    .dataframe tbody tr th {\n",
       "        vertical-align: top;\n",
       "    }\n",
       "\n",
       "    .dataframe thead th {\n",
       "        text-align: right;\n",
       "    }\n",
       "</style>\n",
       "<table border=\"1\" class=\"dataframe\">\n",
       "  <thead>\n",
       "    <tr style=\"text-align: right;\">\n",
       "      <th></th>\n",
       "      <th>workoutId</th>\n",
       "      <th>name</th>\n",
       "      <th>coach</th>\n",
       "      <th>type</th>\n",
       "      <th>zonas</th>\n",
       "      <th>duration</th>\n",
       "      <th>date</th>\n",
       "      <th>Sync</th>\n",
       "      <th>Feedback</th>\n",
       "      <th>completed</th>\n",
       "    </tr>\n",
       "  </thead>\n",
       "  <tbody>\n",
       "    <tr>\n",
       "      <th>0</th>\n",
       "      <td>Macarena22</td>\n",
       "      <td>FitCircuit</td>\n",
       "      <td>Miriam</td>\n",
       "      <td>Circuit Training</td>\n",
       "      <td>Full Body</td>\n",
       "      <td>60.0</td>\n",
       "      <td>12/11/2019</td>\n",
       "      <td>https://airtable.com/tblnhWsiv31HIswwM/recIn69...</td>\n",
       "      <td>NaN</td>\n",
       "      <td>NaN</td>\n",
       "    </tr>\n",
       "    <tr>\n",
       "      <th>1</th>\n",
       "      <td>Angel11</td>\n",
       "      <td>Fuerza Bienvenida</td>\n",
       "      <td>Oscar</td>\n",
       "      <td>Fuerza</td>\n",
       "      <td>Full Body</td>\n",
       "      <td>75.0</td>\n",
       "      <td>9/28/2020</td>\n",
       "      <td>https://airtable.com/tblnhWsiv31HIswwM/recJqqs...</td>\n",
       "      <td>8.0</td>\n",
       "      <td>checked</td>\n",
       "    </tr>\n",
       "    <tr>\n",
       "      <th>2</th>\n",
       "      <td>Angel12</td>\n",
       "      <td>Fuerza Calentamiento</td>\n",
       "      <td>Oscar</td>\n",
       "      <td>Fuerza</td>\n",
       "      <td>NaN</td>\n",
       "      <td>75.0</td>\n",
       "      <td>9/29/2020</td>\n",
       "      <td>https://airtable.com/tblnhWsiv31HIswwM/recbLRJ...</td>\n",
       "      <td>NaN</td>\n",
       "      <td>checked</td>\n",
       "    </tr>\n",
       "  </tbody>\n",
       "</table>\n",
       "</div>"
      ],
      "text/plain": [
       "    workoutId                  name   coach              type      zonas  \\\n",
       "0  Macarena22            FitCircuit  Miriam  Circuit Training  Full Body   \n",
       "1     Angel11     Fuerza Bienvenida   Oscar            Fuerza  Full Body   \n",
       "2     Angel12  Fuerza Calentamiento   Oscar            Fuerza        NaN   \n",
       "\n",
       "   duration        date                                               Sync  \\\n",
       "0      60.0  12/11/2019  https://airtable.com/tblnhWsiv31HIswwM/recIn69...   \n",
       "1      75.0   9/28/2020  https://airtable.com/tblnhWsiv31HIswwM/recJqqs...   \n",
       "2      75.0   9/29/2020  https://airtable.com/tblnhWsiv31HIswwM/recbLRJ...   \n",
       "\n",
       "   Feedback completed  \n",
       "0       NaN       NaN  \n",
       "1       8.0   checked  \n",
       "2       NaN   checked  "
      ]
     },
     "execution_count": 277,
     "metadata": {},
     "output_type": "execute_result"
    }
   ],
   "source": [
    "df_workouts.head(3)"
   ]
  },
  {
   "cell_type": "code",
   "execution_count": 278,
   "id": "superior-hormone",
   "metadata": {
    "ExecuteTime": {
     "end_time": "2021-08-02T20:40:43.569461Z",
     "start_time": "2021-08-02T20:40:43.538486Z"
    }
   },
   "outputs": [],
   "source": [
    "def floatnum(x):\n",
    "    if type(x) == float:\n",
    "        x = True\n",
    "    else:\n",
    "        x = False\n",
    "    return x\n",
    "\n",
    "\n",
    "def delete_num(x):\n",
    "    for number in range(10):\n",
    "        number = str(number)\n",
    "        x = x.replace(number, '')\n",
    "    return x\n",
    "\n",
    "\n",
    "df_workouts['user'] = df_workouts['workoutId'].apply(floatnum)\n",
    "df_workouts = df_workouts[df_workouts['user'] == False]\n",
    "df_workouts['user'] = df_workouts['workoutId'].apply(delete_num)"
   ]
  },
  {
   "cell_type": "code",
   "execution_count": 279,
   "id": "interim-restaurant",
   "metadata": {
    "ExecuteTime": {
     "end_time": "2021-08-02T20:40:43.616184Z",
     "start_time": "2021-08-02T20:40:43.581125Z"
    }
   },
   "outputs": [
    {
     "data": {
      "text/html": [
       "<div>\n",
       "<style scoped>\n",
       "    .dataframe tbody tr th:only-of-type {\n",
       "        vertical-align: middle;\n",
       "    }\n",
       "\n",
       "    .dataframe tbody tr th {\n",
       "        vertical-align: top;\n",
       "    }\n",
       "\n",
       "    .dataframe thead th {\n",
       "        text-align: right;\n",
       "    }\n",
       "</style>\n",
       "<table border=\"1\" class=\"dataframe\">\n",
       "  <thead>\n",
       "    <tr style=\"text-align: right;\">\n",
       "      <th></th>\n",
       "      <th>workoutId</th>\n",
       "      <th>name</th>\n",
       "      <th>coach</th>\n",
       "      <th>type</th>\n",
       "      <th>zonas</th>\n",
       "      <th>duration</th>\n",
       "      <th>date</th>\n",
       "      <th>Sync</th>\n",
       "      <th>Feedback</th>\n",
       "      <th>completed</th>\n",
       "      <th>user</th>\n",
       "    </tr>\n",
       "  </thead>\n",
       "  <tbody>\n",
       "    <tr>\n",
       "      <th>0</th>\n",
       "      <td>Macarena22</td>\n",
       "      <td>FitCircuit</td>\n",
       "      <td>Miriam</td>\n",
       "      <td>Circuit Training</td>\n",
       "      <td>Full Body</td>\n",
       "      <td>60.0</td>\n",
       "      <td>12/11/2019</td>\n",
       "      <td>https://airtable.com/tblnhWsiv31HIswwM/recIn69...</td>\n",
       "      <td>NaN</td>\n",
       "      <td>NaN</td>\n",
       "      <td>Macarena</td>\n",
       "    </tr>\n",
       "    <tr>\n",
       "      <th>1</th>\n",
       "      <td>Angel11</td>\n",
       "      <td>Fuerza Bienvenida</td>\n",
       "      <td>Oscar</td>\n",
       "      <td>Fuerza</td>\n",
       "      <td>Full Body</td>\n",
       "      <td>75.0</td>\n",
       "      <td>9/28/2020</td>\n",
       "      <td>https://airtable.com/tblnhWsiv31HIswwM/recJqqs...</td>\n",
       "      <td>8.0</td>\n",
       "      <td>checked</td>\n",
       "      <td>Angel</td>\n",
       "    </tr>\n",
       "    <tr>\n",
       "      <th>2</th>\n",
       "      <td>Angel12</td>\n",
       "      <td>Fuerza Calentamiento</td>\n",
       "      <td>Oscar</td>\n",
       "      <td>Fuerza</td>\n",
       "      <td>NaN</td>\n",
       "      <td>75.0</td>\n",
       "      <td>9/29/2020</td>\n",
       "      <td>https://airtable.com/tblnhWsiv31HIswwM/recbLRJ...</td>\n",
       "      <td>NaN</td>\n",
       "      <td>checked</td>\n",
       "      <td>Angel</td>\n",
       "    </tr>\n",
       "    <tr>\n",
       "      <th>3</th>\n",
       "      <td>Angel13</td>\n",
       "      <td>Fuerza Calentamiento 2</td>\n",
       "      <td>Oscar</td>\n",
       "      <td>Fuerza</td>\n",
       "      <td>NaN</td>\n",
       "      <td>75.0</td>\n",
       "      <td>9/30/2020</td>\n",
       "      <td>https://airtable.com/tblnhWsiv31HIswwM/rec2b8W...</td>\n",
       "      <td>NaN</td>\n",
       "      <td>checked</td>\n",
       "      <td>Angel</td>\n",
       "    </tr>\n",
       "    <tr>\n",
       "      <th>4</th>\n",
       "      <td>Borja11</td>\n",
       "      <td>Primera Carrera</td>\n",
       "      <td>Oscar</td>\n",
       "      <td>Running</td>\n",
       "      <td>Piernas,Core</td>\n",
       "      <td>60.0</td>\n",
       "      <td>10/1/2020</td>\n",
       "      <td>https://airtable.com/tblnhWsiv31HIswwM/recm6Jm...</td>\n",
       "      <td>NaN</td>\n",
       "      <td>checked</td>\n",
       "      <td>Borja</td>\n",
       "    </tr>\n",
       "    <tr>\n",
       "      <th>...</th>\n",
       "      <td>...</td>\n",
       "      <td>...</td>\n",
       "      <td>...</td>\n",
       "      <td>...</td>\n",
       "      <td>...</td>\n",
       "      <td>...</td>\n",
       "      <td>...</td>\n",
       "      <td>...</td>\n",
       "      <td>...</td>\n",
       "      <td>...</td>\n",
       "      <td>...</td>\n",
       "    </tr>\n",
       "    <tr>\n",
       "      <th>1774</th>\n",
       "      <td>JuanC52</td>\n",
       "      <td>GAP!</td>\n",
       "      <td>Laura</td>\n",
       "      <td>Circuit Training</td>\n",
       "      <td>Full Body</td>\n",
       "      <td>45.0</td>\n",
       "      <td>6/2/2021</td>\n",
       "      <td>https://airtable.com/tblnhWsiv31HIswwM/recwwP0...</td>\n",
       "      <td>NaN</td>\n",
       "      <td>NaN</td>\n",
       "      <td>JuanC</td>\n",
       "    </tr>\n",
       "    <tr>\n",
       "      <th>1775</th>\n",
       "      <td>JuanC53</td>\n",
       "      <td>Quemador!</td>\n",
       "      <td>Laura</td>\n",
       "      <td>Circuit Training</td>\n",
       "      <td>Full Body</td>\n",
       "      <td>45.0</td>\n",
       "      <td>6/4/2021</td>\n",
       "      <td>https://airtable.com/tblnhWsiv31HIswwM/recr6Hv...</td>\n",
       "      <td>NaN</td>\n",
       "      <td>NaN</td>\n",
       "      <td>JuanC</td>\n",
       "    </tr>\n",
       "    <tr>\n",
       "      <th>1776</th>\n",
       "      <td>Elena101</td>\n",
       "      <td>Full body!</td>\n",
       "      <td>Laura</td>\n",
       "      <td>Circuit Training</td>\n",
       "      <td>Full Body</td>\n",
       "      <td>30.0</td>\n",
       "      <td>5/31/2021</td>\n",
       "      <td>https://airtable.com/tblnhWsiv31HIswwM/recylHu...</td>\n",
       "      <td>NaN</td>\n",
       "      <td>NaN</td>\n",
       "      <td>Elena</td>\n",
       "    </tr>\n",
       "    <tr>\n",
       "      <th>1777</th>\n",
       "      <td>Elena102</td>\n",
       "      <td>GAP!</td>\n",
       "      <td>Laura</td>\n",
       "      <td>Circuit Training</td>\n",
       "      <td>Full Body</td>\n",
       "      <td>30.0</td>\n",
       "      <td>6/2/2021</td>\n",
       "      <td>https://airtable.com/tblnhWsiv31HIswwM/recWV6b...</td>\n",
       "      <td>NaN</td>\n",
       "      <td>NaN</td>\n",
       "      <td>Elena</td>\n",
       "    </tr>\n",
       "    <tr>\n",
       "      <th>1778</th>\n",
       "      <td>Elena103</td>\n",
       "      <td>Quemador!</td>\n",
       "      <td>Laura</td>\n",
       "      <td>Circuit Training</td>\n",
       "      <td>Full Body</td>\n",
       "      <td>30.0</td>\n",
       "      <td>6/4/2021</td>\n",
       "      <td>https://airtable.com/tblnhWsiv31HIswwM/recm8Xa...</td>\n",
       "      <td>NaN</td>\n",
       "      <td>NaN</td>\n",
       "      <td>Elena</td>\n",
       "    </tr>\n",
       "  </tbody>\n",
       "</table>\n",
       "<p>1761 rows × 11 columns</p>\n",
       "</div>"
      ],
      "text/plain": [
       "       workoutId                    name   coach              type  \\\n",
       "0     Macarena22              FitCircuit  Miriam  Circuit Training   \n",
       "1        Angel11       Fuerza Bienvenida   Oscar            Fuerza   \n",
       "2        Angel12    Fuerza Calentamiento   Oscar            Fuerza   \n",
       "3        Angel13  Fuerza Calentamiento 2   Oscar            Fuerza   \n",
       "4        Borja11         Primera Carrera   Oscar           Running   \n",
       "...          ...                     ...     ...               ...   \n",
       "1774     JuanC52                    GAP!   Laura  Circuit Training   \n",
       "1775     JuanC53               Quemador!   Laura  Circuit Training   \n",
       "1776    Elena101              Full body!   Laura  Circuit Training   \n",
       "1777    Elena102                    GAP!   Laura  Circuit Training   \n",
       "1778    Elena103               Quemador!   Laura  Circuit Training   \n",
       "\n",
       "             zonas  duration        date  \\\n",
       "0        Full Body      60.0  12/11/2019   \n",
       "1        Full Body      75.0   9/28/2020   \n",
       "2              NaN      75.0   9/29/2020   \n",
       "3              NaN      75.0   9/30/2020   \n",
       "4     Piernas,Core      60.0   10/1/2020   \n",
       "...            ...       ...         ...   \n",
       "1774     Full Body      45.0    6/2/2021   \n",
       "1775     Full Body      45.0    6/4/2021   \n",
       "1776     Full Body      30.0   5/31/2021   \n",
       "1777     Full Body      30.0    6/2/2021   \n",
       "1778     Full Body      30.0    6/4/2021   \n",
       "\n",
       "                                                   Sync  Feedback completed  \\\n",
       "0     https://airtable.com/tblnhWsiv31HIswwM/recIn69...       NaN       NaN   \n",
       "1     https://airtable.com/tblnhWsiv31HIswwM/recJqqs...       8.0   checked   \n",
       "2     https://airtable.com/tblnhWsiv31HIswwM/recbLRJ...       NaN   checked   \n",
       "3     https://airtable.com/tblnhWsiv31HIswwM/rec2b8W...       NaN   checked   \n",
       "4     https://airtable.com/tblnhWsiv31HIswwM/recm6Jm...       NaN   checked   \n",
       "...                                                 ...       ...       ...   \n",
       "1774  https://airtable.com/tblnhWsiv31HIswwM/recwwP0...       NaN       NaN   \n",
       "1775  https://airtable.com/tblnhWsiv31HIswwM/recr6Hv...       NaN       NaN   \n",
       "1776  https://airtable.com/tblnhWsiv31HIswwM/recylHu...       NaN       NaN   \n",
       "1777  https://airtable.com/tblnhWsiv31HIswwM/recWV6b...       NaN       NaN   \n",
       "1778  https://airtable.com/tblnhWsiv31HIswwM/recm8Xa...       NaN       NaN   \n",
       "\n",
       "          user  \n",
       "0     Macarena  \n",
       "1        Angel  \n",
       "2        Angel  \n",
       "3        Angel  \n",
       "4        Borja  \n",
       "...        ...  \n",
       "1774     JuanC  \n",
       "1775     JuanC  \n",
       "1776     Elena  \n",
       "1777     Elena  \n",
       "1778     Elena  \n",
       "\n",
       "[1761 rows x 11 columns]"
      ]
     },
     "execution_count": 279,
     "metadata": {},
     "output_type": "execute_result"
    }
   ],
   "source": [
    "df_workouts"
   ]
  },
  {
   "cell_type": "code",
   "execution_count": 280,
   "id": "settled-things",
   "metadata": {
    "ExecuteTime": {
     "end_time": "2021-08-02T20:40:44.358153Z",
     "start_time": "2021-08-02T20:40:44.349741Z"
    }
   },
   "outputs": [],
   "source": [
    "#remove unnecesary colummns \n",
    "df_workouts = df_workouts.drop(columns =['Sync','workoutId'])"
   ]
  },
  {
   "cell_type": "code",
   "execution_count": 281,
   "id": "instrumental-prototype",
   "metadata": {
    "ExecuteTime": {
     "end_time": "2021-08-02T20:40:44.707919Z",
     "start_time": "2021-08-02T20:40:44.699823Z"
    }
   },
   "outputs": [],
   "source": [
    "test = df_clientes[(df_clientes['Status']!='test')&(df_clientes['Status']!='Trial')&(df_clientes['Status']!='Formulario')]\n",
    "test_lista = list(test['Name'])"
   ]
  },
  {
   "cell_type": "code",
   "execution_count": 282,
   "id": "solid-sector",
   "metadata": {
    "ExecuteTime": {
     "end_time": "2021-08-02T20:40:45.155343Z",
     "start_time": "2021-08-02T20:40:45.147415Z"
    }
   },
   "outputs": [
    {
     "data": {
      "text/plain": [
       "['Ana',\n",
       " 'Borja',\n",
       " 'Angel',\n",
       " 'Jose',\n",
       " 'Yago',\n",
       " 'Clara',\n",
       " 'Ignacio',\n",
       " 'Nona',\n",
       " 'Macarena',\n",
       " 'Magdalena',\n",
       " 'Elena',\n",
       " 'Maru',\n",
       " 'Santiago',\n",
       " 'Juan',\n",
       " 'Paulina',\n",
       " 'Carmen',\n",
       " 'Claudia',\n",
       " 'Itziar',\n",
       " 'Gui',\n",
       " 'Lola',\n",
       " 'Jacobo',\n",
       " 'Erik',\n",
       " 'JuanLuis',\n",
       " 'Laura',\n",
       " 'Sonia',\n",
       " 'Carla',\n",
       " 'Alberto',\n",
       " 'Benxa',\n",
       " 'Isi',\n",
       " 'Gaby',\n",
       " 'Maribel',\n",
       " 'Estefania',\n",
       " 'Bilal',\n",
       " 'Maria',\n",
       " 'Victor',\n",
       " 'Carolina',\n",
       " 'ElenaM',\n",
       " 'Pilar',\n",
       " 'MiriamG',\n",
       " 'Leticia Salmeron',\n",
       " 'fati',\n",
       " 'Maria dolores Martinez neria',\n",
       " 'Layla',\n",
       " 'Toñi Avila',\n",
       " 'AlfonsoP',\n",
       " 'PaulaG',\n",
       " 'Cristian',\n",
       " 'JaimeG',\n",
       " 'Jeremmy',\n",
       " 'JoseLuis ',\n",
       " 'Alba',\n",
       " 'Natalia ',\n",
       " 'Leidy',\n",
       " 'Ian Bermejo ',\n",
       " 'JuanC',\n",
       " 'Esther',\n",
       " 'Oskar',\n",
       " 'Matilde',\n",
       " 'JoseM']"
      ]
     },
     "execution_count": 282,
     "metadata": {},
     "output_type": "execute_result"
    }
   ],
   "source": [
    "test_lista"
   ]
  },
  {
   "cell_type": "code",
   "execution_count": 283,
   "id": "golden-generation",
   "metadata": {
    "ExecuteTime": {
     "end_time": "2021-08-02T20:40:45.648372Z",
     "start_time": "2021-08-02T20:40:45.642170Z"
    }
   },
   "outputs": [],
   "source": [
    "def remove_test(x):\n",
    "    if not x in test_lista:\n",
    "        x = np.NaN\n",
    "    return x"
   ]
  },
  {
   "cell_type": "code",
   "execution_count": 284,
   "id": "liquid-sucking",
   "metadata": {
    "ExecuteTime": {
     "end_time": "2021-08-02T20:40:46.129637Z",
     "start_time": "2021-08-02T20:40:46.119279Z"
    }
   },
   "outputs": [],
   "source": [
    "df_workouts['user'] = df_workouts['user'].apply(remove_test)\n",
    "df_workouts= df_workouts[df_workouts['user'].notna()]"
   ]
  },
  {
   "cell_type": "code",
   "execution_count": 285,
   "id": "powered-offset",
   "metadata": {
    "ExecuteTime": {
     "end_time": "2021-08-02T20:40:46.609986Z",
     "start_time": "2021-08-02T20:40:46.601112Z"
    }
   },
   "outputs": [
    {
     "data": {
      "text/plain": [
       "array(['Macarena', 'Angel', 'Borja', 'Jose', 'Yago', 'Magdalena', 'Nona',\n",
       "       'Ignacio', 'Elena', 'Maru', 'Santiago', 'Juan', 'Paulina',\n",
       "       'Carmen', 'Claudia', 'Itziar', 'Jacobo', 'Lola', 'JuanLuis', 'Gui',\n",
       "       'Erik', 'Laura', 'Sonia', 'Alberto', 'AlfonsoP', 'JoseLuis ',\n",
       "       'Gaby', 'Maria', 'Estefania', 'Maribel', 'Benxa', 'Isi', 'Victor',\n",
       "       'ElenaM', 'Carolina', 'Pilar', 'fati', 'PaulaG',\n",
       "       'Leticia Salmeron', 'Cristian', 'Layla', 'JaimeG', 'Jeremmy',\n",
       "       'Leidy', 'Oskar', 'JuanC', 'Alba'], dtype=object)"
      ]
     },
     "execution_count": 285,
     "metadata": {},
     "output_type": "execute_result"
    }
   ],
   "source": [
    "df_workouts['user'].unique()"
   ]
  },
  {
   "cell_type": "code",
   "execution_count": 286,
   "id": "sitting-declaration",
   "metadata": {
    "ExecuteTime": {
     "end_time": "2021-08-02T20:40:47.164512Z",
     "start_time": "2021-08-02T20:40:47.126015Z"
    },
    "scrolled": true
   },
   "outputs": [
    {
     "data": {
      "text/html": [
       "<div>\n",
       "<style scoped>\n",
       "    .dataframe tbody tr th:only-of-type {\n",
       "        vertical-align: middle;\n",
       "    }\n",
       "\n",
       "    .dataframe tbody tr th {\n",
       "        vertical-align: top;\n",
       "    }\n",
       "\n",
       "    .dataframe thead th {\n",
       "        text-align: right;\n",
       "    }\n",
       "</style>\n",
       "<table border=\"1\" class=\"dataframe\">\n",
       "  <thead>\n",
       "    <tr style=\"text-align: right;\">\n",
       "      <th></th>\n",
       "      <th>name</th>\n",
       "      <th>coach</th>\n",
       "      <th>type</th>\n",
       "      <th>zonas</th>\n",
       "      <th>duration</th>\n",
       "      <th>date</th>\n",
       "      <th>Feedback</th>\n",
       "      <th>completed</th>\n",
       "      <th>user</th>\n",
       "    </tr>\n",
       "  </thead>\n",
       "  <tbody>\n",
       "    <tr>\n",
       "      <th>0</th>\n",
       "      <td>FitCircuit</td>\n",
       "      <td>Miriam</td>\n",
       "      <td>Circuit Training</td>\n",
       "      <td>Full Body</td>\n",
       "      <td>60.0</td>\n",
       "      <td>12/11/2019</td>\n",
       "      <td>NaN</td>\n",
       "      <td>NaN</td>\n",
       "      <td>Macarena</td>\n",
       "    </tr>\n",
       "    <tr>\n",
       "      <th>1</th>\n",
       "      <td>Fuerza Bienvenida</td>\n",
       "      <td>Oscar</td>\n",
       "      <td>Fuerza</td>\n",
       "      <td>Full Body</td>\n",
       "      <td>75.0</td>\n",
       "      <td>9/28/2020</td>\n",
       "      <td>8.0</td>\n",
       "      <td>checked</td>\n",
       "      <td>Angel</td>\n",
       "    </tr>\n",
       "    <tr>\n",
       "      <th>2</th>\n",
       "      <td>Fuerza Calentamiento</td>\n",
       "      <td>Oscar</td>\n",
       "      <td>Fuerza</td>\n",
       "      <td>NaN</td>\n",
       "      <td>75.0</td>\n",
       "      <td>9/29/2020</td>\n",
       "      <td>NaN</td>\n",
       "      <td>checked</td>\n",
       "      <td>Angel</td>\n",
       "    </tr>\n",
       "    <tr>\n",
       "      <th>3</th>\n",
       "      <td>Fuerza Calentamiento 2</td>\n",
       "      <td>Oscar</td>\n",
       "      <td>Fuerza</td>\n",
       "      <td>NaN</td>\n",
       "      <td>75.0</td>\n",
       "      <td>9/30/2020</td>\n",
       "      <td>NaN</td>\n",
       "      <td>checked</td>\n",
       "      <td>Angel</td>\n",
       "    </tr>\n",
       "    <tr>\n",
       "      <th>4</th>\n",
       "      <td>Primera Carrera</td>\n",
       "      <td>Oscar</td>\n",
       "      <td>Running</td>\n",
       "      <td>Piernas,Core</td>\n",
       "      <td>60.0</td>\n",
       "      <td>10/1/2020</td>\n",
       "      <td>NaN</td>\n",
       "      <td>checked</td>\n",
       "      <td>Borja</td>\n",
       "    </tr>\n",
       "    <tr>\n",
       "      <th>...</th>\n",
       "      <td>...</td>\n",
       "      <td>...</td>\n",
       "      <td>...</td>\n",
       "      <td>...</td>\n",
       "      <td>...</td>\n",
       "      <td>...</td>\n",
       "      <td>...</td>\n",
       "      <td>...</td>\n",
       "      <td>...</td>\n",
       "    </tr>\n",
       "    <tr>\n",
       "      <th>1774</th>\n",
       "      <td>GAP!</td>\n",
       "      <td>Laura</td>\n",
       "      <td>Circuit Training</td>\n",
       "      <td>Full Body</td>\n",
       "      <td>45.0</td>\n",
       "      <td>6/2/2021</td>\n",
       "      <td>NaN</td>\n",
       "      <td>NaN</td>\n",
       "      <td>JuanC</td>\n",
       "    </tr>\n",
       "    <tr>\n",
       "      <th>1775</th>\n",
       "      <td>Quemador!</td>\n",
       "      <td>Laura</td>\n",
       "      <td>Circuit Training</td>\n",
       "      <td>Full Body</td>\n",
       "      <td>45.0</td>\n",
       "      <td>6/4/2021</td>\n",
       "      <td>NaN</td>\n",
       "      <td>NaN</td>\n",
       "      <td>JuanC</td>\n",
       "    </tr>\n",
       "    <tr>\n",
       "      <th>1776</th>\n",
       "      <td>Full body!</td>\n",
       "      <td>Laura</td>\n",
       "      <td>Circuit Training</td>\n",
       "      <td>Full Body</td>\n",
       "      <td>30.0</td>\n",
       "      <td>5/31/2021</td>\n",
       "      <td>NaN</td>\n",
       "      <td>NaN</td>\n",
       "      <td>Elena</td>\n",
       "    </tr>\n",
       "    <tr>\n",
       "      <th>1777</th>\n",
       "      <td>GAP!</td>\n",
       "      <td>Laura</td>\n",
       "      <td>Circuit Training</td>\n",
       "      <td>Full Body</td>\n",
       "      <td>30.0</td>\n",
       "      <td>6/2/2021</td>\n",
       "      <td>NaN</td>\n",
       "      <td>NaN</td>\n",
       "      <td>Elena</td>\n",
       "    </tr>\n",
       "    <tr>\n",
       "      <th>1778</th>\n",
       "      <td>Quemador!</td>\n",
       "      <td>Laura</td>\n",
       "      <td>Circuit Training</td>\n",
       "      <td>Full Body</td>\n",
       "      <td>30.0</td>\n",
       "      <td>6/4/2021</td>\n",
       "      <td>NaN</td>\n",
       "      <td>NaN</td>\n",
       "      <td>Elena</td>\n",
       "    </tr>\n",
       "  </tbody>\n",
       "</table>\n",
       "<p>1489 rows × 9 columns</p>\n",
       "</div>"
      ],
      "text/plain": [
       "                        name   coach              type         zonas  \\\n",
       "0                 FitCircuit  Miriam  Circuit Training     Full Body   \n",
       "1          Fuerza Bienvenida   Oscar            Fuerza     Full Body   \n",
       "2       Fuerza Calentamiento   Oscar            Fuerza           NaN   \n",
       "3     Fuerza Calentamiento 2   Oscar            Fuerza           NaN   \n",
       "4            Primera Carrera   Oscar           Running  Piernas,Core   \n",
       "...                      ...     ...               ...           ...   \n",
       "1774                    GAP!   Laura  Circuit Training     Full Body   \n",
       "1775               Quemador!   Laura  Circuit Training     Full Body   \n",
       "1776              Full body!   Laura  Circuit Training     Full Body   \n",
       "1777                    GAP!   Laura  Circuit Training     Full Body   \n",
       "1778               Quemador!   Laura  Circuit Training     Full Body   \n",
       "\n",
       "      duration        date  Feedback completed      user  \n",
       "0         60.0  12/11/2019       NaN       NaN  Macarena  \n",
       "1         75.0   9/28/2020       8.0   checked     Angel  \n",
       "2         75.0   9/29/2020       NaN   checked     Angel  \n",
       "3         75.0   9/30/2020       NaN   checked     Angel  \n",
       "4         60.0   10/1/2020       NaN   checked     Borja  \n",
       "...        ...         ...       ...       ...       ...  \n",
       "1774      45.0    6/2/2021       NaN       NaN     JuanC  \n",
       "1775      45.0    6/4/2021       NaN       NaN     JuanC  \n",
       "1776      30.0   5/31/2021       NaN       NaN     Elena  \n",
       "1777      30.0    6/2/2021       NaN       NaN     Elena  \n",
       "1778      30.0    6/4/2021       NaN       NaN     Elena  \n",
       "\n",
       "[1489 rows x 9 columns]"
      ]
     },
     "execution_count": 286,
     "metadata": {},
     "output_type": "execute_result"
    }
   ],
   "source": [
    "df_workouts"
   ]
  },
  {
   "cell_type": "markdown",
   "id": "suspected-heaven",
   "metadata": {},
   "source": [
    "## CHECK WORKOUT"
   ]
  },
  {
   "cell_type": "code",
   "execution_count": 287,
   "id": "royal-custom",
   "metadata": {
    "ExecuteTime": {
     "end_time": "2021-08-02T20:40:48.216249Z",
     "start_time": "2021-08-02T20:40:48.211597Z"
    }
   },
   "outputs": [],
   "source": [
    "df_workouts['completed'] = df_workouts['completed'].fillna('not checked')"
   ]
  },
  {
   "cell_type": "code",
   "execution_count": 288,
   "id": "sitting-surname",
   "metadata": {
    "ExecuteTime": {
     "end_time": "2021-08-02T20:40:49.122728Z",
     "start_time": "2021-08-02T20:40:49.112170Z"
    }
   },
   "outputs": [],
   "source": [
    "df_check = df_workouts"
   ]
  },
  {
   "cell_type": "code",
   "execution_count": 289,
   "id": "crazy-setting",
   "metadata": {
    "ExecuteTime": {
     "end_time": "2021-08-02T20:40:49.700023Z",
     "start_time": "2021-08-02T20:40:49.678684Z"
    }
   },
   "outputs": [
    {
     "data": {
      "text/html": [
       "<div>\n",
       "<style scoped>\n",
       "    .dataframe tbody tr th:only-of-type {\n",
       "        vertical-align: middle;\n",
       "    }\n",
       "\n",
       "    .dataframe tbody tr th {\n",
       "        vertical-align: top;\n",
       "    }\n",
       "\n",
       "    .dataframe thead th {\n",
       "        text-align: right;\n",
       "    }\n",
       "</style>\n",
       "<table border=\"1\" class=\"dataframe\">\n",
       "  <thead>\n",
       "    <tr style=\"text-align: right;\">\n",
       "      <th></th>\n",
       "      <th>name</th>\n",
       "      <th>coach</th>\n",
       "      <th>type</th>\n",
       "      <th>zonas</th>\n",
       "      <th>duration</th>\n",
       "      <th>date</th>\n",
       "      <th>Feedback</th>\n",
       "      <th>completed</th>\n",
       "      <th>user</th>\n",
       "    </tr>\n",
       "  </thead>\n",
       "  <tbody>\n",
       "    <tr>\n",
       "      <th>0</th>\n",
       "      <td>FitCircuit</td>\n",
       "      <td>Miriam</td>\n",
       "      <td>Circuit Training</td>\n",
       "      <td>Full Body</td>\n",
       "      <td>60.0</td>\n",
       "      <td>12/11/2019</td>\n",
       "      <td>NaN</td>\n",
       "      <td>not checked</td>\n",
       "      <td>Macarena</td>\n",
       "    </tr>\n",
       "    <tr>\n",
       "      <th>1</th>\n",
       "      <td>Fuerza Bienvenida</td>\n",
       "      <td>Oscar</td>\n",
       "      <td>Fuerza</td>\n",
       "      <td>Full Body</td>\n",
       "      <td>75.0</td>\n",
       "      <td>9/28/2020</td>\n",
       "      <td>8.0</td>\n",
       "      <td>checked</td>\n",
       "      <td>Angel</td>\n",
       "    </tr>\n",
       "    <tr>\n",
       "      <th>2</th>\n",
       "      <td>Fuerza Calentamiento</td>\n",
       "      <td>Oscar</td>\n",
       "      <td>Fuerza</td>\n",
       "      <td>NaN</td>\n",
       "      <td>75.0</td>\n",
       "      <td>9/29/2020</td>\n",
       "      <td>NaN</td>\n",
       "      <td>checked</td>\n",
       "      <td>Angel</td>\n",
       "    </tr>\n",
       "  </tbody>\n",
       "</table>\n",
       "</div>"
      ],
      "text/plain": [
       "                   name   coach              type      zonas  duration  \\\n",
       "0            FitCircuit  Miriam  Circuit Training  Full Body      60.0   \n",
       "1     Fuerza Bienvenida   Oscar            Fuerza  Full Body      75.0   \n",
       "2  Fuerza Calentamiento   Oscar            Fuerza        NaN      75.0   \n",
       "\n",
       "         date  Feedback    completed      user  \n",
       "0  12/11/2019       NaN  not checked  Macarena  \n",
       "1   9/28/2020       8.0      checked     Angel  \n",
       "2   9/29/2020       NaN      checked     Angel  "
      ]
     },
     "execution_count": 289,
     "metadata": {},
     "output_type": "execute_result"
    }
   ],
   "source": [
    "df_check.head(3)"
   ]
  },
  {
   "cell_type": "markdown",
   "id": "patient-grave",
   "metadata": {},
   "source": [
    "### CHECK WORKOUT GENERAL"
   ]
  },
  {
   "cell_type": "code",
   "execution_count": 290,
   "id": "biological-determination",
   "metadata": {
    "ExecuteTime": {
     "end_time": "2021-08-02T20:40:51.019052Z",
     "start_time": "2021-08-02T20:40:51.012069Z"
    }
   },
   "outputs": [],
   "source": [
    "df_check = df_workouts[['user','completed', 'Feedback']]"
   ]
  },
  {
   "cell_type": "code",
   "execution_count": 291,
   "id": "informative-palestinian",
   "metadata": {
    "ExecuteTime": {
     "end_time": "2021-08-02T20:40:51.575819Z",
     "start_time": "2021-08-02T20:40:51.559944Z"
    }
   },
   "outputs": [],
   "source": [
    "df_check = df_check.groupby('completed').count()"
   ]
  },
  {
   "cell_type": "code",
   "execution_count": 292,
   "id": "disabled-opportunity",
   "metadata": {
    "ExecuteTime": {
     "end_time": "2021-08-02T20:40:52.127378Z",
     "start_time": "2021-08-02T20:40:52.114939Z"
    }
   },
   "outputs": [
    {
     "data": {
      "text/html": [
       "<div>\n",
       "<style scoped>\n",
       "    .dataframe tbody tr th:only-of-type {\n",
       "        vertical-align: middle;\n",
       "    }\n",
       "\n",
       "    .dataframe tbody tr th {\n",
       "        vertical-align: top;\n",
       "    }\n",
       "\n",
       "    .dataframe thead th {\n",
       "        text-align: right;\n",
       "    }\n",
       "</style>\n",
       "<table border=\"1\" class=\"dataframe\">\n",
       "  <thead>\n",
       "    <tr style=\"text-align: right;\">\n",
       "      <th></th>\n",
       "      <th>completed</th>\n",
       "      <th>user</th>\n",
       "      <th>Feedback</th>\n",
       "    </tr>\n",
       "  </thead>\n",
       "  <tbody>\n",
       "    <tr>\n",
       "      <th>0</th>\n",
       "      <td>checked</td>\n",
       "      <td>577</td>\n",
       "      <td>506</td>\n",
       "    </tr>\n",
       "    <tr>\n",
       "      <th>1</th>\n",
       "      <td>not checked</td>\n",
       "      <td>912</td>\n",
       "      <td>0</td>\n",
       "    </tr>\n",
       "  </tbody>\n",
       "</table>\n",
       "</div>"
      ],
      "text/plain": [
       "     completed  user  Feedback\n",
       "0      checked   577       506\n",
       "1  not checked   912         0"
      ]
     },
     "execution_count": 292,
     "metadata": {},
     "output_type": "execute_result"
    }
   ],
   "source": [
    "df_check= df_check.reset_index()\n",
    "df_check"
   ]
  },
  {
   "cell_type": "code",
   "execution_count": 293,
   "id": "active-teach",
   "metadata": {
    "ExecuteTime": {
     "end_time": "2021-08-02T20:40:52.706809Z",
     "start_time": "2021-08-02T20:40:52.692747Z"
    }
   },
   "outputs": [
    {
     "data": {
      "text/plain": [
       "1489"
      ]
     },
     "execution_count": 293,
     "metadata": {},
     "output_type": "execute_result"
    }
   ],
   "source": [
    "total = df_check['user'].sum()\n",
    "total"
   ]
  },
  {
   "cell_type": "code",
   "execution_count": 294,
   "id": "marked-creature",
   "metadata": {
    "ExecuteTime": {
     "end_time": "2021-08-02T20:40:53.364948Z",
     "start_time": "2021-08-02T20:40:53.352330Z"
    }
   },
   "outputs": [],
   "source": [
    "df_check_c = (df_check.iloc[0,1]*100/total).round(1)\n",
    "df_check_nc = (df_check.iloc[1,1]*100/total).round(1)"
   ]
  },
  {
   "cell_type": "code",
   "execution_count": 295,
   "id": "regular-torture",
   "metadata": {
    "ExecuteTime": {
     "end_time": "2021-08-02T20:40:53.908782Z",
     "start_time": "2021-08-02T20:40:53.903281Z"
    }
   },
   "outputs": [
    {
     "data": {
      "text/plain": [
       "38.8"
      ]
     },
     "execution_count": 295,
     "metadata": {},
     "output_type": "execute_result"
    }
   ],
   "source": [
    "df_check_c"
   ]
  },
  {
   "cell_type": "code",
   "execution_count": 299,
   "id": "compatible-storage",
   "metadata": {
    "ExecuteTime": {
     "end_time": "2021-08-02T20:43:25.941297Z",
     "start_time": "2021-08-02T20:43:25.578382Z"
    }
   },
   "outputs": [
    {
     "data": {
      "image/png": "[encoded data removed]",
      "text/plain": [
       "<Figure size 432x288 with 1 Axes>"
      ]
     },
     "metadata": {},
     "output_type": "display_data"
    }
   ],
   "source": [
    "X = 2\n",
    "plt.bar(2 - 0.4, df_check_c , color='#B5EAEA')\n",
    "plt.text(1+1 / 2, 2 + 1 * 1.01, str(df_check_c) + '%', ha='center', weight='bold',size =25, color = 'white')\n",
    "plt.bar(2 + 0.4, df_check_nc, color='#F38BA0')\n",
    "plt.text(2 + 1 / 2, 2 + 1 * 1.01, str(df_check_nc) + '%', ha='center', weight='bold', size =25, color = 'white')\n",
    "plt.savefig(\"terminanwo.png\")\n",
    "plt.show()"
   ]
  },
  {
   "cell_type": "code",
   "execution_count": 300,
   "id": "integral-minority",
   "metadata": {
    "ExecuteTime": {
     "end_time": "2021-08-02T20:43:26.714401Z",
     "start_time": "2021-08-02T20:43:26.692700Z"
    }
   },
   "outputs": [],
   "source": [
    "df_check = df_workouts[['coach','completed']]\n",
    "df_checkt = df_check.groupby('coach').count()\n",
    "df_checkt = df_checkt.rename(columns={'completed':'total wo'})"
   ]
  },
  {
   "cell_type": "code",
   "execution_count": 301,
   "id": "spatial-correspondence",
   "metadata": {
    "ExecuteTime": {
     "end_time": "2021-08-02T20:43:26.741375Z",
     "start_time": "2021-08-02T20:43:26.723297Z"
    }
   },
   "outputs": [],
   "source": [
    "df_check_c = df_check[df_check['completed']=='checked']\n",
    "df_check_c = df_check_c.groupby('coach').count()\n",
    "df_check_c = df_check_c.rename(columns={'completed':'wo completed'})"
   ]
  },
  {
   "cell_type": "code",
   "execution_count": 302,
   "id": "joint-pathology",
   "metadata": {
    "ExecuteTime": {
     "end_time": "2021-08-02T20:43:27.069875Z",
     "start_time": "2021-08-02T20:43:27.053452Z"
    }
   },
   "outputs": [],
   "source": [
    "df_check_ic = df_check[df_check['completed']=='not checked']\n",
    "df_check_ic = df_check_ic.groupby('coach').count()\n",
    "df_check_ic = df_check_ic.rename(columns={'completed':'wo not completed'})"
   ]
  },
  {
   "cell_type": "code",
   "execution_count": 303,
   "id": "certified-agriculture",
   "metadata": {
    "ExecuteTime": {
     "end_time": "2021-08-02T20:43:29.471523Z",
     "start_time": "2021-08-02T20:43:29.447370Z"
    }
   },
   "outputs": [
    {
     "data": {
      "text/html": [
       "<div>\n",
       "<style scoped>\n",
       "    .dataframe tbody tr th:only-of-type {\n",
       "        vertical-align: middle;\n",
       "    }\n",
       "\n",
       "    .dataframe tbody tr th {\n",
       "        vertical-align: top;\n",
       "    }\n",
       "\n",
       "    .dataframe thead th {\n",
       "        text-align: right;\n",
       "    }\n",
       "</style>\n",
       "<table border=\"1\" class=\"dataframe\">\n",
       "  <thead>\n",
       "    <tr style=\"text-align: right;\">\n",
       "      <th></th>\n",
       "      <th>total wo</th>\n",
       "      <th>wo completed</th>\n",
       "      <th>wo not completed</th>\n",
       "    </tr>\n",
       "    <tr>\n",
       "      <th>coach</th>\n",
       "      <th></th>\n",
       "      <th></th>\n",
       "      <th></th>\n",
       "    </tr>\n",
       "  </thead>\n",
       "  <tbody>\n",
       "    <tr>\n",
       "      <th>Javier</th>\n",
       "      <td>171</td>\n",
       "      <td>86</td>\n",
       "      <td>85</td>\n",
       "    </tr>\n",
       "    <tr>\n",
       "      <th>Ken</th>\n",
       "      <td>2</td>\n",
       "      <td>1</td>\n",
       "      <td>1</td>\n",
       "    </tr>\n",
       "    <tr>\n",
       "      <th>Laura</th>\n",
       "      <td>268</td>\n",
       "      <td>102</td>\n",
       "      <td>166</td>\n",
       "    </tr>\n",
       "    <tr>\n",
       "      <th>Miriam</th>\n",
       "      <td>272</td>\n",
       "      <td>107</td>\n",
       "      <td>165</td>\n",
       "    </tr>\n",
       "    <tr>\n",
       "      <th>Oscar</th>\n",
       "      <td>776</td>\n",
       "      <td>281</td>\n",
       "      <td>495</td>\n",
       "    </tr>\n",
       "  </tbody>\n",
       "</table>\n",
       "</div>"
      ],
      "text/plain": [
       "        total wo  wo completed  wo not completed\n",
       "coach                                           \n",
       "Javier       171            86                85\n",
       "Ken            2             1                 1\n",
       "Laura        268           102               166\n",
       "Miriam       272           107               165\n",
       "Oscar        776           281               495"
      ]
     },
     "execution_count": 303,
     "metadata": {},
     "output_type": "execute_result"
    }
   ],
   "source": [
    "df_checkt['wo completed']= df_check_c['wo completed']\n",
    "df_checkt['wo not completed']= df_check_ic['wo not completed']\n",
    "df_checkt"
   ]
  },
  {
   "cell_type": "code",
   "execution_count": 304,
   "id": "focused-interstate",
   "metadata": {
    "ExecuteTime": {
     "end_time": "2021-08-02T20:43:29.569204Z",
     "start_time": "2021-08-02T20:43:29.484485Z"
    }
   },
   "outputs": [],
   "source": [
    "df_checkt['wo completed']= df_checkt.apply(lambda x: ((x['wo completed']*100)/(x['total wo'])).round(1), axis=1)\n",
    "df_checkt['wo not completed']= df_checkt.apply(lambda x: (x['wo not completed']*100/x['total wo']).round(1), axis = 1)"
   ]
  },
  {
   "cell_type": "code",
   "execution_count": 305,
   "id": "diverse-addition",
   "metadata": {
    "ExecuteTime": {
     "end_time": "2021-08-02T20:43:31.296232Z",
     "start_time": "2021-08-02T20:43:31.266737Z"
    }
   },
   "outputs": [],
   "source": [
    "df_checkt.drop(index ='Ken', inplace = True)\n"
   ]
  },
  {
   "cell_type": "code",
   "execution_count": 306,
   "id": "consolidated-vietnamese",
   "metadata": {
    "ExecuteTime": {
     "end_time": "2021-08-02T20:43:31.953397Z",
     "start_time": "2021-08-02T20:43:31.926662Z"
    }
   },
   "outputs": [
    {
     "data": {
      "text/html": [
       "<div>\n",
       "<style scoped>\n",
       "    .dataframe tbody tr th:only-of-type {\n",
       "        vertical-align: middle;\n",
       "    }\n",
       "\n",
       "    .dataframe tbody tr th {\n",
       "        vertical-align: top;\n",
       "    }\n",
       "\n",
       "    .dataframe thead th {\n",
       "        text-align: right;\n",
       "    }\n",
       "</style>\n",
       "<table border=\"1\" class=\"dataframe\">\n",
       "  <thead>\n",
       "    <tr style=\"text-align: right;\">\n",
       "      <th></th>\n",
       "      <th>total wo</th>\n",
       "      <th>wo completed</th>\n",
       "      <th>wo not completed</th>\n",
       "    </tr>\n",
       "    <tr>\n",
       "      <th>coach</th>\n",
       "      <th></th>\n",
       "      <th></th>\n",
       "      <th></th>\n",
       "    </tr>\n",
       "  </thead>\n",
       "  <tbody>\n",
       "    <tr>\n",
       "      <th>Javier</th>\n",
       "      <td>171</td>\n",
       "      <td>50.3</td>\n",
       "      <td>49.7</td>\n",
       "    </tr>\n",
       "    <tr>\n",
       "      <th>Laura</th>\n",
       "      <td>268</td>\n",
       "      <td>38.1</td>\n",
       "      <td>61.9</td>\n",
       "    </tr>\n",
       "    <tr>\n",
       "      <th>Miriam</th>\n",
       "      <td>272</td>\n",
       "      <td>39.3</td>\n",
       "      <td>60.7</td>\n",
       "    </tr>\n",
       "    <tr>\n",
       "      <th>Oscar</th>\n",
       "      <td>776</td>\n",
       "      <td>36.2</td>\n",
       "      <td>63.8</td>\n",
       "    </tr>\n",
       "  </tbody>\n",
       "</table>\n",
       "</div>"
      ],
      "text/plain": [
       "        total wo  wo completed  wo not completed\n",
       "coach                                           \n",
       "Javier       171          50.3              49.7\n",
       "Laura        268          38.1              61.9\n",
       "Miriam       272          39.3              60.7\n",
       "Oscar        776          36.2              63.8"
      ]
     },
     "execution_count": 306,
     "metadata": {},
     "output_type": "execute_result"
    }
   ],
   "source": [
    "df_checkt"
   ]
  },
  {
   "cell_type": "code",
   "execution_count": 307,
   "id": "verbal-testament",
   "metadata": {
    "ExecuteTime": {
     "end_time": "2021-08-02T20:43:33.022359Z",
     "start_time": "2021-08-02T20:43:32.955193Z"
    },
    "scrolled": true
   },
   "outputs": [
    {
     "data": {
      "text/html": [
       "<div>\n",
       "<style scoped>\n",
       "    .dataframe tbody tr th:only-of-type {\n",
       "        vertical-align: middle;\n",
       "    }\n",
       "\n",
       "    .dataframe tbody tr th {\n",
       "        vertical-align: top;\n",
       "    }\n",
       "\n",
       "    .dataframe thead th {\n",
       "        text-align: right;\n",
       "    }\n",
       "</style>\n",
       "<table border=\"1\" class=\"dataframe\">\n",
       "  <thead>\n",
       "    <tr style=\"text-align: right;\">\n",
       "      <th></th>\n",
       "      <th>Name</th>\n",
       "      <th>Status</th>\n",
       "      <th>Entrenadores</th>\n",
       "      <th>Cliente Desde</th>\n",
       "      <th>Nutricion</th>\n",
       "      <th>Nutrición Desde</th>\n",
       "      <th>Meses Nutri</th>\n",
       "      <th>Edad</th>\n",
       "      <th>Objetivo</th>\n",
       "      <th>Alimentacion</th>\n",
       "      <th>Fitness Band</th>\n",
       "      <th>Sex</th>\n",
       "    </tr>\n",
       "  </thead>\n",
       "  <tbody>\n",
       "    <tr>\n",
       "      <th>0</th>\n",
       "      <td>Ana</td>\n",
       "      <td>Churned</td>\n",
       "      <td>NaN</td>\n",
       "      <td>9/17/2020</td>\n",
       "      <td>NaN</td>\n",
       "      <td>9/17/2020</td>\n",
       "      <td>8.7</td>\n",
       "      <td>26.0</td>\n",
       "      <td>Mejorar rendimiento en un deporte</td>\n",
       "      <td>5.0</td>\n",
       "      <td>No tengo</td>\n",
       "      <td>0</td>\n",
       "    </tr>\n",
       "    <tr>\n",
       "      <th>1</th>\n",
       "      <td>Borja</td>\n",
       "      <td>Churned</td>\n",
       "      <td>Oscar</td>\n",
       "      <td>9/17/2020</td>\n",
       "      <td>NaN</td>\n",
       "      <td>9/17/2020</td>\n",
       "      <td>8.7</td>\n",
       "      <td>29.0</td>\n",
       "      <td>Mejorar cardio y/o resistencia</td>\n",
       "      <td>4.0</td>\n",
       "      <td>Polar</td>\n",
       "      <td>1</td>\n",
       "    </tr>\n",
       "    <tr>\n",
       "      <th>2</th>\n",
       "      <td>Angel</td>\n",
       "      <td>Churned</td>\n",
       "      <td>Oscar</td>\n",
       "      <td>9/22/2020</td>\n",
       "      <td>NaN</td>\n",
       "      <td>9/22/2020</td>\n",
       "      <td>8.5</td>\n",
       "      <td>20.0</td>\n",
       "      <td>Recuperarme de una lesión y/o reducir molestias</td>\n",
       "      <td>2.0</td>\n",
       "      <td>No tengo</td>\n",
       "      <td>1</td>\n",
       "    </tr>\n",
       "    <tr>\n",
       "      <th>3</th>\n",
       "      <td>Jose</td>\n",
       "      <td>Usuario</td>\n",
       "      <td>Oscar</td>\n",
       "      <td>9/28/2020</td>\n",
       "      <td>NaN</td>\n",
       "      <td>9/28/2020</td>\n",
       "      <td>8.3</td>\n",
       "      <td>31.0</td>\n",
       "      <td>Ganar masa muscular</td>\n",
       "      <td>3.0</td>\n",
       "      <td>Fitbit</td>\n",
       "      <td>1</td>\n",
       "    </tr>\n",
       "    <tr>\n",
       "      <th>4</th>\n",
       "      <td>Yago</td>\n",
       "      <td>Churned</td>\n",
       "      <td>Oscar</td>\n",
       "      <td>10/29/2020</td>\n",
       "      <td>NaN</td>\n",
       "      <td>10/29/2020</td>\n",
       "      <td>7.3</td>\n",
       "      <td>27.0</td>\n",
       "      <td>Ganar masa muscular</td>\n",
       "      <td>NaN</td>\n",
       "      <td>NaN</td>\n",
       "      <td>1</td>\n",
       "    </tr>\n",
       "    <tr>\n",
       "      <th>...</th>\n",
       "      <td>...</td>\n",
       "      <td>...</td>\n",
       "      <td>...</td>\n",
       "      <td>...</td>\n",
       "      <td>...</td>\n",
       "      <td>...</td>\n",
       "      <td>...</td>\n",
       "      <td>...</td>\n",
       "      <td>...</td>\n",
       "      <td>...</td>\n",
       "      <td>...</td>\n",
       "      <td>...</td>\n",
       "    </tr>\n",
       "    <tr>\n",
       "      <th>71</th>\n",
       "      <td>JuanC</td>\n",
       "      <td>Usuario</td>\n",
       "      <td>Laura</td>\n",
       "      <td>NaN</td>\n",
       "      <td>NaN</td>\n",
       "      <td>NaN</td>\n",
       "      <td>NaN</td>\n",
       "      <td>NaN</td>\n",
       "      <td>NaN</td>\n",
       "      <td>NaN</td>\n",
       "      <td>NaN</td>\n",
       "      <td>1</td>\n",
       "    </tr>\n",
       "    <tr>\n",
       "      <th>72</th>\n",
       "      <td>Esther</td>\n",
       "      <td>Out</td>\n",
       "      <td>Laura</td>\n",
       "      <td>NaN</td>\n",
       "      <td>NaN</td>\n",
       "      <td>NaN</td>\n",
       "      <td>NaN</td>\n",
       "      <td>NaN</td>\n",
       "      <td>NaN</td>\n",
       "      <td>NaN</td>\n",
       "      <td>NaN</td>\n",
       "      <td>0</td>\n",
       "    </tr>\n",
       "    <tr>\n",
       "      <th>73</th>\n",
       "      <td>Oskar</td>\n",
       "      <td>Out</td>\n",
       "      <td>Oscar</td>\n",
       "      <td>NaN</td>\n",
       "      <td>NaN</td>\n",
       "      <td>NaN</td>\n",
       "      <td>NaN</td>\n",
       "      <td>NaN</td>\n",
       "      <td>NaN</td>\n",
       "      <td>NaN</td>\n",
       "      <td>NaN</td>\n",
       "      <td>1</td>\n",
       "    </tr>\n",
       "    <tr>\n",
       "      <th>74</th>\n",
       "      <td>Matilde</td>\n",
       "      <td>Out</td>\n",
       "      <td>Laura</td>\n",
       "      <td>NaN</td>\n",
       "      <td>NaN</td>\n",
       "      <td>NaN</td>\n",
       "      <td>NaN</td>\n",
       "      <td>NaN</td>\n",
       "      <td>NaN</td>\n",
       "      <td>NaN</td>\n",
       "      <td>NaN</td>\n",
       "      <td>0</td>\n",
       "    </tr>\n",
       "    <tr>\n",
       "      <th>75</th>\n",
       "      <td>JoseM</td>\n",
       "      <td>Out</td>\n",
       "      <td>Laura</td>\n",
       "      <td>NaN</td>\n",
       "      <td>NaN</td>\n",
       "      <td>NaN</td>\n",
       "      <td>NaN</td>\n",
       "      <td>NaN</td>\n",
       "      <td>NaN</td>\n",
       "      <td>NaN</td>\n",
       "      <td>NaN</td>\n",
       "      <td>1</td>\n",
       "    </tr>\n",
       "  </tbody>\n",
       "</table>\n",
       "<p>66 rows × 12 columns</p>\n",
       "</div>"
      ],
      "text/plain": [
       "       Name   Status Entrenadores Cliente Desde Nutricion Nutrición Desde  \\\n",
       "0       Ana  Churned          NaN     9/17/2020       NaN       9/17/2020   \n",
       "1     Borja  Churned        Oscar     9/17/2020       NaN       9/17/2020   \n",
       "2     Angel  Churned        Oscar     9/22/2020       NaN       9/22/2020   \n",
       "3      Jose  Usuario        Oscar     9/28/2020       NaN       9/28/2020   \n",
       "4      Yago  Churned        Oscar    10/29/2020       NaN      10/29/2020   \n",
       "..      ...      ...          ...           ...       ...             ...   \n",
       "71    JuanC  Usuario        Laura           NaN       NaN             NaN   \n",
       "72   Esther      Out        Laura           NaN       NaN             NaN   \n",
       "73    Oskar      Out        Oscar           NaN       NaN             NaN   \n",
       "74  Matilde      Out        Laura           NaN       NaN             NaN   \n",
       "75    JoseM      Out        Laura           NaN       NaN             NaN   \n",
       "\n",
       "    Meses Nutri  Edad                                         Objetivo  \\\n",
       "0           8.7  26.0                Mejorar rendimiento en un deporte   \n",
       "1           8.7  29.0                   Mejorar cardio y/o resistencia   \n",
       "2           8.5  20.0  Recuperarme de una lesión y/o reducir molestias   \n",
       "3           8.3  31.0                              Ganar masa muscular   \n",
       "4           7.3  27.0                              Ganar masa muscular   \n",
       "..          ...   ...                                              ...   \n",
       "71          NaN   NaN                                              NaN   \n",
       "72          NaN   NaN                                              NaN   \n",
       "73          NaN   NaN                                              NaN   \n",
       "74          NaN   NaN                                              NaN   \n",
       "75          NaN   NaN                                              NaN   \n",
       "\n",
       "    Alimentacion Fitness Band  Sex  \n",
       "0            5.0     No tengo    0  \n",
       "1            4.0        Polar    1  \n",
       "2            2.0     No tengo    1  \n",
       "3            3.0       Fitbit    1  \n",
       "4            NaN          NaN    1  \n",
       "..           ...          ...  ...  \n",
       "71           NaN          NaN    1  \n",
       "72           NaN          NaN    0  \n",
       "73           NaN          NaN    1  \n",
       "74           NaN          NaN    0  \n",
       "75           NaN          NaN    1  \n",
       "\n",
       "[66 rows x 12 columns]"
      ]
     },
     "execution_count": 307,
     "metadata": {},
     "output_type": "execute_result"
    }
   ],
   "source": [
    "df_clientes"
   ]
  },
  {
   "cell_type": "code",
   "execution_count": 308,
   "id": "attached-disco",
   "metadata": {
    "ExecuteTime": {
     "end_time": "2021-08-02T20:43:34.495055Z",
     "start_time": "2021-08-02T20:43:34.469584Z"
    }
   },
   "outputs": [],
   "source": [
    "client_coach = (df_clientes[df_clientes['Status']!='Formulario']).groupby('Entrenadores').count()\n",
    "status_coach_in = (df_clientes[(df_clientes['Status']=='Churned')|\n",
    "                               (df_clientes['Status']=='Usuario')]).groupby('Entrenadores').count()\n",
    "status_coach_out = (df_clientes[df_clientes['Status']=='Out']).groupby('Entrenadores').count()"
   ]
  },
  {
   "cell_type": "code",
   "execution_count": 309,
   "id": "cellular-source",
   "metadata": {
    "ExecuteTime": {
     "end_time": "2021-08-02T20:43:35.745030Z",
     "start_time": "2021-08-02T20:43:35.732170Z"
    }
   },
   "outputs": [],
   "source": [
    "df_checkt['n clients']= client_coach['Name']"
   ]
  },
  {
   "cell_type": "code",
   "execution_count": 310,
   "id": "mexican-census",
   "metadata": {
    "ExecuteTime": {
     "end_time": "2021-08-02T20:43:36.380073Z",
     "start_time": "2021-08-02T20:43:36.369776Z"
    }
   },
   "outputs": [],
   "source": [
    "df_checkt = df_checkt.reset_index()"
   ]
  },
  {
   "cell_type": "code",
   "execution_count": 311,
   "id": "square-syndicate",
   "metadata": {
    "ExecuteTime": {
     "end_time": "2021-08-02T20:43:36.997643Z",
     "start_time": "2021-08-02T20:43:36.980459Z"
    }
   },
   "outputs": [],
   "source": [
    "df_checkt['wo completed']= df_checkt.apply(lambda x: ((x['wo completed']*x['n clients'])/100),\n",
    "                                           axis=1)\n",
    "df_checkt['wo not completed']= df_checkt.apply(lambda x: ((x['wo not completed']*x['n clients'])/100), \n",
    "                                               axis = 1)"
   ]
  },
  {
   "cell_type": "code",
   "execution_count": 323,
   "id": "magnetic-dakota",
   "metadata": {
    "ExecuteTime": {
     "end_time": "2021-08-02T20:51:43.052034Z",
     "start_time": "2021-08-02T20:51:43.029084Z"
    },
    "scrolled": true
   },
   "outputs": [
    {
     "data": {
      "text/html": [
       "<div>\n",
       "<style scoped>\n",
       "    .dataframe tbody tr th:only-of-type {\n",
       "        vertical-align: middle;\n",
       "    }\n",
       "\n",
       "    .dataframe tbody tr th {\n",
       "        vertical-align: top;\n",
       "    }\n",
       "\n",
       "    .dataframe thead th {\n",
       "        text-align: right;\n",
       "    }\n",
       "</style>\n",
       "<table border=\"1\" class=\"dataframe\">\n",
       "  <thead>\n",
       "    <tr style=\"text-align: right;\">\n",
       "      <th></th>\n",
       "      <th>total wo</th>\n",
       "      <th>wo completed</th>\n",
       "      <th>wo not completed</th>\n",
       "      <th>n clients</th>\n",
       "    </tr>\n",
       "    <tr>\n",
       "      <th>coach</th>\n",
       "      <th></th>\n",
       "      <th></th>\n",
       "      <th></th>\n",
       "      <th></th>\n",
       "    </tr>\n",
       "  </thead>\n",
       "  <tbody>\n",
       "    <tr>\n",
       "      <th>Javier</th>\n",
       "      <td>171</td>\n",
       "      <td>4.5</td>\n",
       "      <td>4.5</td>\n",
       "      <td>9</td>\n",
       "    </tr>\n",
       "    <tr>\n",
       "      <th>Laura</th>\n",
       "      <td>268</td>\n",
       "      <td>9.5</td>\n",
       "      <td>15.5</td>\n",
       "      <td>25</td>\n",
       "    </tr>\n",
       "    <tr>\n",
       "      <th>Miriam</th>\n",
       "      <td>272</td>\n",
       "      <td>2.0</td>\n",
       "      <td>3.0</td>\n",
       "      <td>5</td>\n",
       "    </tr>\n",
       "    <tr>\n",
       "      <th>Oscar</th>\n",
       "      <td>776</td>\n",
       "      <td>6.5</td>\n",
       "      <td>11.5</td>\n",
       "      <td>18</td>\n",
       "    </tr>\n",
       "  </tbody>\n",
       "</table>\n",
       "</div>"
      ],
      "text/plain": [
       "        total wo  wo completed  wo not completed  n clients\n",
       "coach                                                      \n",
       "Javier       171           4.5               4.5          9\n",
       "Laura        268           9.5              15.5         25\n",
       "Miriam       272           2.0               3.0          5\n",
       "Oscar        776           6.5              11.5         18"
      ]
     },
     "execution_count": 323,
     "metadata": {},
     "output_type": "execute_result"
    }
   ],
   "source": [
    "df_checkt = df_checkt.round(1)\n",
    "df_checkt .set_index('coach',inplace=True)\n",
    "df_checkt "
   ]
  },
  {
   "cell_type": "code",
   "execution_count": 324,
   "id": "ready-integrity",
   "metadata": {
    "ExecuteTime": {
     "end_time": "2021-08-02T20:51:45.354047Z",
     "start_time": "2021-08-02T20:51:45.056973Z"
    }
   },
   "outputs": [
    {
     "data": {
      "image/png": "[encoded data removed]",
      "text/plain": [
       "<Figure size 1080x576 with 1 Axes>"
      ]
     },
     "metadata": {},
     "output_type": "display_data"
    }
   ],
   "source": [
    "df = df_checkt [['wo completed', 'wo not completed']]\n",
    "ax = df.plot.barh(stacked=True, color=['#B5EAEA','#F38BA0']);\n",
    "\n",
    "ax.figure.set_size_inches(15,8)\n",
    "legend = ax.legend(loc='upper right', shadow=True, fontsize='x-small')\n",
    "\n",
    "# Put a nicer background color on the legend.\n",
    "legend.get_frame().set_facecolor('white')"
   ]
  },
  {
   "cell_type": "code",
   "execution_count": 327,
   "id": "preliminary-sphere",
   "metadata": {
    "ExecuteTime": {
     "end_time": "2021-08-02T20:53:12.768724Z",
     "start_time": "2021-08-02T20:53:11.437563Z"
    }
   },
   "outputs": [],
   "source": [
    "import plotly.express as px\n",
    "import squarify"
   ]
  },
  {
   "cell_type": "code",
   "execution_count": 334,
   "id": "gorgeous-windsor",
   "metadata": {
    "ExecuteTime": {
     "end_time": "2021-08-02T20:54:18.988297Z",
     "start_time": "2021-08-02T20:54:18.851664Z"
    },
    "scrolled": false
   },
   "outputs": [
    {
     "data": {
      "image/png": "[encoded data removed]",
      "text/plain": [
       "<Figure size 432x288 with 1 Axes>"
      ]
     },
     "metadata": {},
     "output_type": "display_data"
    }
   ],
   "source": [
    "squarify.plot(sizes=df_checkt['n clients'],\n",
    "              label=df_checkt.index,\n",
    "              alpha=0.6,\n",
    "              color=['#F38BA0','#B5EAEA','#EDF6E5', '#FFBCBC']\n",
    "             )\n",
    "plt.axis('off')\n",
    "plt.show()"
   ]
  }
 ],
 "metadata": {
  "celltoolbar": "Slideshow",
  "hide_input": false,
  "kernelspec": {
   "display_name": "Python 3",
   "language": "python",
   "name": "python3"
  },
  "language_info": {
   "codemirror_mode": {
    "name": "ipython",
    "version": 3
   },
   "file_extension": ".py",
   "mimetype": "text/x-python",
   "name": "python",
   "nbconvert_exporter": "python",
   "pygments_lexer": "ipython3",
   "version": "3.8.5"
  },
  "toc": {
   "base_numbering": 1,
   "nav_menu": {},
   "number_sections": false,
   "sideBar": true,
   "skip_h1_title": false,
   "title_cell": "Table of Contents",
   "title_sidebar": "Contents",
   "toc_cell": false,
   "toc_position": {
    "height": "calc(100% - 180px)",
    "left": "10px",
    "top": "150px",
    "width": "183px"
   },
   "toc_section_display": true,
   "toc_window_display": true
  },
  "varInspector": {
   "cols": {
    "lenName": 16,
    "lenType": 16,
    "lenVar": 40
   },
   "kernels_config": {
    "python": {
     "delete_cmd_postfix": "",
     "delete_cmd_prefix": "del ",
     "library": "var_list.py",
     "varRefreshCmd": "print(var_dic_list())"
    },
    "r": {
     "delete_cmd_postfix": ") ",
     "delete_cmd_prefix": "rm(",
     "library": "var_list.r",
     "varRefreshCmd": "cat(var_dic_list()) "
    }
   },
   "types_to_exclude": [
    "module",
    "function",
    "builtin_function_or_method",
    "instance",
    "_Feature"
   ],
   "window_display": false
  }
 },
 "nbformat": 4,
 "nbformat_minor": 5
}
